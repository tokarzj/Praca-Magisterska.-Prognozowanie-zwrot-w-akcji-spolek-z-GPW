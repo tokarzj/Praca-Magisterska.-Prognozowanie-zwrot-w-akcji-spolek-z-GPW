{
 "cells": [
  {
   "cell_type": "code",
   "execution_count": 1,
   "id": "celtic-sample",
   "metadata": {},
   "outputs": [],
   "source": [
    "# Packages \n",
    "using Pkg\n",
    "using XLSX\n",
    "using GLM\n",
    "# using PyPlot\n",
    "using PyCall\n",
    "using Statistics\n",
    "using DataFrames\n",
    "using FreqTables\n",
    "using Dates\n",
    "using Plots\n",
    "using StatsBase\n",
    "using StatsPlots \n",
    "#using MLBase\n",
    "using ScikitLearn\n",
    "using Impute\n",
    "using Missings\n",
    "gr()\n",
    "ENV[\"COLUMNS\"], ENV[\"LINES\"] = 200, 50\n",
    "ENV[\"GKS_ENCODING\"] = \"utf-8\";"
   ]
  },
  {
   "cell_type": "markdown",
   "id": "positive-torture",
   "metadata": {},
   "source": [
    "## Podział na zbiory treningowy,  walidacyjny, testowy"
   ]
  },
  {
   "cell_type": "code",
   "execution_count": 2,
   "id": "increased-recycling",
   "metadata": {},
   "outputs": [],
   "source": [
    "df = DataFrame(XLSX.readtable(\"df.xlsx\", \"Sheet1\")...); # wczytywanie danych "
   ]
  },
  {
   "cell_type": "code",
   "execution_count": null,
   "id": "welcome-share",
   "metadata": {},
   "outputs": [],
   "source": [
    "## Podział na zbiór treningowy, walidacyjny oraz testowy\n",
    "df_train = filter(:date => <=(Date(2014,1, 1)), df[:,:])\n",
    "df_validation = filter(:date => x -> x >(Date(2014,1,1)) && x <=(Date(2017,1, 1)) , df[:,:])\n",
    "df_test = filter(:date => x -> x >(Date(2017,1, 1)) && x <=(Date(2020,12,1)), df[:,:]) # dane z 2021 nie wejda do analizy\n",
    "size(df,1) == size(df_train,1) + size(df_test,1) + size(df_validation,1)"
   ]
  },
  {
   "cell_type": "code",
   "execution_count": null,
   "id": "casual-sense",
   "metadata": {},
   "outputs": [],
   "source": [
    "XLSX.writetable(\"df_train.xlsx\", collect(DataFrames.eachcol(df_train)), DataFrames.names(df_train))\n",
    "XLSX.writetable(\"df_validation.xlsx\", collect(DataFrames.eachcol(df_validation)), DataFrames.names(df_validation))\n",
    "XLSX.writetable(\"df_test.xlsx\", collect(DataFrames.eachcol(df_test)), DataFrames.names(df_test))  #zapis zbiorów"
   ]
  },
  {
   "cell_type": "markdown",
   "id": "foreign-louisiana",
   "metadata": {},
   "source": [
    "## Preporcessing"
   ]
  },
  {
   "cell_type": "code",
   "execution_count": 30,
   "id": "behind-posting",
   "metadata": {},
   "outputs": [],
   "source": [
    "df_train = DataFrame(XLSX.readtable(\"df_train.xlsx\", \"Sheet1\")...); # wczytywanie zbioru testowego"
   ]
  },
  {
   "cell_type": "code",
   "execution_count": 31,
   "id": "potential-arrangement",
   "metadata": {},
   "outputs": [],
   "source": [
    "# zmiana porządku kolumn\n",
    "select!(df_train, [:date,:company,:price, :mar_val, :tur_val, :cs_fl_sales, :ebit, :ebitda, :net_debt, :net_margin,\n",
    "        :op_inc, :tot_assets, :tot_capital, :tot_debt, :tot_liab, :op_prof_margin,:vol_5y, :vol_1y,:pr_cs_flow, :p_b_val, :beta, \n",
    "         :debt_to_eq, :roe, :roi,:div_yield, :bidask_spread, :per, :asset_growth, :cap_exp_gr, \n",
    "        :num_shar_gr, :long_debt_gr, :mom_1M, :mom_3M, :mom_6M, :mom_12M,:mom_24M, :Target_1M,:Target_3M]) \n",
    "df_train[!,3:38 ] = passmissing(convert).(Float64, df_train[!, 3:38]); # ustalenie typu danych "
   ]
  },
  {
   "cell_type": "code",
   "execution_count": 33,
   "id": "secret-windows",
   "metadata": {},
   "outputs": [],
   "source": [
    "#### Zastępowanie missing values \n",
    "\n",
    "#medianą \n",
    "Impute.substitute!(df_train.vol_5y, statistic = median)\n",
    "Impute.substitute!(df_train.per, statistic = median)\n",
    "Impute.substitute!(df_train.p_b_val, statistic = median)\n",
    "Impute.substitute!(df_train.beta, statistic = median)\n",
    "Impute.substitute!(df_train.vol_1y, statistic = median)\n",
    "Impute.substitute!(df_train.debt_to_eq, statistic = median)\n",
    "Impute.substitute!(df_train.roe, statistic = median)\n",
    "Impute.substitute!(df_train.roi, statistic = median)\n",
    "Impute.substitute!(df_train.bidask_spread, statistic = median)\n",
    "\n",
    "#zerami \n",
    "replace!(df_train.mom_1M, missing =>  0)\n",
    "replace!(df_train.mom_3M, missing =>  0)\n",
    "replace!(df_train.mom_6M, missing =>  0)\n",
    "replace!(df_train.mom_24M, missing =>  0)\n",
    "replace!(df_train.mom_12M, missing =>  0)\n",
    "\n",
    "replace!(df_train.div_yield, missing =>  0)\n",
    "replace!(df_train.asset_growth, missing =>  0)\n",
    "replace!(df_train.long_debt_gr, missing =>  0)\n",
    "replace!(df_train.cap_exp_gr, missing =>  0)\n",
    "replace!(df_train.num_shar_gr, missing =>  0)\n",
    "\n",
    "#pozostałe wskaźniki finansowe za pomocą KNN\n",
    "df_train[:, 4:20] = Impute.knn(Matrix(df_train[:,4:20]); k = 1, threshold = 0.5); "
   ]
  },
  {
   "cell_type": "markdown",
   "id": "temporal-jacksonville",
   "metadata": {},
   "source": [
    "## Standaryzacja po dacie"
   ]
  },
  {
   "cell_type": "code",
   "execution_count": 35,
   "id": "genuine-thanksgiving",
   "metadata": {},
   "outputs": [
    {
     "name": "stderr",
     "output_type": "stream",
     "text": [
      "WARNING: redefinition of constant LabelBinarizer. This may fail, cause incorrect answers, or produce other errors.\n",
      "WARNING: redefinition of constant StandardScaler. This may fail, cause incorrect answers, or produce other errors.\n",
      "WARNING: redefinition of constant RobustScaler. This may fail, cause incorrect answers, or produce other errors.\n",
      "WARNING: redefinition of constant PowerTransformer. This may fail, cause incorrect answers, or produce other errors.\n"
     ]
    }
   ],
   "source": [
    "@sk_import preprocessing: (LabelBinarizer, StandardScaler, RobustScaler, PowerTransformer)\n",
    "\n",
    "map = DataFrameMapper([([:date,:company,:price], nothing),\n",
    "([:mar_val, :tur_val], PowerTransformer(method=\"box-cox\")),\n",
    "([:cs_fl_sales, :ebit, :ebitda, :net_debt, :net_margin,:op_inc], StandardScaler()),\n",
    "([:tot_assets], PowerTransformer(method=\"box-cox\")),\n",
    "([:tot_capital, :tot_debt, :tot_liab, :op_prof_margin,:vol_5y, :vol_1y,:pr_cs_flow, :p_b_val], StandardScaler()),\n",
    "([:beta], nothing), \n",
    "([:debt_to_eq, :roe, :roi,:div_yield, :bidask_spread, :per, :asset_growth, :cap_exp_gr,:num_shar_gr, :long_debt_gr],StandardScaler()),\n",
    "([:mom_1M, :mom_3M, :mom_6M, :mom_12M,:mom_24M, :Target_1M,:Target_3M], nothing)]);"
   ]
  },
  {
   "cell_type": "code",
   "execution_count": 36,
   "id": "declared-jason",
   "metadata": {},
   "outputs": [],
   "source": [
    "function standardize(dataset)\n",
    "    dates = unique(dataset.date)\n",
    "    M = []\n",
    "    for i in dates \n",
    "        if i == dates[1]\n",
    "            crosssection = filter(:date => ==(i), copy(dataset[:,:]))\n",
    "            transform = fit_transform!(map, crosssection)\n",
    "            M = copy(transform)\n",
    "        else\n",
    "            crosssection = filter(:date => ==(i), copy(dataset[:,:]))\n",
    "            transform = fit_transform!(map, crosssection)     \n",
    "            M = vcat(M, transform)\n",
    "        end\n",
    "    end\n",
    "    dataset[:,:] = M\n",
    "end    \n",
    "\n",
    "standardize(df_train);"
   ]
  },
  {
   "cell_type": "markdown",
   "id": "tired-likelihood",
   "metadata": {},
   "source": [
    "## Preprocessing na zbiorze walidacyjnym"
   ]
  },
  {
   "cell_type": "code",
   "execution_count": 8,
   "id": "developed-looking",
   "metadata": {},
   "outputs": [],
   "source": [
    "df_validation = DataFrame(XLSX.readtable(\"df_validation.xlsx\", \"Sheet1\")...);\n",
    "\n",
    "select!(df_validation, [:date,:company,:price, :mar_val, :tur_val, :cs_fl_sales, :ebit, :ebitda, :net_debt, :net_margin,\n",
    "        :op_inc, :tot_assets, :tot_capital, :tot_debt, :tot_liab, :op_prof_margin,:vol_5y, :vol_1y,:pr_cs_flow, :p_b_val, :beta, \n",
    "         :debt_to_eq, :roe, :roi,:div_yield, :bidask_spread, :per, :asset_growth, :cap_exp_gr, \n",
    "        :num_shar_gr, :long_debt_gr, :mom_1M, :mom_3M, :mom_6M, :mom_12M,:mom_24M, :Target_1M,:Target_3M]) \n",
    "df_validation[!,3:38 ] = passmissing(convert).(Float64, df_validation[!, 3:38]);\n",
    "\n",
    "#### Zastępowanie missing values \n",
    "Impute.substitute!(df_validation.vol_5y, statistic = median)\n",
    "Impute.substitute!(df_validation.per, statistic = median)\n",
    "Impute.substitute!(df_validation.p_b_val, statistic = median)\n",
    "Impute.substitute!(df_validation.beta, statistic = median)\n",
    "Impute.substitute!(df_validation.vol_1y, statistic = median)\n",
    "Impute.substitute!(df_validation.debt_to_eq, statistic = median)\n",
    "Impute.substitute!(df_validation.roe, statistic = median)\n",
    "Impute.substitute!(df_validation.roi, statistic = median)\n",
    "\n",
    "replace!(df_validation.mom_1M, missing =>  0)\n",
    "replace!(df_validation.mom_3M, missing =>  0)\n",
    "replace!(df_validation.mom_6M, missing =>  0)\n",
    "replace!(df_validation.mom_24M, missing =>  0)\n",
    "replace!(df_validation.mom_12M, missing =>  0)\n",
    "\n",
    "replace!(df_validation.div_yield, missing =>  0)\n",
    "replace!(df_validation.asset_growth, missing =>  0)\n",
    "replace!(df_validation.long_debt_gr, missing =>  0)\n",
    "replace!(df_validation.cap_exp_gr, missing =>  0)\n",
    "replace!(df_validation.num_shar_gr, missing =>  0)\n",
    "\n",
    "Impute.substitute!(df_validation.bidask_spread, statistic = median)\n",
    "\n",
    "df_validation[:, 4:20] = Impute.knn(Matrix(df_validation[:,4:20]); k = 1, threshold = 0.5);  #pozostałe wskaźniki finansowe za pomocą KNN\n",
    "\n",
    "standardize(df_validation);"
   ]
  },
  {
   "cell_type": "markdown",
   "id": "assumed-links",
   "metadata": {},
   "source": [
    "## Modelowanie: Drzewo "
   ]
  },
  {
   "cell_type": "code",
   "execution_count": 9,
   "id": "opening-deputy",
   "metadata": {},
   "outputs": [],
   "source": [
    "df_train_numerical = copy(df_train[:, (4:36)])\n",
    "df_train_target = copy(df_train[:, (37:38)]);\n",
    "df_validation_numerical = copy(df_validation[:, (4:36)])\n",
    "df_validation_target = copy(df_validation[:, (37:38)]);"
   ]
  },
  {
   "cell_type": "code",
   "execution_count": 10,
   "id": "absolute-confirmation",
   "metadata": {},
   "outputs": [],
   "source": [
    "### Model \n",
    "@sk_import linear_model: LinearRegression\n",
    "@sk_import tree: DecisionTreeRegressor\n",
    "@sk_import tree: export_graphviz\n",
    "@sk_import ensemble:  RandomForestRegressor\n",
    "@sk_import metrics: explained_variance_score\n",
    "@sk_import metrics: mean_squared_error\n",
    "@sk_import metrics: mean_absolute_error\n",
    "@sk_import metrics:  r2_score;"
   ]
  },
  {
   "cell_type": "code",
   "execution_count": null,
   "id": "demographic-coating",
   "metadata": {},
   "outputs": [],
   "source": [
    "Random.seed!(100)\n",
    "model1 = DecisionTreeRegressor(random_state=100)\n",
    "path = model1.cost_complexity_pruning_path(Array(df_train_numerical), Array(df_train_target.Target_1M))\n",
    "ccp_alphas = get(path, \"ccp_alphas\",1)\n",
    "impurities = get(path, \"impurities\",1);\n",
    "Plots.plot(ccp_alphas, impurities, xlabel = \"alpha\", ylabel=\"Total impurity of leaves\"); # alpha pomiedzy 0 a 1.5 "
   ]
  },
  {
   "cell_type": "code",
   "execution_count": null,
   "id": "streaming-convert",
   "metadata": {},
   "outputs": [],
   "source": [
    "ccp_alpha = collect(0:0.1:1.5); \n",
    "ccp_alpha = collect(0.7:0.01:1.1);"
   ]
  },
  {
   "cell_type": "code",
   "execution_count": 13,
   "id": "arranged-works",
   "metadata": {},
   "outputs": [],
   "source": [
    "#ccp_alpha = collect(0:0.1:1.5); \n",
    "ccp_alpha = collect(0.55:0.01:1.0);\n",
    "train_mse = []\n",
    "validation_mse = []\n",
    "train_r2 = []\n",
    "validation_r2 = []\n",
    "\n",
    "for a in ccp_alpha\n",
    "    model = DecisionTreeRegressor(ccp_alpha = a, random_state=100)\n",
    "    ScikitLearn.fit!(model, Array(df_train_numerical) , Array(df_train_target.Target_1M))\n",
    "    MSE_t = mean_squared_error(model.predict(Array(df_train_numerical)), Array(df_train_target.Target_1M))\n",
    "    MSE_v = mean_squared_error(model.predict(Array(df_validation_numerical)), Array(df_validation_target.Target_1M))\n",
    "    r2_t = model.score(Array(df_train_numerical) , Array(df_train_target.Target_1M))\n",
    "    r2_v = model.score(Array(df_validation_numerical) , Array(df_validation_target.Target_1M))\n",
    "    push!(train_r2, r2_t)\n",
    "    push!(validation_r2, r2_v)\n",
    "    push!(train_mse, MSE_t)\n",
    "    push!(validation_mse, MSE_v)\n",
    "end"
   ]
  },
  {
   "cell_type": "code",
   "execution_count": 41,
   "id": "incorporate-gamma",
   "metadata": {},
   "outputs": [
    {
     "data": {
      "image/svg+xml": [
       "<?xml version=\"1.0\" encoding=\"utf-8\"?>\n",
       "<svg xmlns=\"http://www.w3.org/2000/svg\" xmlns:xlink=\"http://www.w3.org/1999/xlink\" width=\"600\" height=\"400\" viewBox=\"0 0 2400 1600\">\n",
       "<defs>\n",
       "  <clipPath id=\"clip210\">\n",
       "    <rect x=\"0\" y=\"0\" width=\"2400\" height=\"1600\"/>\n",
       "  </clipPath>\n",
       "</defs>\n",
       "<path clip-path=\"url(#clip210)\" d=\"\n",
       "M0 1600 L2400 1600 L2400 0 L0 0  Z\n",
       "  \" fill=\"#ffffff\" fill-rule=\"evenodd\" fill-opacity=\"1\"/>\n",
       "<defs>\n",
       "  <clipPath id=\"clip211\">\n",
       "    <rect x=\"480\" y=\"0\" width=\"1681\" height=\"1600\"/>\n",
       "  </clipPath>\n",
       "</defs>\n",
       "<path clip-path=\"url(#clip210)\" d=\"\n",
       "M232.389 1423.18 L2352.76 1423.18 L2352.76 47.2441 L232.389 47.2441  Z\n",
       "  \" fill=\"#ffffff\" fill-rule=\"evenodd\" fill-opacity=\"1\"/>\n",
       "<defs>\n",
       "  <clipPath id=\"clip212\">\n",
       "    <rect x=\"232\" y=\"47\" width=\"2121\" height=\"1377\"/>\n",
       "  </clipPath>\n",
       "</defs>\n",
       "<polyline clip-path=\"url(#clip212)\" style=\"stroke:#000000; stroke-linecap:butt; stroke-linejoin:round; stroke-width:2; stroke-opacity:0.1; fill:none\" points=\"\n",
       "  514.66,1423.18 514.66,47.2441 \n",
       "  \"/>\n",
       "<polyline clip-path=\"url(#clip212)\" style=\"stroke:#000000; stroke-linecap:butt; stroke-linejoin:round; stroke-width:2; stroke-opacity:0.1; fill:none\" points=\"\n",
       "  959.182,1423.18 959.182,47.2441 \n",
       "  \"/>\n",
       "<polyline clip-path=\"url(#clip212)\" style=\"stroke:#000000; stroke-linecap:butt; stroke-linejoin:round; stroke-width:2; stroke-opacity:0.1; fill:none\" points=\"\n",
       "  1403.7,1423.18 1403.7,47.2441 \n",
       "  \"/>\n",
       "<polyline clip-path=\"url(#clip212)\" style=\"stroke:#000000; stroke-linecap:butt; stroke-linejoin:round; stroke-width:2; stroke-opacity:0.1; fill:none\" points=\"\n",
       "  1848.22,1423.18 1848.22,47.2441 \n",
       "  \"/>\n",
       "<polyline clip-path=\"url(#clip212)\" style=\"stroke:#000000; stroke-linecap:butt; stroke-linejoin:round; stroke-width:2; stroke-opacity:0.1; fill:none\" points=\"\n",
       "  2292.75,1423.18 2292.75,47.2441 \n",
       "  \"/>\n",
       "<polyline clip-path=\"url(#clip210)\" style=\"stroke:#000000; stroke-linecap:butt; stroke-linejoin:round; stroke-width:4; stroke-opacity:1; fill:none\" points=\"\n",
       "  232.389,1423.18 2352.76,1423.18 \n",
       "  \"/>\n",
       "<polyline clip-path=\"url(#clip210)\" style=\"stroke:#000000; stroke-linecap:butt; stroke-linejoin:round; stroke-width:4; stroke-opacity:1; fill:none\" points=\"\n",
       "  514.66,1423.18 514.66,1404.28 \n",
       "  \"/>\n",
       "<polyline clip-path=\"url(#clip210)\" style=\"stroke:#000000; stroke-linecap:butt; stroke-linejoin:round; stroke-width:4; stroke-opacity:1; fill:none\" points=\"\n",
       "  959.182,1423.18 959.182,1404.28 \n",
       "  \"/>\n",
       "<polyline clip-path=\"url(#clip210)\" style=\"stroke:#000000; stroke-linecap:butt; stroke-linejoin:round; stroke-width:4; stroke-opacity:1; fill:none\" points=\"\n",
       "  1403.7,1423.18 1403.7,1404.28 \n",
       "  \"/>\n",
       "<polyline clip-path=\"url(#clip210)\" style=\"stroke:#000000; stroke-linecap:butt; stroke-linejoin:round; stroke-width:4; stroke-opacity:1; fill:none\" points=\"\n",
       "  1848.22,1423.18 1848.22,1404.28 \n",
       "  \"/>\n",
       "<polyline clip-path=\"url(#clip210)\" style=\"stroke:#000000; stroke-linecap:butt; stroke-linejoin:round; stroke-width:4; stroke-opacity:1; fill:none\" points=\"\n",
       "  2292.75,1423.18 2292.75,1404.28 \n",
       "  \"/>\n",
       "<path clip-path=\"url(#clip210)\" d=\"M491.964 1452.37 Q488.353 1452.37 486.524 1455.94 Q484.718 1459.48 484.718 1466.61 Q484.718 1473.71 486.524 1477.28 Q488.353 1480.82 491.964 1480.82 Q495.598 1480.82 497.404 1477.28 Q499.232 1473.71 499.232 1466.61 Q499.232 1459.48 497.404 1455.94 Q495.598 1452.37 491.964 1452.37 M491.964 1448.67 Q497.774 1448.67 500.829 1453.27 Q503.908 1457.86 503.908 1466.61 Q503.908 1475.33 500.829 1479.94 Q497.774 1484.52 491.964 1484.52 Q486.154 1484.52 483.075 1479.94 Q480.019 1475.33 480.019 1466.61 Q480.019 1457.86 483.075 1453.27 Q486.154 1448.67 491.964 1448.67 Z\" fill=\"#000000\" fill-rule=\"evenodd\" fill-opacity=\"1\" /><path clip-path=\"url(#clip210)\" d=\"M512.126 1477.97 L517.01 1477.97 L517.01 1483.85 L512.126 1483.85 L512.126 1477.97 Z\" fill=\"#000000\" fill-rule=\"evenodd\" fill-opacity=\"1\" /><path clip-path=\"url(#clip210)\" d=\"M537.774 1464.71 Q534.626 1464.71 532.774 1466.86 Q530.945 1469.01 530.945 1472.76 Q530.945 1476.49 532.774 1478.67 Q534.626 1480.82 537.774 1480.82 Q540.922 1480.82 542.75 1478.67 Q544.602 1476.49 544.602 1472.76 Q544.602 1469.01 542.75 1466.86 Q540.922 1464.71 537.774 1464.71 M547.056 1450.06 L547.056 1454.31 Q545.297 1453.48 543.491 1453.04 Q541.709 1452.6 539.95 1452.6 Q535.32 1452.6 532.866 1455.73 Q530.436 1458.85 530.089 1465.17 Q531.454 1463.16 533.514 1462.09 Q535.575 1461 538.051 1461 Q543.26 1461 546.269 1464.18 Q549.301 1467.32 549.301 1472.76 Q549.301 1478.09 546.153 1481.31 Q543.005 1484.52 537.774 1484.52 Q531.778 1484.52 528.607 1479.94 Q525.436 1475.33 525.436 1466.61 Q525.436 1458.41 529.325 1453.55 Q533.214 1448.67 539.764 1448.67 Q541.524 1448.67 543.306 1449.01 Q545.112 1449.36 547.056 1450.06 Z\" fill=\"#000000\" fill-rule=\"evenodd\" fill-opacity=\"1\" /><path clip-path=\"url(#clip210)\" d=\"M937.017 1452.37 Q933.406 1452.37 931.578 1455.94 Q929.772 1459.48 929.772 1466.61 Q929.772 1473.71 931.578 1477.28 Q933.406 1480.82 937.017 1480.82 Q940.652 1480.82 942.457 1477.28 Q944.286 1473.71 944.286 1466.61 Q944.286 1459.48 942.457 1455.94 Q940.652 1452.37 937.017 1452.37 M937.017 1448.67 Q942.828 1448.67 945.883 1453.27 Q948.962 1457.86 948.962 1466.61 Q948.962 1475.33 945.883 1479.94 Q942.828 1484.52 937.017 1484.52 Q931.207 1484.52 928.129 1479.94 Q925.073 1475.33 925.073 1466.61 Q925.073 1457.86 928.129 1453.27 Q931.207 1448.67 937.017 1448.67 Z\" fill=\"#000000\" fill-rule=\"evenodd\" fill-opacity=\"1\" /><path clip-path=\"url(#clip210)\" d=\"M957.179 1477.97 L962.064 1477.97 L962.064 1483.85 L957.179 1483.85 L957.179 1477.97 Z\" fill=\"#000000\" fill-rule=\"evenodd\" fill-opacity=\"1\" /><path clip-path=\"url(#clip210)\" d=\"M971.068 1449.29 L993.29 1449.29 L993.29 1451.28 L980.744 1483.85 L975.86 1483.85 L987.665 1453.23 L971.068 1453.23 L971.068 1449.29 Z\" fill=\"#000000\" fill-rule=\"evenodd\" fill-opacity=\"1\" /><path clip-path=\"url(#clip210)\" d=\"M1381.13 1452.37 Q1377.52 1452.37 1375.69 1455.94 Q1373.89 1459.48 1373.89 1466.61 Q1373.89 1473.71 1375.69 1477.28 Q1377.52 1480.82 1381.13 1480.82 Q1384.77 1480.82 1386.57 1477.28 Q1388.4 1473.71 1388.4 1466.61 Q1388.4 1459.48 1386.57 1455.94 Q1384.77 1452.37 1381.13 1452.37 M1381.13 1448.67 Q1386.94 1448.67 1390 1453.27 Q1393.08 1457.86 1393.08 1466.61 Q1393.08 1475.33 1390 1479.94 Q1386.94 1484.52 1381.13 1484.52 Q1375.32 1484.52 1372.24 1479.94 Q1369.19 1475.33 1369.19 1466.61 Q1369.19 1457.86 1372.24 1453.27 Q1375.32 1448.67 1381.13 1448.67 Z\" fill=\"#000000\" fill-rule=\"evenodd\" fill-opacity=\"1\" /><path clip-path=\"url(#clip210)\" d=\"M1401.3 1477.97 L1406.18 1477.97 L1406.18 1483.85 L1401.3 1483.85 L1401.3 1477.97 Z\" fill=\"#000000\" fill-rule=\"evenodd\" fill-opacity=\"1\" /><path clip-path=\"url(#clip210)\" d=\"M1426.36 1467.44 Q1423.03 1467.44 1421.11 1469.22 Q1419.21 1471 1419.21 1474.13 Q1419.21 1477.25 1421.11 1479.04 Q1423.03 1480.82 1426.36 1480.82 Q1429.7 1480.82 1431.62 1479.04 Q1433.54 1477.23 1433.54 1474.13 Q1433.54 1471 1431.62 1469.22 Q1429.72 1467.44 1426.36 1467.44 M1421.69 1465.45 Q1418.68 1464.71 1416.99 1462.65 Q1415.32 1460.59 1415.32 1457.63 Q1415.32 1453.48 1418.26 1451.07 Q1421.23 1448.67 1426.36 1448.67 Q1431.53 1448.67 1434.47 1451.07 Q1437.41 1453.48 1437.41 1457.63 Q1437.41 1460.59 1435.72 1462.65 Q1434.05 1464.71 1431.06 1465.45 Q1434.44 1466.24 1436.32 1468.53 Q1438.22 1470.82 1438.22 1474.13 Q1438.22 1479.15 1435.14 1481.84 Q1432.08 1484.52 1426.36 1484.52 Q1420.65 1484.52 1417.57 1481.84 Q1414.51 1479.15 1414.51 1474.13 Q1414.51 1470.82 1416.41 1468.53 Q1418.31 1466.24 1421.69 1465.45 M1419.98 1458.06 Q1419.98 1460.75 1421.64 1462.25 Q1423.33 1463.76 1426.36 1463.76 Q1429.37 1463.76 1431.06 1462.25 Q1432.78 1460.75 1432.78 1458.06 Q1432.78 1455.38 1431.06 1453.88 Q1429.37 1452.37 1426.36 1452.37 Q1423.33 1452.37 1421.64 1453.88 Q1419.98 1455.38 1419.98 1458.06 Z\" fill=\"#000000\" fill-rule=\"evenodd\" fill-opacity=\"1\" /><path clip-path=\"url(#clip210)\" d=\"M1825.7 1452.37 Q1822.09 1452.37 1820.26 1455.94 Q1818.46 1459.48 1818.46 1466.61 Q1818.46 1473.71 1820.26 1477.28 Q1822.09 1480.82 1825.7 1480.82 Q1829.34 1480.82 1831.14 1477.28 Q1832.97 1473.71 1832.97 1466.61 Q1832.97 1459.48 1831.14 1455.94 Q1829.34 1452.37 1825.7 1452.37 M1825.7 1448.67 Q1831.51 1448.67 1834.57 1453.27 Q1837.65 1457.86 1837.65 1466.61 Q1837.65 1475.33 1834.57 1479.94 Q1831.51 1484.52 1825.7 1484.52 Q1819.89 1484.52 1816.81 1479.94 Q1813.76 1475.33 1813.76 1466.61 Q1813.76 1457.86 1816.81 1453.27 Q1819.89 1448.67 1825.7 1448.67 Z\" fill=\"#000000\" fill-rule=\"evenodd\" fill-opacity=\"1\" /><path clip-path=\"url(#clip210)\" d=\"M1845.86 1477.97 L1850.75 1477.97 L1850.75 1483.85 L1845.86 1483.85 L1845.86 1477.97 Z\" fill=\"#000000\" fill-rule=\"evenodd\" fill-opacity=\"1\" /><path clip-path=\"url(#clip210)\" d=\"M1861.07 1483.13 L1861.07 1478.88 Q1862.83 1479.71 1864.64 1480.15 Q1866.44 1480.59 1868.18 1480.59 Q1872.81 1480.59 1875.24 1477.49 Q1877.69 1474.36 1878.04 1468.02 Q1876.7 1470.01 1874.64 1471.07 Q1872.58 1472.14 1870.08 1472.14 Q1864.89 1472.14 1861.86 1469.01 Q1858.85 1465.87 1858.85 1460.43 Q1858.85 1455.1 1862 1451.88 Q1865.15 1448.67 1870.38 1448.67 Q1876.37 1448.67 1879.52 1453.27 Q1882.69 1457.86 1882.69 1466.61 Q1882.69 1474.78 1878.8 1479.66 Q1874.94 1484.52 1868.39 1484.52 Q1866.63 1484.52 1864.82 1484.18 Q1863.02 1483.83 1861.07 1483.13 M1870.38 1468.48 Q1873.53 1468.48 1875.35 1466.33 Q1877.21 1464.18 1877.21 1460.43 Q1877.21 1456.7 1875.35 1454.55 Q1873.53 1452.37 1870.38 1452.37 Q1867.23 1452.37 1865.38 1454.55 Q1863.55 1456.7 1863.55 1460.43 Q1863.55 1464.18 1865.38 1466.33 Q1867.23 1468.48 1870.38 1468.48 Z\" fill=\"#000000\" fill-rule=\"evenodd\" fill-opacity=\"1\" /><path clip-path=\"url(#clip210)\" d=\"M2259.9 1479.92 L2267.54 1479.92 L2267.54 1453.55 L2259.23 1455.22 L2259.23 1450.96 L2267.49 1449.29 L2272.17 1449.29 L2272.17 1479.92 L2279.81 1479.92 L2279.81 1483.85 L2259.9 1483.85 L2259.9 1479.92 Z\" fill=\"#000000\" fill-rule=\"evenodd\" fill-opacity=\"1\" /><path clip-path=\"url(#clip210)\" d=\"M2289.25 1477.97 L2294.13 1477.97 L2294.13 1483.85 L2289.25 1483.85 L2289.25 1477.97 Z\" fill=\"#000000\" fill-rule=\"evenodd\" fill-opacity=\"1\" /><path clip-path=\"url(#clip210)\" d=\"M2314.32 1452.37 Q2310.71 1452.37 2308.88 1455.94 Q2307.07 1459.48 2307.07 1466.61 Q2307.07 1473.71 2308.88 1477.28 Q2310.71 1480.82 2314.32 1480.82 Q2317.95 1480.82 2319.76 1477.28 Q2321.59 1473.71 2321.59 1466.61 Q2321.59 1459.48 2319.76 1455.94 Q2317.95 1452.37 2314.32 1452.37 M2314.32 1448.67 Q2320.13 1448.67 2323.19 1453.27 Q2326.26 1457.86 2326.26 1466.61 Q2326.26 1475.33 2323.19 1479.94 Q2320.13 1484.52 2314.32 1484.52 Q2308.51 1484.52 2305.43 1479.94 Q2302.38 1475.33 2302.38 1466.61 Q2302.38 1457.86 2305.43 1453.27 Q2308.51 1448.67 2314.32 1448.67 Z\" fill=\"#000000\" fill-rule=\"evenodd\" fill-opacity=\"1\" /><path clip-path=\"url(#clip210)\" d=\"M1255.44 1550.12 Q1248.35 1550.12 1245.61 1551.75 Q1242.87 1553.37 1242.87 1557.29 Q1242.87 1560.4 1244.91 1562.25 Q1246.98 1564.07 1250.51 1564.07 Q1255.38 1564.07 1258.31 1560.63 Q1261.27 1557.16 1261.27 1551.43 L1261.27 1550.12 L1255.44 1550.12 M1267.13 1547.71 L1267.13 1568.04 L1261.27 1568.04 L1261.27 1562.63 Q1259.26 1565.88 1256.27 1567.44 Q1253.28 1568.97 1248.95 1568.97 Q1243.48 1568.97 1240.23 1565.91 Q1237.02 1562.82 1237.02 1557.67 Q1237.02 1551.65 1241.03 1548.6 Q1245.07 1545.54 1253.06 1545.54 L1261.27 1545.54 L1261.27 1544.97 Q1261.27 1540.93 1258.6 1538.73 Q1255.95 1536.5 1251.15 1536.5 Q1248.09 1536.5 1245.2 1537.23 Q1242.3 1537.97 1239.63 1539.43 L1239.63 1534.02 Q1242.84 1532.78 1245.86 1532.17 Q1248.89 1531.54 1251.75 1531.54 Q1259.49 1531.54 1263.31 1535.55 Q1267.13 1539.56 1267.13 1547.71 Z\" fill=\"#000000\" fill-rule=\"evenodd\" fill-opacity=\"1\" /><path clip-path=\"url(#clip210)\" d=\"M1279.19 1518.52 L1285.05 1518.52 L1285.05 1568.04 L1279.19 1568.04 L1279.19 1518.52 Z\" fill=\"#000000\" fill-rule=\"evenodd\" fill-opacity=\"1\" /><path clip-path=\"url(#clip210)\" d=\"M1315.35 1518.52 L1315.35 1523.39 L1309.74 1523.39 Q1306.59 1523.39 1305.35 1524.66 Q1304.14 1525.93 1304.14 1529.24 L1304.14 1532.4 L1313.79 1532.4 L1313.79 1536.95 L1304.14 1536.95 L1304.14 1568.04 L1298.25 1568.04 L1298.25 1536.95 L1292.65 1536.95 L1292.65 1532.4 L1298.25 1532.4 L1298.25 1529.91 Q1298.25 1523.96 1301.02 1521.26 Q1303.79 1518.52 1309.81 1518.52 L1315.35 1518.52 Z\" fill=\"#000000\" fill-rule=\"evenodd\" fill-opacity=\"1\" /><path clip-path=\"url(#clip210)\" d=\"M1336.45 1550.12 Q1329.35 1550.12 1326.61 1551.75 Q1323.88 1553.37 1323.88 1557.29 Q1323.88 1560.4 1325.91 1562.25 Q1327.98 1564.07 1331.51 1564.07 Q1336.38 1564.07 1339.31 1560.63 Q1342.27 1557.16 1342.27 1551.43 L1342.27 1550.12 L1336.45 1550.12 M1348.13 1547.71 L1348.13 1568.04 L1342.27 1568.04 L1342.27 1562.63 Q1340.27 1565.88 1337.28 1567.44 Q1334.28 1568.97 1329.96 1568.97 Q1324.48 1568.97 1321.23 1565.91 Q1318.02 1562.82 1318.02 1557.67 Q1318.02 1551.65 1322.03 1548.6 Q1326.07 1545.54 1334.06 1545.54 L1342.27 1545.54 L1342.27 1544.97 Q1342.27 1540.93 1339.6 1538.73 Q1336.96 1536.5 1332.15 1536.5 Q1329.1 1536.5 1326.2 1537.23 Q1323.3 1537.97 1320.63 1539.43 L1320.63 1534.02 Q1323.84 1532.78 1326.87 1532.17 Q1329.89 1531.54 1332.76 1531.54 Q1340.49 1531.54 1344.31 1535.55 Q1348.13 1539.56 1348.13 1547.71 Z\" fill=\"#000000\" fill-rule=\"evenodd\" fill-opacity=\"1\" /><polyline clip-path=\"url(#clip212)\" style=\"stroke:#000000; stroke-linecap:butt; stroke-linejoin:round; stroke-width:2; stroke-opacity:0.1; fill:none\" points=\"\n",
       "  232.389,1366.67 2352.76,1366.67 \n",
       "  \"/>\n",
       "<polyline clip-path=\"url(#clip212)\" style=\"stroke:#000000; stroke-linecap:butt; stroke-linejoin:round; stroke-width:2; stroke-opacity:0.1; fill:none\" points=\"\n",
       "  232.389,1143.79 2352.76,1143.79 \n",
       "  \"/>\n",
       "<polyline clip-path=\"url(#clip212)\" style=\"stroke:#000000; stroke-linecap:butt; stroke-linejoin:round; stroke-width:2; stroke-opacity:0.1; fill:none\" points=\"\n",
       "  232.389,920.907 2352.76,920.907 \n",
       "  \"/>\n",
       "<polyline clip-path=\"url(#clip212)\" style=\"stroke:#000000; stroke-linecap:butt; stroke-linejoin:round; stroke-width:2; stroke-opacity:0.1; fill:none\" points=\"\n",
       "  232.389,698.026 2352.76,698.026 \n",
       "  \"/>\n",
       "<polyline clip-path=\"url(#clip212)\" style=\"stroke:#000000; stroke-linecap:butt; stroke-linejoin:round; stroke-width:2; stroke-opacity:0.1; fill:none\" points=\"\n",
       "  232.389,475.146 2352.76,475.146 \n",
       "  \"/>\n",
       "<polyline clip-path=\"url(#clip212)\" style=\"stroke:#000000; stroke-linecap:butt; stroke-linejoin:round; stroke-width:2; stroke-opacity:0.1; fill:none\" points=\"\n",
       "  232.389,252.265 2352.76,252.265 \n",
       "  \"/>\n",
       "<polyline clip-path=\"url(#clip210)\" style=\"stroke:#000000; stroke-linecap:butt; stroke-linejoin:round; stroke-width:4; stroke-opacity:1; fill:none\" points=\"\n",
       "  232.389,1423.18 232.389,47.2441 \n",
       "  \"/>\n",
       "<polyline clip-path=\"url(#clip210)\" style=\"stroke:#000000; stroke-linecap:butt; stroke-linejoin:round; stroke-width:4; stroke-opacity:1; fill:none\" points=\"\n",
       "  232.389,1366.67 251.287,1366.67 \n",
       "  \"/>\n",
       "<polyline clip-path=\"url(#clip210)\" style=\"stroke:#000000; stroke-linecap:butt; stroke-linejoin:round; stroke-width:4; stroke-opacity:1; fill:none\" points=\"\n",
       "  232.389,1143.79 251.287,1143.79 \n",
       "  \"/>\n",
       "<polyline clip-path=\"url(#clip210)\" style=\"stroke:#000000; stroke-linecap:butt; stroke-linejoin:round; stroke-width:4; stroke-opacity:1; fill:none\" points=\"\n",
       "  232.389,920.907 251.287,920.907 \n",
       "  \"/>\n",
       "<polyline clip-path=\"url(#clip210)\" style=\"stroke:#000000; stroke-linecap:butt; stroke-linejoin:round; stroke-width:4; stroke-opacity:1; fill:none\" points=\"\n",
       "  232.389,698.026 251.287,698.026 \n",
       "  \"/>\n",
       "<polyline clip-path=\"url(#clip210)\" style=\"stroke:#000000; stroke-linecap:butt; stroke-linejoin:round; stroke-width:4; stroke-opacity:1; fill:none\" points=\"\n",
       "  232.389,475.146 251.287,475.146 \n",
       "  \"/>\n",
       "<polyline clip-path=\"url(#clip210)\" style=\"stroke:#000000; stroke-linecap:butt; stroke-linejoin:round; stroke-width:4; stroke-opacity:1; fill:none\" points=\"\n",
       "  232.389,252.265 251.287,252.265 \n",
       "  \"/>\n",
       "<path clip-path=\"url(#clip210)\" d=\"M115.927 1380.01 L123.566 1380.01 L123.566 1353.65 L115.256 1355.31 L115.256 1351.05 L123.519 1349.39 L128.195 1349.39 L128.195 1380.01 L135.834 1380.01 L135.834 1383.95 L115.927 1383.95 L115.927 1380.01 Z\" fill=\"#000000\" fill-rule=\"evenodd\" fill-opacity=\"1\" /><path clip-path=\"url(#clip210)\" d=\"M155.857 1364.8 Q152.709 1364.8 150.857 1366.96 Q149.028 1369.11 149.028 1372.86 Q149.028 1376.59 150.857 1378.76 Q152.709 1380.92 155.857 1380.92 Q159.005 1380.92 160.834 1378.76 Q162.686 1376.59 162.686 1372.86 Q162.686 1369.11 160.834 1366.96 Q159.005 1364.8 155.857 1364.8 M165.14 1350.15 L165.14 1354.41 Q163.38 1353.58 161.575 1353.14 Q159.792 1352.7 158.033 1352.7 Q153.403 1352.7 150.95 1355.82 Q148.519 1358.95 148.172 1365.27 Q149.538 1363.25 151.598 1362.19 Q153.658 1361.1 156.135 1361.1 Q161.343 1361.1 164.352 1364.27 Q167.385 1367.42 167.385 1372.86 Q167.385 1378.18 164.237 1381.4 Q161.089 1384.62 155.857 1384.62 Q149.862 1384.62 146.691 1380.04 Q143.519 1375.43 143.519 1366.7 Q143.519 1358.51 147.408 1353.65 Q151.297 1348.76 157.848 1348.76 Q159.607 1348.76 161.39 1349.11 Q163.195 1349.46 165.14 1350.15 Z\" fill=\"#000000\" fill-rule=\"evenodd\" fill-opacity=\"1\" /><path clip-path=\"url(#clip210)\" d=\"M175.487 1349.39 L193.843 1349.39 L193.843 1353.32 L179.769 1353.32 L179.769 1361.79 Q180.788 1361.45 181.806 1361.29 Q182.825 1361.1 183.843 1361.1 Q189.63 1361.1 193.01 1364.27 Q196.389 1367.44 196.389 1372.86 Q196.389 1378.44 192.917 1381.54 Q189.445 1384.62 183.126 1384.62 Q180.95 1384.62 178.681 1384.25 Q176.436 1383.88 174.028 1383.14 L174.028 1378.44 Q176.112 1379.57 178.334 1380.13 Q180.556 1380.68 183.033 1380.68 Q187.038 1380.68 189.375 1378.58 Q191.713 1376.47 191.713 1372.86 Q191.713 1369.25 189.375 1367.14 Q187.038 1365.04 183.033 1365.04 Q181.158 1365.04 179.283 1365.45 Q177.431 1365.87 175.487 1366.75 L175.487 1349.39 Z\" fill=\"#000000\" fill-rule=\"evenodd\" fill-opacity=\"1\" /><path clip-path=\"url(#clip210)\" d=\"M114.931 1157.13 L122.57 1157.13 L122.57 1130.77 L114.26 1132.43 L114.26 1128.17 L122.524 1126.51 L127.2 1126.51 L127.2 1157.13 L134.839 1157.13 L134.839 1161.07 L114.931 1161.07 L114.931 1157.13 Z\" fill=\"#000000\" fill-rule=\"evenodd\" fill-opacity=\"1\" /><path clip-path=\"url(#clip210)\" d=\"M143.103 1126.51 L165.325 1126.51 L165.325 1128.5 L152.778 1161.07 L147.894 1161.07 L159.7 1130.44 L143.103 1130.44 L143.103 1126.51 Z\" fill=\"#000000\" fill-rule=\"evenodd\" fill-opacity=\"1\" /><path clip-path=\"url(#clip210)\" d=\"M184.445 1129.59 Q180.834 1129.59 179.005 1133.15 Q177.2 1136.69 177.2 1143.82 Q177.2 1150.93 179.005 1154.49 Q180.834 1158.03 184.445 1158.03 Q188.079 1158.03 189.885 1154.49 Q191.713 1150.93 191.713 1143.82 Q191.713 1136.69 189.885 1133.15 Q188.079 1129.59 184.445 1129.59 M184.445 1125.88 Q190.255 1125.88 193.311 1130.49 Q196.389 1135.07 196.389 1143.82 Q196.389 1152.55 193.311 1157.15 Q190.255 1161.74 184.445 1161.74 Q178.635 1161.74 175.556 1157.15 Q172.501 1152.55 172.501 1143.82 Q172.501 1135.07 175.556 1130.49 Q178.635 1125.88 184.445 1125.88 Z\" fill=\"#000000\" fill-rule=\"evenodd\" fill-opacity=\"1\" /><path clip-path=\"url(#clip210)\" d=\"M115.927 934.251 L123.566 934.251 L123.566 907.886 L115.256 909.552 L115.256 905.293 L123.519 903.627 L128.195 903.627 L128.195 934.251 L135.834 934.251 L135.834 938.187 L115.927 938.187 L115.927 934.251 Z\" fill=\"#000000\" fill-rule=\"evenodd\" fill-opacity=\"1\" /><path clip-path=\"url(#clip210)\" d=\"M144.098 903.627 L166.32 903.627 L166.32 905.617 L153.774 938.187 L148.89 938.187 L160.695 907.562 L144.098 907.562 L144.098 903.627 Z\" fill=\"#000000\" fill-rule=\"evenodd\" fill-opacity=\"1\" /><path clip-path=\"url(#clip210)\" d=\"M175.487 903.627 L193.843 903.627 L193.843 907.562 L179.769 907.562 L179.769 916.034 Q180.788 915.687 181.806 915.525 Q182.825 915.339 183.843 915.339 Q189.63 915.339 193.01 918.511 Q196.389 921.682 196.389 927.099 Q196.389 932.677 192.917 935.779 Q189.445 938.858 183.126 938.858 Q180.95 938.858 178.681 938.487 Q176.436 938.117 174.028 937.376 L174.028 932.677 Q176.112 933.812 178.334 934.367 Q180.556 934.923 183.033 934.923 Q187.038 934.923 189.375 932.816 Q191.713 930.71 191.713 927.099 Q191.713 923.488 189.375 921.381 Q187.038 919.275 183.033 919.275 Q181.158 919.275 179.283 919.691 Q177.431 920.108 175.487 920.988 L175.487 903.627 Z\" fill=\"#000000\" fill-rule=\"evenodd\" fill-opacity=\"1\" /><path clip-path=\"url(#clip210)\" d=\"M114.931 711.371 L122.57 711.371 L122.57 685.005 L114.26 686.672 L114.26 682.413 L122.524 680.746 L127.2 680.746 L127.2 711.371 L134.839 711.371 L134.839 715.306 L114.931 715.306 L114.931 711.371 Z\" fill=\"#000000\" fill-rule=\"evenodd\" fill-opacity=\"1\" /><path clip-path=\"url(#clip210)\" d=\"M154.283 698.894 Q150.95 698.894 149.028 700.677 Q147.13 702.459 147.13 705.584 Q147.13 708.709 149.028 710.491 Q150.95 712.274 154.283 712.274 Q157.616 712.274 159.538 710.491 Q161.459 708.686 161.459 705.584 Q161.459 702.459 159.538 700.677 Q157.64 698.894 154.283 698.894 M149.607 696.903 Q146.598 696.163 144.908 694.102 Q143.241 692.042 143.241 689.079 Q143.241 684.936 146.181 682.528 Q149.144 680.121 154.283 680.121 Q159.445 680.121 162.385 682.528 Q165.325 684.936 165.325 689.079 Q165.325 692.042 163.635 694.102 Q161.968 696.163 158.982 696.903 Q162.362 697.69 164.237 699.982 Q166.135 702.274 166.135 705.584 Q166.135 710.607 163.056 713.292 Q160.001 715.977 154.283 715.977 Q148.566 715.977 145.487 713.292 Q142.431 710.607 142.431 705.584 Q142.431 702.274 144.329 699.982 Q146.228 697.69 149.607 696.903 M147.894 689.519 Q147.894 692.204 149.561 693.709 Q151.251 695.214 154.283 695.214 Q157.292 695.214 158.982 693.709 Q160.695 692.204 160.695 689.519 Q160.695 686.834 158.982 685.329 Q157.292 683.825 154.283 683.825 Q151.251 683.825 149.561 685.329 Q147.894 686.834 147.894 689.519 Z\" fill=\"#000000\" fill-rule=\"evenodd\" fill-opacity=\"1\" /><path clip-path=\"url(#clip210)\" d=\"M184.445 683.825 Q180.834 683.825 179.005 687.39 Q177.2 690.931 177.2 698.061 Q177.2 705.167 179.005 708.732 Q180.834 712.274 184.445 712.274 Q188.079 712.274 189.885 708.732 Q191.713 705.167 191.713 698.061 Q191.713 690.931 189.885 687.39 Q188.079 683.825 184.445 683.825 M184.445 680.121 Q190.255 680.121 193.311 684.728 Q196.389 689.311 196.389 698.061 Q196.389 706.788 193.311 711.394 Q190.255 715.977 184.445 715.977 Q178.635 715.977 175.556 711.394 Q172.501 706.788 172.501 698.061 Q172.501 689.311 175.556 684.728 Q178.635 680.121 184.445 680.121 Z\" fill=\"#000000\" fill-rule=\"evenodd\" fill-opacity=\"1\" /><path clip-path=\"url(#clip210)\" d=\"M115.927 488.49 L123.566 488.49 L123.566 462.125 L115.256 463.792 L115.256 459.532 L123.519 457.866 L128.195 457.866 L128.195 488.49 L135.834 488.49 L135.834 492.426 L115.927 492.426 L115.927 488.49 Z\" fill=\"#000000\" fill-rule=\"evenodd\" fill-opacity=\"1\" /><path clip-path=\"url(#clip210)\" d=\"M155.278 476.014 Q151.945 476.014 150.024 477.796 Q148.126 479.578 148.126 482.703 Q148.126 485.828 150.024 487.611 Q151.945 489.393 155.278 489.393 Q158.612 489.393 160.533 487.611 Q162.454 485.805 162.454 482.703 Q162.454 479.578 160.533 477.796 Q158.635 476.014 155.278 476.014 M150.603 474.023 Q147.593 473.282 145.904 471.222 Q144.237 469.162 144.237 466.199 Q144.237 462.055 147.177 459.648 Q150.14 457.241 155.278 457.241 Q160.44 457.241 163.38 459.648 Q166.32 462.055 166.32 466.199 Q166.32 469.162 164.63 471.222 Q162.964 473.282 159.978 474.023 Q163.357 474.81 165.232 477.102 Q167.13 479.393 167.13 482.703 Q167.13 487.727 164.052 490.412 Q160.996 493.097 155.278 493.097 Q149.561 493.097 146.482 490.412 Q143.427 487.727 143.427 482.703 Q143.427 479.393 145.325 477.102 Q147.223 474.81 150.603 474.023 M148.89 466.639 Q148.89 469.324 150.556 470.829 Q152.246 472.333 155.278 472.333 Q158.288 472.333 159.978 470.829 Q161.69 469.324 161.69 466.639 Q161.69 463.954 159.978 462.449 Q158.288 460.944 155.278 460.944 Q152.246 460.944 150.556 462.449 Q148.89 463.954 148.89 466.639 Z\" fill=\"#000000\" fill-rule=\"evenodd\" fill-opacity=\"1\" /><path clip-path=\"url(#clip210)\" d=\"M175.487 457.866 L193.843 457.866 L193.843 461.801 L179.769 461.801 L179.769 470.273 Q180.788 469.926 181.806 469.764 Q182.825 469.579 183.843 469.579 Q189.63 469.579 193.01 472.75 Q196.389 475.921 196.389 481.338 Q196.389 486.916 192.917 490.018 Q189.445 493.097 183.126 493.097 Q180.95 493.097 178.681 492.727 Q176.436 492.356 174.028 491.615 L174.028 486.916 Q176.112 488.051 178.334 488.606 Q180.556 489.162 183.033 489.162 Q187.038 489.162 189.375 487.055 Q191.713 484.949 191.713 481.338 Q191.713 477.727 189.375 475.62 Q187.038 473.514 183.033 473.514 Q181.158 473.514 179.283 473.93 Q177.431 474.347 175.487 475.227 L175.487 457.866 Z\" fill=\"#000000\" fill-rule=\"evenodd\" fill-opacity=\"1\" /><path clip-path=\"url(#clip210)\" d=\"M114.931 265.61 L122.57 265.61 L122.57 239.244 L114.26 240.911 L114.26 236.652 L122.524 234.985 L127.2 234.985 L127.2 265.61 L134.839 265.61 L134.839 269.545 L114.931 269.545 L114.931 265.61 Z\" fill=\"#000000\" fill-rule=\"evenodd\" fill-opacity=\"1\" /><path clip-path=\"url(#clip210)\" d=\"M144.422 268.828 L144.422 264.568 Q146.181 265.402 147.987 265.841 Q149.792 266.281 151.528 266.281 Q156.158 266.281 158.589 263.179 Q161.042 260.054 161.39 253.712 Q160.047 255.703 157.987 256.767 Q155.927 257.832 153.427 257.832 Q148.241 257.832 145.209 254.707 Q142.2 251.559 142.2 246.119 Q142.2 240.795 145.348 237.578 Q148.496 234.36 153.728 234.36 Q159.723 234.36 162.871 238.967 Q166.042 243.55 166.042 252.3 Q166.042 260.471 162.153 265.355 Q158.288 270.216 151.737 270.216 Q149.978 270.216 148.172 269.869 Q146.366 269.522 144.422 268.828 M153.728 254.175 Q156.876 254.175 158.704 252.022 Q160.556 249.869 160.556 246.119 Q160.556 242.393 158.704 240.24 Q156.876 238.064 153.728 238.064 Q150.579 238.064 148.728 240.24 Q146.899 242.393 146.899 246.119 Q146.899 249.869 148.728 252.022 Q150.579 254.175 153.728 254.175 Z\" fill=\"#000000\" fill-rule=\"evenodd\" fill-opacity=\"1\" /><path clip-path=\"url(#clip210)\" d=\"M184.445 238.064 Q180.834 238.064 179.005 241.629 Q177.2 245.17 177.2 252.3 Q177.2 259.406 179.005 262.971 Q180.834 266.513 184.445 266.513 Q188.079 266.513 189.885 262.971 Q191.713 259.406 191.713 252.3 Q191.713 245.17 189.885 241.629 Q188.079 238.064 184.445 238.064 M184.445 234.36 Q190.255 234.36 193.311 238.967 Q196.389 243.55 196.389 252.3 Q196.389 261.027 193.311 265.633 Q190.255 270.216 184.445 270.216 Q178.635 270.216 175.556 265.633 Q172.501 261.027 172.501 252.3 Q172.501 243.55 175.556 238.967 Q178.635 234.36 184.445 234.36 Z\" fill=\"#000000\" fill-rule=\"evenodd\" fill-opacity=\"1\" /><path clip-path=\"url(#clip210)\" d=\"M41.3104 1232.61 L58.7206 1232.61 L58.7206 1222.3 Q58.7206 1217.11 56.5881 1214.63 Q54.4238 1212.11 49.9996 1212.11 Q45.5436 1212.11 43.4429 1214.63 Q41.3104 1217.11 41.3104 1222.3 L41.3104 1232.61 M21.7677 1232.61 L36.0905 1232.61 L36.0905 1223.1 Q36.0905 1218.39 34.34 1216.09 Q32.5576 1213.77 28.9291 1213.77 Q25.3325 1213.77 23.5501 1216.09 Q21.7677 1218.39 21.7677 1223.1 L21.7677 1232.61 M16.4842 1239.04 L16.4842 1222.62 Q16.4842 1215.27 19.5397 1211.29 Q22.5952 1207.31 28.2289 1207.31 Q32.5894 1207.31 35.1675 1209.35 Q37.7456 1211.38 38.3822 1215.33 Q39.4007 1210.59 42.6472 1207.98 Q45.8619 1205.34 50.6998 1205.34 Q57.0655 1205.34 60.5348 1209.66 Q64.0042 1213.99 64.0042 1221.98 L64.0042 1239.04 L16.4842 1239.04 Z\" fill=\"#000000\" fill-rule=\"evenodd\" fill-opacity=\"1\" /><path clip-path=\"url(#clip210)\" d=\"M14.479 1194.39 L14.479 1188.53 L33.6397 1188.53 L30.7752 1184.55 L34.149 1182.13 L38.6368 1188.53 L64.0042 1188.53 L64.0042 1194.39 L42.8064 1194.39 L45.6073 1198.3 L42.2334 1200.66 L37.7456 1194.39 L14.479 1194.39 Z\" fill=\"#000000\" fill-rule=\"evenodd\" fill-opacity=\"1\" /><path clip-path=\"url(#clip210)\" d=\"M46.0847 1159.85 Q46.0847 1166.95 47.7079 1169.69 Q49.3312 1172.42 53.2461 1172.42 Q56.3653 1172.42 58.2114 1170.39 Q60.0256 1168.32 60.0256 1164.79 Q60.0256 1159.92 56.5881 1156.99 Q53.1188 1154.03 47.3897 1154.03 L46.0847 1154.03 L46.0847 1159.85 M43.6657 1148.17 L64.0042 1148.17 L64.0042 1154.03 L58.5933 1154.03 Q61.8398 1156.03 63.3994 1159.02 Q64.9272 1162.02 64.9272 1166.35 Q64.9272 1171.82 61.8716 1175.07 Q58.7843 1178.28 53.6281 1178.28 Q47.6125 1178.28 44.5569 1174.27 Q41.5014 1170.23 41.5014 1162.24 L41.5014 1154.03 L40.9285 1154.03 Q36.8862 1154.03 34.6901 1156.7 Q32.4621 1159.34 32.4621 1164.15 Q32.4621 1167.2 33.1941 1170.1 Q33.9262 1173 35.3903 1175.67 L29.9795 1175.67 Q28.7381 1172.46 28.1334 1169.43 Q27.4968 1166.41 27.4968 1163.54 Q27.4968 1155.81 31.5072 1151.99 Q35.5176 1148.17 43.6657 1148.17 M64.0042 1153.96 L64.0042 1150.18 Q65.9457 1151.61 67.3462 1152.31 Q68.7466 1152.98 69.7333 1152.98 Q71.1974 1152.98 71.9295 1152.12 Q72.6615 1151.23 72.6615 1149.51 Q72.6615 1148.49 72.4069 1147.5 Q72.1841 1146.52 71.7067 1145.53 L75.9399 1145.53 Q76.2581 1146.74 76.4173 1147.82 Q76.5764 1148.9 76.5764 1149.86 Q76.5764 1153.74 75.176 1155.59 Q73.8073 1157.4 70.8473 1157.4 Q69.3195 1157.4 67.6326 1156.57 Q65.9775 1155.71 64.0042 1153.96 Z\" fill=\"#000000\" fill-rule=\"evenodd\" fill-opacity=\"1\" /><path clip-path=\"url(#clip210)\" d=\"M33.7671 1112.65 L14.479 1112.65 L14.479 1106.79 L64.0042 1106.79 L64.0042 1112.65 L58.657 1112.65 Q61.8398 1114.5 63.3994 1117.33 Q64.9272 1120.13 64.9272 1124.08 Q64.9272 1130.54 59.771 1134.61 Q54.6147 1138.65 46.212 1138.65 Q37.8093 1138.65 32.6531 1134.61 Q27.4968 1130.54 27.4968 1124.08 Q27.4968 1120.13 29.0564 1117.33 Q30.5842 1114.5 33.7671 1112.65 M46.212 1132.61 Q52.6732 1132.61 56.3653 1129.97 Q60.0256 1127.29 60.0256 1122.64 Q60.0256 1118 56.3653 1115.32 Q52.6732 1112.65 46.212 1112.65 Q39.7508 1112.65 36.0905 1115.32 Q32.3984 1118 32.3984 1122.64 Q32.3984 1127.29 36.0905 1129.97 Q39.7508 1132.61 46.212 1132.61 Z\" fill=\"#000000\" fill-rule=\"evenodd\" fill-opacity=\"1\" /><path clip-path=\"url(#clip210)\" d=\"M3.52994 1057.36 L3.52994 1051.48 L11.9327 1058.73 L11.9327 1063.6 L3.52994 1057.36 M18.0438 1045.27 L24.314 1045.27 Q22.5634 1048.93 21.704 1052.18 Q20.8447 1055.42 20.8447 1058.45 Q20.8447 1063.7 22.8817 1066.56 Q24.9187 1069.4 28.6745 1069.4 Q31.8255 1069.4 33.4488 1067.52 Q35.0402 1065.61 36.0269 1060.32 L36.8226 1056.44 Q38.1912 1049.25 41.6605 1045.84 Q45.098 1042.41 50.8908 1042.41 Q57.7976 1042.41 61.3624 1047.05 Q64.9272 1051.67 64.9272 1060.61 Q64.9272 1063.98 64.1633 1067.8 Q63.3994 1071.59 61.9035 1075.67 L55.2831 1075.67 Q57.4793 1071.75 58.5933 1068 Q59.7073 1064.24 59.7073 1060.61 Q59.7073 1055.1 57.543 1052.11 Q55.3786 1049.12 51.3682 1049.12 Q47.8671 1049.12 45.8937 1051.29 Q43.9204 1053.42 42.9337 1058.32 L42.1698 1062.23 Q40.7375 1069.43 37.682 1072.64 Q34.6264 1075.86 29.1837 1075.86 Q22.8817 1075.86 19.2532 1071.43 Q15.6248 1066.98 15.6248 1059.18 Q15.6248 1055.84 16.2295 1052.37 Q16.8343 1048.9 18.0438 1045.27 Z\" fill=\"#000000\" fill-rule=\"evenodd\" fill-opacity=\"1\" /><path clip-path=\"url(#clip210)\" d=\"M33.8307 1011.98 Q33.2578 1012.96 33.0032 1014.14 Q32.7167 1015.29 32.7167 1016.69 Q32.7167 1021.65 35.9632 1024.33 Q39.1779 1026.97 45.2253 1026.97 L64.0042 1026.97 L64.0042 1032.86 L28.3562 1032.86 L28.3562 1026.97 L33.8944 1026.97 Q30.6479 1025.12 29.0883 1022.16 Q27.4968 1019.2 27.4968 1014.97 Q27.4968 1014.36 27.5923 1013.63 Q27.656 1012.9 27.8151 1012.01 L33.8307 1011.98 Z\" fill=\"#000000\" fill-rule=\"evenodd\" fill-opacity=\"1\" /><path clip-path=\"url(#clip210)\" d=\"M44.7161 976.775 L47.5806 976.775 L47.5806 1003.7 Q53.6281 1003.32 56.8109 1000.07 Q59.9619 996.795 59.9619 990.97 Q59.9619 987.596 59.1344 984.445 Q58.3069 981.262 56.6518 978.143 L62.1899 978.143 Q63.5267 981.294 64.227 984.604 Q64.9272 987.915 64.9272 991.32 Q64.9272 999.85 59.9619 1004.85 Q54.9967 1009.81 46.5303 1009.81 Q37.7774 1009.81 32.6531 1005.1 Q27.4968 1000.36 27.4968 992.339 Q27.4968 985.146 32.1438 980.976 Q36.7589 976.775 44.7161 976.775 M42.9973 982.631 Q38.1912 982.695 35.3266 985.336 Q32.4621 987.946 32.4621 992.275 Q32.4621 997.177 35.2312 1000.14 Q38.0002 1003.06 43.0292 1003.51 L42.9973 982.631 Z\" fill=\"#000000\" fill-rule=\"evenodd\" fill-opacity=\"1\" /><path clip-path=\"url(#clip210)\" d=\"M33.7671 943.705 L14.479 943.705 L14.479 937.848 L64.0042 937.848 L64.0042 943.705 L58.657 943.705 Q61.8398 945.551 63.3994 948.384 Q64.9272 951.184 64.9272 955.131 Q64.9272 961.592 59.771 965.666 Q54.6147 969.709 46.212 969.709 Q37.8093 969.709 32.6531 965.666 Q27.4968 961.592 27.4968 955.131 Q27.4968 951.184 29.0564 948.384 Q30.5842 945.551 33.7671 943.705 M46.212 963.661 Q52.6732 963.661 56.3653 961.019 Q60.0256 958.346 60.0256 953.699 Q60.0256 949.052 56.3653 946.378 Q52.6732 943.705 46.212 943.705 Q39.7508 943.705 36.0905 946.378 Q32.3984 949.052 32.3984 953.699 Q32.3984 958.346 36.0905 961.019 Q39.7508 963.661 46.212 963.661 Z\" fill=\"#000000\" fill-rule=\"evenodd\" fill-opacity=\"1\" /><path clip-path=\"url(#clip210)\" d=\"M42.4881 896.153 L64.0042 896.153 L64.0042 902.009 L42.679 902.009 Q37.6183 902.009 35.1038 903.983 Q32.5894 905.956 32.5894 909.903 Q32.5894 914.645 35.6131 917.383 Q38.6368 920.12 43.8567 920.12 L64.0042 920.12 L64.0042 926.008 L28.3562 926.008 L28.3562 920.12 L33.8944 920.12 Q30.6797 918.019 29.0883 915.186 Q27.4968 912.322 27.4968 908.598 Q27.4968 902.455 31.3163 899.304 Q35.1038 896.153 42.4881 896.153 Z\" fill=\"#000000\" fill-rule=\"evenodd\" fill-opacity=\"1\" /><path clip-path=\"url(#clip210)\" d=\"M28.3562 884.472 L28.3562 878.615 L64.0042 878.615 L64.0042 884.472 L28.3562 884.472 M14.479 884.472 L14.479 878.615 L21.895 878.615 L21.895 884.472 L14.479 884.472 Z\" fill=\"#000000\" fill-rule=\"evenodd\" fill-opacity=\"1\" /><path clip-path=\"url(#clip210)\" d=\"M32.4621 852.548 Q32.4621 857.258 36.1542 859.996 Q39.8145 862.733 46.212 862.733 Q52.6095 862.733 56.3017 860.028 Q59.9619 857.29 59.9619 852.548 Q59.9619 847.869 56.2698 845.132 Q52.5777 842.395 46.212 842.395 Q39.8781 842.395 36.186 845.132 Q32.4621 847.869 32.4621 852.548 M27.4968 852.548 Q27.4968 844.909 32.4621 840.548 Q37.4273 836.188 46.212 836.188 Q54.9649 836.188 59.9619 840.548 Q64.9272 844.909 64.9272 852.548 Q64.9272 860.219 59.9619 864.579 Q54.9649 868.908 46.212 868.908 Q37.4273 868.908 32.4621 864.579 Q27.4968 860.219 27.4968 852.548 Z\" fill=\"#000000\" fill-rule=\"evenodd\" fill-opacity=\"1\" /><path clip-path=\"url(#clip210)\" d=\"M14.479 826.703 L14.479 820.815 L43.7294 820.815 L28.3562 803.341 L28.3562 795.861 L45.0344 814.767 L64.0042 795.066 L64.0042 802.704 L46.5939 820.815 L64.0042 820.815 L64.0042 826.703 L14.479 826.703 Z\" fill=\"#000000\" fill-rule=\"evenodd\" fill-opacity=\"1\" /><path clip-path=\"url(#clip210)\" d=\"M28.3562 792.137 L28.3562 786.281 L56.1743 778.96 L28.3562 771.672 L28.3562 764.765 L56.1743 757.444 L28.3562 750.155 L28.3562 744.299 L64.0042 753.625 L64.0042 760.532 L34.7856 768.202 L64.0042 775.905 L64.0042 782.812 L28.3562 792.137 Z\" fill=\"#000000\" fill-rule=\"evenodd\" fill-opacity=\"1\" /><path clip-path=\"url(#clip210)\" d=\"M46.0847 719.218 Q46.0847 726.316 47.7079 729.053 Q49.3312 731.79 53.2461 731.79 Q56.3653 731.79 58.2114 729.753 Q60.0256 727.685 60.0256 724.152 Q60.0256 719.282 56.5881 716.354 Q53.1188 713.394 47.3897 713.394 L46.0847 713.394 L46.0847 719.218 M43.6657 707.537 L64.0042 707.537 L64.0042 713.394 L58.5933 713.394 Q61.8398 715.399 63.3994 718.391 Q64.9272 721.382 64.9272 725.711 Q64.9272 731.186 61.8716 734.432 Q58.7843 737.647 53.6281 737.647 Q47.6125 737.647 44.5569 733.636 Q41.5014 729.594 41.5014 721.605 L41.5014 713.394 L40.9285 713.394 Q36.8862 713.394 34.6901 716.067 Q32.4621 718.709 32.4621 723.515 Q32.4621 726.571 33.1941 729.467 Q33.9262 732.363 35.3903 735.037 L29.9795 735.037 Q28.7381 731.822 28.1334 728.799 Q27.4968 725.775 27.4968 722.91 Q27.4968 715.176 31.5072 711.356 Q35.5176 707.537 43.6657 707.537 Z\" fill=\"#000000\" fill-rule=\"evenodd\" fill-opacity=\"1\" /><path clip-path=\"url(#clip210)\" d=\"M33.7671 672.016 L14.479 672.016 L14.479 666.16 L64.0042 666.16 L64.0042 672.016 L58.657 672.016 Q61.8398 673.862 63.3994 676.695 Q64.9272 679.496 64.9272 683.443 Q64.9272 689.904 59.771 693.978 Q54.6147 698.02 46.212 698.02 Q37.8093 698.02 32.6531 693.978 Q27.4968 689.904 27.4968 683.443 Q27.4968 679.496 29.0564 676.695 Q30.5842 673.862 33.7671 672.016 M46.212 691.973 Q52.6732 691.973 56.3653 689.331 Q60.0256 686.658 60.0256 682.011 Q60.0256 677.364 56.3653 674.69 Q52.6732 672.016 46.212 672.016 Q39.7508 672.016 36.0905 674.69 Q32.3984 677.364 32.3984 682.011 Q32.3984 686.658 36.0905 689.331 Q39.7508 691.973 46.212 691.973 Z\" fill=\"#000000\" fill-rule=\"evenodd\" fill-opacity=\"1\" /><path clip-path=\"url(#clip210)\" d=\"M33.8307 633.44 Q33.2578 634.427 33.0032 635.605 Q32.7167 636.75 32.7167 638.151 Q32.7167 643.116 35.9632 645.79 Q39.1779 648.431 45.2253 648.431 L64.0042 648.431 L64.0042 654.32 L28.3562 654.32 L28.3562 648.431 L33.8944 648.431 Q30.6479 646.585 29.0883 643.625 Q27.4968 640.665 27.4968 636.432 Q27.4968 635.827 27.5923 635.095 Q27.656 634.363 27.8151 633.472 L33.8307 633.44 Z\" fill=\"#000000\" fill-rule=\"evenodd\" fill-opacity=\"1\" /><path clip-path=\"url(#clip210)\" d=\"M46.0847 611.097 Q46.0847 618.194 47.7079 620.932 Q49.3312 623.669 53.2461 623.669 Q56.3653 623.669 58.2114 621.632 Q60.0256 619.563 60.0256 616.03 Q60.0256 611.16 56.5881 608.232 Q53.1188 605.272 47.3897 605.272 L46.0847 605.272 L46.0847 611.097 M43.6657 599.416 L64.0042 599.416 L64.0042 605.272 L58.5933 605.272 Q61.8398 607.277 63.3994 610.269 Q64.9272 613.261 64.9272 617.59 Q64.9272 623.064 61.8716 626.311 Q58.7843 629.525 53.6281 629.525 Q47.6125 629.525 44.5569 625.515 Q41.5014 621.473 41.5014 613.484 L41.5014 605.272 L40.9285 605.272 Q36.8862 605.272 34.6901 607.946 Q32.4621 610.587 32.4621 615.393 Q32.4621 618.449 33.1941 621.345 Q33.9262 624.242 35.3903 626.915 L29.9795 626.915 Q28.7381 623.701 28.1334 620.677 Q27.4968 617.653 27.4968 614.789 Q27.4968 607.054 31.5072 603.235 Q35.5176 599.416 43.6657 599.416 Z\" fill=\"#000000\" fill-rule=\"evenodd\" fill-opacity=\"1\" /><path clip-path=\"url(#clip210)\" d=\"M18.2347 581.56 L28.3562 581.56 L28.3562 569.497 L32.9077 569.497 L32.9077 581.56 L52.2594 581.56 Q56.6199 581.56 57.8613 580.382 Q59.1026 579.173 59.1026 575.512 L59.1026 569.497 L64.0042 569.497 L64.0042 575.512 Q64.0042 582.292 61.4897 584.87 Q58.9434 587.448 52.2594 587.448 L32.9077 587.448 L32.9077 591.745 L28.3562 591.745 L28.3562 587.448 L18.2347 587.448 L18.2347 581.56 Z\" fill=\"#000000\" fill-rule=\"evenodd\" fill-opacity=\"1\" /><path clip-path=\"url(#clip210)\" d=\"M32.4621 547.981 Q32.4621 552.691 36.1542 555.428 Q39.8145 558.166 46.212 558.166 Q52.6095 558.166 56.3017 555.46 Q59.9619 552.723 59.9619 547.981 Q59.9619 543.302 56.2698 540.565 Q52.5777 537.827 46.212 537.827 Q39.8781 537.827 36.186 540.565 Q32.4621 543.302 32.4621 547.981 M27.4968 547.981 Q27.4968 540.342 32.4621 535.981 Q37.4273 531.621 46.212 531.621 Q54.9649 531.621 59.9619 535.981 Q64.9272 540.342 64.9272 547.981 Q64.9272 555.651 59.9619 560.012 Q54.9649 564.34 46.212 564.34 Q37.4273 564.34 32.4621 560.012 Q27.4968 555.651 27.4968 547.981 Z\" fill=\"#000000\" fill-rule=\"evenodd\" fill-opacity=\"1\" /><path clip-path=\"url(#clip210)\" d=\"M28.3562 525.319 L28.3562 519.462 L56.1743 512.142 L28.3562 504.853 L28.3562 497.946 L56.1743 490.626 L28.3562 483.337 L28.3562 477.48 L64.0042 486.806 L64.0042 493.713 L34.7856 501.384 L64.0042 509.086 L64.0042 515.993 L28.3562 525.319 Z\" fill=\"#000000\" fill-rule=\"evenodd\" fill-opacity=\"1\" /><path clip-path=\"url(#clip210)\" d=\"M67.3143 453.768 Q73.68 456.251 75.6216 458.606 Q77.5631 460.961 77.5631 464.908 L77.5631 469.587 L72.6615 469.587 L72.6615 466.149 Q72.6615 463.73 71.5157 462.394 Q70.3699 461.057 66.1048 459.434 L63.4312 458.383 L28.3562 472.802 L28.3562 466.595 L56.238 455.455 L28.3562 444.315 L28.3562 438.109 L67.3143 453.768 Z\" fill=\"#000000\" fill-rule=\"evenodd\" fill-opacity=\"1\" /><path clip-path=\"url(#clip210)\" d=\"M14.5426 395.235 Q21.8632 399.501 29.0246 401.569 Q36.186 403.638 43.5384 403.638 Q50.8908 403.638 58.1159 401.569 Q65.3091 399.469 72.5979 395.235 L72.5979 400.328 Q65.1182 405.102 57.8931 407.489 Q50.668 409.845 43.5384 409.845 Q36.4406 409.845 29.2474 407.489 Q22.0542 405.134 14.5426 400.328 L14.5426 395.235 Z\" fill=\"#000000\" fill-rule=\"evenodd\" fill-opacity=\"1\" /><path clip-path=\"url(#clip210)\" d=\"M16.4842 383.618 L16.4842 374.038 L48.8219 361.911 L16.4842 349.721 L16.4842 340.14 L64.0042 340.14 L64.0042 346.411 L22.277 346.411 L54.8694 358.665 L54.8694 365.126 L22.277 377.38 L64.0042 377.38 L64.0042 383.618 L16.4842 383.618 Z\" fill=\"#000000\" fill-rule=\"evenodd\" fill-opacity=\"1\" /><path clip-path=\"url(#clip210)\" d=\"M18.0438 298.891 L24.314 298.891 Q22.5634 302.551 21.704 305.797 Q20.8447 309.044 20.8447 312.068 Q20.8447 317.319 22.8817 320.184 Q24.9187 323.017 28.6745 323.017 Q31.8255 323.017 33.4488 321.139 Q35.0402 319.229 36.0269 313.945 L36.8226 310.062 Q38.1912 302.869 41.6605 299.463 Q45.098 296.026 50.8908 296.026 Q57.7976 296.026 61.3624 300.673 Q64.9272 305.288 64.9272 314.232 Q64.9272 317.606 64.1633 321.425 Q63.3994 325.213 61.9035 329.287 L55.2831 329.287 Q57.4793 325.372 58.5933 321.616 Q59.7073 317.86 59.7073 314.232 Q59.7073 308.726 57.543 305.734 Q55.3786 302.742 51.3682 302.742 Q47.8671 302.742 45.8937 304.906 Q43.9204 307.039 42.9337 311.94 L42.1698 315.855 Q40.7375 323.048 37.682 326.263 Q34.6264 329.478 29.1837 329.478 Q22.8817 329.478 19.2532 325.054 Q15.6248 320.598 15.6248 312.8 Q15.6248 309.458 16.2295 305.988 Q16.8343 302.519 18.0438 298.891 Z\" fill=\"#000000\" fill-rule=\"evenodd\" fill-opacity=\"1\" /><path clip-path=\"url(#clip210)\" d=\"M16.4842 286 L16.4842 255.954 L21.895 255.954 L21.895 279.571 L35.9632 279.571 L35.9632 256.941 L41.3741 256.941 L41.3741 279.571 L58.5933 279.571 L58.5933 255.381 L64.0042 255.381 L64.0042 286 L16.4842 286 Z\" fill=\"#000000\" fill-rule=\"evenodd\" fill-opacity=\"1\" /><path clip-path=\"url(#clip210)\" d=\"M14.5426 245.991 L14.5426 240.899 Q22.0542 236.125 29.2474 233.769 Q36.4406 231.382 43.5384 231.382 Q50.668 231.382 57.8931 233.769 Q65.1182 236.125 72.5979 240.899 L72.5979 245.991 Q65.3091 241.758 58.1159 239.689 Q50.8908 237.589 43.5384 237.589 Q36.186 237.589 29.0246 239.689 Q21.8632 241.758 14.5426 245.991 Z\" fill=\"#000000\" fill-rule=\"evenodd\" fill-opacity=\"1\" /><polyline clip-path=\"url(#clip212)\" style=\"stroke:#ff0000; stroke-linecap:butt; stroke-linejoin:round; stroke-width:8; stroke-opacity:1; fill:none\" points=\"\n",
       "  292.4,1384.24 336.852,1310.4 381.304,1310.4 425.756,1310.4 470.208,1284.24 514.66,1284.24 559.112,1284.24 603.565,1284.24 648.017,1284.24 692.469,1113.43 \n",
       "  736.921,1084.69 781.373,1084.69 825.825,1084.69 870.277,1084.69 914.73,1084.69 959.182,1084.69 1003.63,1084.69 1048.09,1084.69 1092.54,1084.69 1136.99,1051.9 \n",
       "  1181.44,1051.9 1225.89,1051.9 1270.35,983.385 1314.8,948.883 1359.25,948.883 1403.7,948.883 1448.16,948.883 1492.61,948.883 1537.06,764.345 1581.51,764.345 \n",
       "  1625.96,764.345 1670.42,764.345 1714.87,764.345 1759.32,764.345 1803.77,764.345 1848.22,764.345 1892.68,764.345 1937.13,764.345 1981.58,599.178 2026.03,599.178 \n",
       "  2070.48,514.99 2114.94,514.99 2159.39,514.99 2203.84,514.99 2248.29,470.919 2292.75,470.919 \n",
       "  \"/>\n",
       "<polyline clip-path=\"url(#clip212)\" style=\"stroke:#0000ff; stroke-linecap:butt; stroke-linejoin:round; stroke-width:8; stroke-opacity:1; fill:none\" points=\"\n",
       "  292.4,86.1857 336.852,86.8596 381.304,86.8596 425.756,86.8596 470.208,86.8596 514.66,86.8596 559.112,86.8596 603.565,86.8596 648.017,86.8596 692.469,142.035 \n",
       "  736.921,142.035 781.373,142.035 825.825,142.035 870.277,142.035 914.73,142.035 959.182,142.035 1003.63,142.035 1048.09,142.035 1092.54,142.035 1136.99,142.035 \n",
       "  1181.44,142.035 1225.89,142.035 1270.35,859.124 1314.8,859.124 1359.25,859.124 1403.7,859.124 1448.16,859.124 1492.61,859.124 1537.06,912.28 1581.51,912.28 \n",
       "  1625.96,912.28 1670.42,912.28 1714.87,912.28 1759.32,912.28 1803.77,912.28 1848.22,912.28 1892.68,912.28 1937.13,912.28 1981.58,995.239 2026.03,995.239 \n",
       "  2070.48,1058.14 2114.94,1058.14 2159.39,1058.14 2203.84,1058.14 2248.29,1042.62 2292.75,1042.62 \n",
       "  \"/>\n",
       "<path clip-path=\"url(#clip210)\" d=\"\n",
       "M1632.02 248.629 L2282.08 248.629 L2282.08 93.1086 L1632.02 93.1086  Z\n",
       "  \" fill=\"#ffffff\" fill-rule=\"evenodd\" fill-opacity=\"1\"/>\n",
       "<polyline clip-path=\"url(#clip210)\" style=\"stroke:#000000; stroke-linecap:butt; stroke-linejoin:round; stroke-width:4; stroke-opacity:1; fill:none\" points=\"\n",
       "  1632.02,248.629 2282.08,248.629 2282.08,93.1086 1632.02,93.1086 1632.02,248.629 \n",
       "  \"/>\n",
       "<polyline clip-path=\"url(#clip210)\" style=\"stroke:#ff0000; stroke-linecap:butt; stroke-linejoin:round; stroke-width:4; stroke-opacity:1; fill:none\" points=\"\n",
       "  1655.57,144.949 1796.93,144.949 \n",
       "  \"/>\n",
       "<path clip-path=\"url(#clip210)\" d=\"M1821.02 127.669 L1848.18 127.669 L1848.18 131.233 L1826.33 158.293 L1848.71 158.293 L1848.71 162.229 L1820.49 162.229 L1820.49 158.664 L1842.34 131.604 L1821.02 131.604 L1821.02 127.669 Z\" fill=\"#000000\" fill-rule=\"evenodd\" fill-opacity=\"1\" /><path clip-path=\"url(#clip210)\" d=\"M1873.92 149.289 Q1873.92 144.59 1871.97 141.928 Q1870.05 139.243 1866.67 139.243 Q1863.29 139.243 1861.35 141.928 Q1859.43 144.59 1859.43 149.289 Q1859.43 153.988 1861.35 156.673 Q1863.29 159.335 1866.67 159.335 Q1870.05 159.335 1871.97 156.673 Q1873.92 153.988 1873.92 149.289 M1859.43 140.238 Q1860.77 137.923 1862.81 136.812 Q1864.87 135.678 1867.71 135.678 Q1872.44 135.678 1875.38 139.428 Q1878.34 143.178 1878.34 149.289 Q1878.34 155.4 1875.38 159.15 Q1872.44 162.9 1867.71 162.9 Q1864.87 162.9 1862.81 161.789 Q1860.77 160.655 1859.43 158.34 L1859.43 162.229 L1855.14 162.229 L1855.14 126.21 L1859.43 126.21 L1859.43 140.238 Z\" fill=\"#000000\" fill-rule=\"evenodd\" fill-opacity=\"1\" /><path clip-path=\"url(#clip210)\" d=\"M1885.4 136.303 L1889.66 136.303 L1889.66 162.229 L1885.4 162.229 L1885.4 136.303 M1885.4 126.21 L1889.66 126.21 L1889.66 131.604 L1885.4 131.604 L1885.4 126.21 Z\" fill=\"#000000\" fill-rule=\"evenodd\" fill-opacity=\"1\" /><path clip-path=\"url(#clip210)\" d=\"M1908.62 139.289 Q1905.19 139.289 1903.2 141.974 Q1901.21 144.636 1901.21 149.289 Q1901.21 153.942 1903.18 156.627 Q1905.17 159.289 1908.62 159.289 Q1912.02 159.289 1914.01 156.604 Q1916 153.918 1916 149.289 Q1916 144.682 1914.01 141.997 Q1912.02 139.289 1908.62 139.289 M1908.62 135.678 Q1914.17 135.678 1917.34 139.289 Q1920.52 142.9 1920.52 149.289 Q1920.52 155.655 1917.34 159.289 Q1914.17 162.9 1908.62 162.9 Q1903.04 162.9 1899.87 159.289 Q1896.72 155.655 1896.72 149.289 Q1896.72 142.9 1899.87 139.289 Q1903.04 135.678 1908.62 135.678 M1911.83 124.312 L1916.44 124.312 L1908.89 133.016 L1905.35 133.016 L1911.83 124.312 Z\" fill=\"#000000\" fill-rule=\"evenodd\" fill-opacity=\"1\" /><path clip-path=\"url(#clip210)\" d=\"M1942.6 140.284 Q1941.88 139.868 1941.02 139.682 Q1940.19 139.474 1939.17 139.474 Q1935.56 139.474 1933.62 141.835 Q1931.7 144.173 1931.7 148.571 L1931.7 162.229 L1927.41 162.229 L1927.41 136.303 L1931.7 136.303 L1931.7 140.331 Q1933.04 137.969 1935.19 136.835 Q1937.34 135.678 1940.42 135.678 Q1940.86 135.678 1941.39 135.747 Q1941.93 135.794 1942.58 135.909 L1942.6 140.284 Z\" fill=\"#000000\" fill-rule=\"evenodd\" fill-opacity=\"1\" /><path clip-path=\"url(#clip210)\" d=\"M1966.35 128.942 L1966.35 136.303 L1975.12 136.303 L1975.12 139.613 L1966.35 139.613 L1966.35 153.687 Q1966.35 156.858 1967.2 157.761 Q1968.08 158.664 1970.75 158.664 L1975.12 158.664 L1975.12 162.229 L1970.75 162.229 Q1965.82 162.229 1963.94 160.4 Q1962.07 158.548 1962.07 153.687 L1962.07 139.613 L1958.94 139.613 L1958.94 136.303 L1962.07 136.303 L1962.07 128.942 L1966.35 128.942 Z\" fill=\"#000000\" fill-rule=\"evenodd\" fill-opacity=\"1\" /><path clip-path=\"url(#clip210)\" d=\"M1995.75 140.284 Q1995.03 139.868 1994.17 139.682 Q1993.34 139.474 1992.32 139.474 Q1988.71 139.474 1986.76 141.835 Q1984.84 144.173 1984.84 148.571 L1984.84 162.229 L1980.56 162.229 L1980.56 136.303 L1984.84 136.303 L1984.84 140.331 Q1986.19 137.969 1988.34 136.835 Q1990.49 135.678 1993.57 135.678 Q1994.01 135.678 1994.54 135.747 Q1995.07 135.794 1995.72 135.909 L1995.75 140.284 Z\" fill=\"#000000\" fill-rule=\"evenodd\" fill-opacity=\"1\" /><path clip-path=\"url(#clip210)\" d=\"M2021.35 148.201 L2021.35 150.284 L2001.76 150.284 Q2002.04 154.682 2004.4 156.997 Q2006.79 159.289 2011.02 159.289 Q2013.48 159.289 2015.77 158.687 Q2018.08 158.085 2020.35 156.881 L2020.35 160.909 Q2018.06 161.881 2015.65 162.391 Q2013.25 162.9 2010.77 162.9 Q2004.57 162.9 2000.93 159.289 Q1997.32 155.678 1997.32 149.52 Q1997.32 143.155 2000.75 139.428 Q2004.2 135.678 2010.03 135.678 Q2015.26 135.678 2018.29 139.057 Q2021.35 142.414 2021.35 148.201 M2017.09 146.951 Q2017.04 143.456 2015.12 141.372 Q2013.22 139.289 2010.07 139.289 Q2006.51 139.289 2004.36 141.303 Q2002.23 143.317 2001.9 146.974 L2017.09 146.951 Z\" fill=\"#000000\" fill-rule=\"evenodd\" fill-opacity=\"1\" /><path clip-path=\"url(#clip210)\" d=\"M2049.89 146.581 L2049.89 162.229 L2045.63 162.229 L2045.63 146.719 Q2045.63 143.039 2044.19 141.21 Q2042.76 139.382 2039.89 139.382 Q2036.44 139.382 2034.45 141.581 Q2032.46 143.78 2032.46 147.576 L2032.46 162.229 L2028.18 162.229 L2028.18 136.303 L2032.46 136.303 L2032.46 140.331 Q2033.99 137.993 2036.05 136.835 Q2038.13 135.678 2040.84 135.678 Q2045.31 135.678 2047.6 138.456 Q2049.89 141.21 2049.89 146.581 Z\" fill=\"#000000\" fill-rule=\"evenodd\" fill-opacity=\"1\" /><path clip-path=\"url(#clip210)\" d=\"M2058.38 136.303 L2062.64 136.303 L2062.64 162.229 L2058.38 162.229 L2058.38 136.303 M2058.38 126.21 L2062.64 126.21 L2062.64 131.604 L2058.38 131.604 L2058.38 126.21 Z\" fill=\"#000000\" fill-rule=\"evenodd\" fill-opacity=\"1\" /><path clip-path=\"url(#clip210)\" d=\"M2093.11 146.581 L2093.11 162.229 L2088.85 162.229 L2088.85 146.719 Q2088.85 143.039 2087.41 141.21 Q2085.98 139.382 2083.11 139.382 Q2079.66 139.382 2077.67 141.581 Q2075.68 143.78 2075.68 147.576 L2075.68 162.229 L2071.39 162.229 L2071.39 136.303 L2075.68 136.303 L2075.68 140.331 Q2077.2 137.993 2079.26 136.835 Q2081.35 135.678 2084.06 135.678 Q2088.52 135.678 2090.82 138.456 Q2093.11 141.21 2093.11 146.581 Z\" fill=\"#000000\" fill-rule=\"evenodd\" fill-opacity=\"1\" /><path clip-path=\"url(#clip210)\" d=\"M2118.66 148.965 Q2118.66 144.335 2116.74 141.789 Q2114.84 139.243 2111.39 139.243 Q2107.97 139.243 2106.05 141.789 Q2104.15 144.335 2104.15 148.965 Q2104.15 153.571 2106.05 156.118 Q2107.97 158.664 2111.39 158.664 Q2114.84 158.664 2116.74 156.118 Q2118.66 153.571 2118.66 148.965 M2122.92 159.011 Q2122.92 165.631 2119.98 168.849 Q2117.04 172.09 2110.98 172.09 Q2108.73 172.09 2106.74 171.742 Q2104.75 171.418 2102.88 170.724 L2102.88 166.58 Q2104.75 167.599 2106.58 168.085 Q2108.41 168.571 2110.31 168.571 Q2114.5 168.571 2116.58 166.372 Q2118.66 164.196 2118.66 159.775 L2118.66 157.668 Q2117.34 159.96 2115.28 161.094 Q2113.22 162.229 2110.35 162.229 Q2105.58 162.229 2102.67 158.594 Q2099.75 154.96 2099.75 148.965 Q2099.75 142.946 2102.67 139.312 Q2105.58 135.678 2110.35 135.678 Q2113.22 135.678 2115.28 136.812 Q2117.34 137.946 2118.66 140.238 L2118.66 136.303 L2122.92 136.303 L2122.92 159.011 Z\" fill=\"#000000\" fill-rule=\"evenodd\" fill-opacity=\"1\" /><path clip-path=\"url(#clip210)\" d=\"M2141.74 139.289 Q2138.31 139.289 2136.32 141.974 Q2134.33 144.636 2134.33 149.289 Q2134.33 153.942 2136.3 156.627 Q2138.29 159.289 2141.74 159.289 Q2145.14 159.289 2147.13 156.604 Q2149.12 153.918 2149.12 149.289 Q2149.12 144.682 2147.13 141.997 Q2145.14 139.289 2141.74 139.289 M2141.74 135.678 Q2147.3 135.678 2150.47 139.289 Q2153.64 142.9 2153.64 149.289 Q2153.64 155.655 2150.47 159.289 Q2147.3 162.9 2141.74 162.9 Q2136.16 162.9 2132.99 159.289 Q2129.84 155.655 2129.84 149.289 Q2129.84 142.9 2132.99 139.289 Q2136.16 135.678 2141.74 135.678 Z\" fill=\"#000000\" fill-rule=\"evenodd\" fill-opacity=\"1\" /><path clip-path=\"url(#clip210)\" d=\"M2158.22 136.303 L2162.48 136.303 L2167.81 156.534 L2173.11 136.303 L2178.13 136.303 L2183.45 156.534 L2188.75 136.303 L2193.01 136.303 L2186.23 162.229 L2181.21 162.229 L2175.63 140.979 L2170.03 162.229 L2165 162.229 L2158.22 136.303 Z\" fill=\"#000000\" fill-rule=\"evenodd\" fill-opacity=\"1\" /><path clip-path=\"url(#clip210)\" d=\"M2210.26 164.636 Q2208.45 169.266 2206.74 170.678 Q2205.03 172.09 2202.16 172.09 L2198.75 172.09 L2198.75 168.525 L2201.25 168.525 Q2203.01 168.525 2203.99 167.692 Q2204.96 166.858 2206.14 163.756 L2206.9 161.812 L2196.42 136.303 L2200.93 136.303 L2209.03 156.581 L2217.13 136.303 L2221.65 136.303 L2210.26 164.636 Z\" fill=\"#000000\" fill-rule=\"evenodd\" fill-opacity=\"1\" /><polyline clip-path=\"url(#clip210)\" style=\"stroke:#0000ff; stroke-linecap:butt; stroke-linejoin:round; stroke-width:4; stroke-opacity:1; fill:none\" points=\"\n",
       "  1655.57,196.789 1796.93,196.789 \n",
       "  \"/>\n",
       "<path clip-path=\"url(#clip210)\" d=\"M1821.02 179.509 L1848.18 179.509 L1848.18 183.073 L1826.33 210.133 L1848.71 210.133 L1848.71 214.069 L1820.49 214.069 L1820.49 210.504 L1842.34 183.444 L1821.02 183.444 L1821.02 179.509 Z\" fill=\"#000000\" fill-rule=\"evenodd\" fill-opacity=\"1\" /><path clip-path=\"url(#clip210)\" d=\"M1873.92 201.129 Q1873.92 196.43 1871.97 193.768 Q1870.05 191.083 1866.67 191.083 Q1863.29 191.083 1861.35 193.768 Q1859.43 196.43 1859.43 201.129 Q1859.43 205.828 1861.35 208.513 Q1863.29 211.175 1866.67 211.175 Q1870.05 211.175 1871.97 208.513 Q1873.92 205.828 1873.92 201.129 M1859.43 192.078 Q1860.77 189.763 1862.81 188.652 Q1864.87 187.518 1867.71 187.518 Q1872.44 187.518 1875.38 191.268 Q1878.34 195.018 1878.34 201.129 Q1878.34 207.24 1875.38 210.99 Q1872.44 214.74 1867.71 214.74 Q1864.87 214.74 1862.81 213.629 Q1860.77 212.495 1859.43 210.18 L1859.43 214.069 L1855.14 214.069 L1855.14 178.05 L1859.43 178.05 L1859.43 192.078 Z\" fill=\"#000000\" fill-rule=\"evenodd\" fill-opacity=\"1\" /><path clip-path=\"url(#clip210)\" d=\"M1885.4 188.143 L1889.66 188.143 L1889.66 214.069 L1885.4 214.069 L1885.4 188.143 M1885.4 178.05 L1889.66 178.05 L1889.66 183.444 L1885.4 183.444 L1885.4 178.05 Z\" fill=\"#000000\" fill-rule=\"evenodd\" fill-opacity=\"1\" /><path clip-path=\"url(#clip210)\" d=\"M1908.62 191.129 Q1905.19 191.129 1903.2 193.814 Q1901.21 196.476 1901.21 201.129 Q1901.21 205.782 1903.18 208.467 Q1905.17 211.129 1908.62 211.129 Q1912.02 211.129 1914.01 208.444 Q1916 205.758 1916 201.129 Q1916 196.522 1914.01 193.837 Q1912.02 191.129 1908.62 191.129 M1908.62 187.518 Q1914.17 187.518 1917.34 191.129 Q1920.52 194.74 1920.52 201.129 Q1920.52 207.495 1917.34 211.129 Q1914.17 214.74 1908.62 214.74 Q1903.04 214.74 1899.87 211.129 Q1896.72 207.495 1896.72 201.129 Q1896.72 194.74 1899.87 191.129 Q1903.04 187.518 1908.62 187.518 M1911.83 176.152 L1916.44 176.152 L1908.89 184.856 L1905.35 184.856 L1911.83 176.152 Z\" fill=\"#000000\" fill-rule=\"evenodd\" fill-opacity=\"1\" /><path clip-path=\"url(#clip210)\" d=\"M1942.6 192.124 Q1941.88 191.708 1941.02 191.522 Q1940.19 191.314 1939.17 191.314 Q1935.56 191.314 1933.62 193.675 Q1931.7 196.013 1931.7 200.411 L1931.7 214.069 L1927.41 214.069 L1927.41 188.143 L1931.7 188.143 L1931.7 192.171 Q1933.04 189.809 1935.19 188.675 Q1937.34 187.518 1940.42 187.518 Q1940.86 187.518 1941.39 187.587 Q1941.93 187.634 1942.58 187.749 L1942.6 192.124 Z\" fill=\"#000000\" fill-rule=\"evenodd\" fill-opacity=\"1\" /><path clip-path=\"url(#clip210)\" d=\"M1959.66 188.143 L1963.92 188.143 L1969.24 208.374 L1974.54 188.143 L1979.57 188.143 L1984.89 208.374 L1990.19 188.143 L1994.45 188.143 L1987.67 214.069 L1982.64 214.069 L1977.07 192.819 L1971.46 214.069 L1966.44 214.069 L1959.66 188.143 Z\" fill=\"#000000\" fill-rule=\"evenodd\" fill-opacity=\"1\" /><path clip-path=\"url(#clip210)\" d=\"M2012.69 201.036 Q2007.53 201.036 2005.54 202.217 Q2003.55 203.397 2003.55 206.245 Q2003.55 208.513 2005.03 209.856 Q2006.53 211.175 2009.1 211.175 Q2012.64 211.175 2014.77 208.675 Q2016.93 206.152 2016.93 201.985 L2016.93 201.036 L2012.69 201.036 M2021.19 199.277 L2021.19 214.069 L2016.93 214.069 L2016.93 210.133 Q2015.47 212.495 2013.29 213.629 Q2011.12 214.74 2007.97 214.74 Q2003.99 214.74 2001.63 212.518 Q1999.29 210.272 1999.29 206.522 Q1999.29 202.147 2002.2 199.925 Q2005.14 197.703 2010.95 197.703 L2016.93 197.703 L2016.93 197.286 Q2016.93 194.347 2014.98 192.749 Q2013.06 191.129 2009.57 191.129 Q2007.34 191.129 2005.24 191.661 Q2003.13 192.194 2001.19 193.259 L2001.19 189.323 Q2003.52 188.421 2005.72 187.981 Q2007.92 187.518 2010.01 187.518 Q2015.63 187.518 2018.41 190.434 Q2021.19 193.351 2021.19 199.277 Z\" fill=\"#000000\" fill-rule=\"evenodd\" fill-opacity=\"1\" /><path clip-path=\"url(#clip210)\" d=\"M2029.96 178.05 L2034.22 178.05 L2034.22 214.069 L2029.96 214.069 L2029.96 178.05 Z\" fill=\"#000000\" fill-rule=\"evenodd\" fill-opacity=\"1\" /><path clip-path=\"url(#clip210)\" d=\"M2043.13 188.143 L2047.39 188.143 L2047.39 214.069 L2043.13 214.069 L2043.13 188.143 M2043.13 178.05 L2047.39 178.05 L2047.39 183.444 L2043.13 183.444 L2043.13 178.05 Z\" fill=\"#000000\" fill-rule=\"evenodd\" fill-opacity=\"1\" /><path clip-path=\"url(#clip210)\" d=\"M2073.36 192.078 L2073.36 178.05 L2077.62 178.05 L2077.62 214.069 L2073.36 214.069 L2073.36 210.18 Q2072.02 212.495 2069.96 213.629 Q2067.92 214.74 2065.05 214.74 Q2060.35 214.74 2057.39 210.99 Q2054.45 207.24 2054.45 201.129 Q2054.45 195.018 2057.39 191.268 Q2060.35 187.518 2065.05 187.518 Q2067.92 187.518 2069.96 188.652 Q2072.02 189.763 2073.36 192.078 M2058.85 201.129 Q2058.85 205.828 2060.77 208.513 Q2062.71 211.175 2066.09 211.175 Q2069.47 211.175 2071.42 208.513 Q2073.36 205.828 2073.36 201.129 Q2073.36 196.43 2071.42 193.768 Q2069.47 191.083 2066.09 191.083 Q2062.71 191.083 2060.77 193.768 Q2058.85 196.43 2058.85 201.129 Z\" fill=\"#000000\" fill-rule=\"evenodd\" fill-opacity=\"1\" /><path clip-path=\"url(#clip210)\" d=\"M2098.18 201.036 Q2093.01 201.036 2091.02 202.217 Q2089.03 203.397 2089.03 206.245 Q2089.03 208.513 2090.51 209.856 Q2092.02 211.175 2094.59 211.175 Q2098.13 211.175 2100.26 208.675 Q2102.41 206.152 2102.41 201.985 L2102.41 201.036 L2098.18 201.036 M2106.67 199.277 L2106.67 214.069 L2102.41 214.069 L2102.41 210.133 Q2100.95 212.495 2098.78 213.629 Q2096.6 214.74 2093.45 214.74 Q2089.47 214.74 2087.11 212.518 Q2084.77 210.272 2084.77 206.522 Q2084.77 202.147 2087.69 199.925 Q2090.63 197.703 2096.44 197.703 L2102.41 197.703 L2102.41 197.286 Q2102.41 194.347 2100.47 192.749 Q2098.55 191.129 2095.05 191.129 Q2092.83 191.129 2090.72 191.661 Q2088.62 192.194 2086.67 193.259 L2086.67 189.323 Q2089.01 188.421 2091.21 187.981 Q2093.41 187.518 2095.49 187.518 Q2101.12 187.518 2103.89 190.434 Q2106.67 193.351 2106.67 199.277 Z\" fill=\"#000000\" fill-rule=\"evenodd\" fill-opacity=\"1\" /><path clip-path=\"url(#clip210)\" d=\"M2134.1 189.138 L2134.1 193.12 Q2132.3 192.124 2130.47 191.638 Q2128.66 191.129 2126.81 191.129 Q2122.67 191.129 2120.38 193.768 Q2118.08 196.384 2118.08 201.129 Q2118.08 205.874 2120.38 208.513 Q2122.67 211.129 2126.81 211.129 Q2128.66 211.129 2130.47 210.643 Q2132.3 210.133 2134.1 209.138 L2134.1 213.073 Q2132.32 213.907 2130.4 214.323 Q2128.5 214.74 2126.35 214.74 Q2120.49 214.74 2117.04 211.059 Q2113.59 207.379 2113.59 201.129 Q2113.59 194.786 2117.06 191.152 Q2120.56 187.518 2126.63 187.518 Q2128.59 187.518 2130.47 187.935 Q2132.34 188.328 2134.1 189.138 Z\" fill=\"#000000\" fill-rule=\"evenodd\" fill-opacity=\"1\" /><path clip-path=\"url(#clip210)\" d=\"M2152.3 216.476 Q2150.49 221.106 2148.78 222.518 Q2147.06 223.93 2144.19 223.93 L2140.79 223.93 L2140.79 220.365 L2143.29 220.365 Q2145.05 220.365 2146.02 219.532 Q2147 218.698 2148.18 215.596 L2148.94 213.652 L2138.45 188.143 L2142.97 188.143 L2151.07 208.421 L2159.17 188.143 L2163.68 188.143 L2152.3 216.476 Z\" fill=\"#000000\" fill-rule=\"evenodd\" fill-opacity=\"1\" /><path clip-path=\"url(#clip210)\" d=\"M2169.56 188.143 L2173.82 188.143 L2173.82 214.532 Q2173.82 219.485 2171.93 221.707 Q2170.05 223.93 2165.86 223.93 L2164.24 223.93 L2164.24 220.319 L2165.37 220.319 Q2167.81 220.319 2168.68 219.184 Q2169.56 218.073 2169.56 214.532 L2169.56 188.143 M2169.56 178.05 L2173.82 178.05 L2173.82 183.444 L2169.56 183.444 L2169.56 178.05 Z\" fill=\"#000000\" fill-rule=\"evenodd\" fill-opacity=\"1\" /><path clip-path=\"url(#clip210)\" d=\"M2204.29 198.421 L2204.29 214.069 L2200.03 214.069 L2200.03 198.559 Q2200.03 194.879 2198.59 193.05 Q2197.16 191.222 2194.29 191.222 Q2190.84 191.222 2188.85 193.421 Q2186.86 195.62 2186.86 199.416 L2186.86 214.069 L2182.57 214.069 L2182.57 188.143 L2186.86 188.143 L2186.86 192.171 Q2188.38 189.833 2190.44 188.675 Q2192.53 187.518 2195.24 187.518 Q2199.7 187.518 2201.99 190.296 Q2204.29 193.05 2204.29 198.421 Z\" fill=\"#000000\" fill-rule=\"evenodd\" fill-opacity=\"1\" /><path clip-path=\"url(#clip210)\" d=\"M2223.57 216.476 Q2221.76 221.106 2220.05 222.518 Q2218.34 223.93 2215.47 223.93 L2212.06 223.93 L2212.06 220.365 L2214.56 220.365 Q2216.32 220.365 2217.3 219.532 Q2218.27 218.698 2219.45 215.596 L2220.21 213.652 L2209.73 188.143 L2214.24 188.143 L2222.34 208.421 L2230.44 188.143 L2234.96 188.143 L2223.57 216.476 Z\" fill=\"#000000\" fill-rule=\"evenodd\" fill-opacity=\"1\" /></svg>\n"
      ]
     },
     "execution_count": 41,
     "metadata": {},
     "output_type": "execute_result"
    }
   ],
   "source": [
    "M = hcat(validation_mse,ccp_alpha)\n",
    "m = M[argmin(M[:,1]),2]\n",
    "Plots.plot(ccp_alpha, train_mse, xlabel = \"alfa\", ylabel =  \"Błąd Średniokwadratowy (MSE)\", label = \"Zbiór treningowy\", linewidth=2, c = \"red\")\n",
    "Plots.plot!(ccp_alpha, validation_mse, linewidth=2, c = \"blue\" , label = \"Zbiór walidacyjny\")\n",
    "#annotate!((0.72, 0.55), \"Optymalna wartość alfa: $m\", font(10, \"Calibri Light\"))"
   ]
  },
  {
   "cell_type": "code",
   "execution_count": 65,
   "id": "secure-telescope",
   "metadata": {},
   "outputs": [],
   "source": [
    "alpha = 0.8 # alpha 0.8 ma gorsze rezultaty, alfa 0.9 ma lepszy wynik niz zbior treningowy\n",
    "modelDT = DecisionTreeRegressor(ccp_alpha = alpha, random_state=100)\n",
    "ScikitLearn.fit!(modelDT , Array(df_train_numerical) , Array(df_train_target.Target_1M))\n",
    "pred = modelDT.predict(Array(df_validation_numerical))\n",
    "MSE = mean_squared_error(pred, Array(df_validation_target.Target_1M))\n",
    "MAE = mean_absolute_error(pred, Array(df_validation_target.Target_1M))\n",
    "STD_pred = round(Statistics.std(Array(pred)), digits = 2);\n",
    "R2 = round(modelDT.score(Array(df_validation_numerical) , Array(df_validation_target.Target_1M)), digits = 2)\n",
    "STD = round(Statistics.std(Array(df_validation_target.Target_1M)), digits = 2);\n",
    "modelDT.get_params();"
   ]
  },
  {
   "cell_type": "code",
   "execution_count": 66,
   "id": "apparent-dragon",
   "metadata": {},
   "outputs": [
    {
     "name": "stdout",
     "output_type": "stream",
     "text": [
      "WYNIKI DRZEWA DECYZYJNEGO NA ZBIORZE WALIDACYJNYM\n",
      "Błąd Średniokwadratowy (MSE): 176.39\n",
      "Średni bład absolutny (MAE): 7.97\n",
      "Prognozowany średni zwrot: 1.8\n",
      "Średni zwrot na zbiorze walidacyjnym: 1.16\n",
      "Odchylenie standardowe prognozowanych zwrotów: 4.14\n",
      "Odchylenie standardowe na zbiorze walidacyjnym: 12.89\n",
      "Współczynnik R2: -0.06\n",
      "Liczba liści: 25\n",
      "Głebokość drzewa: 8\n"
     ]
    },
    {
     "data": {
      "text/plain": [
       "33×2 Matrix{Any}:\n",
       " \"mar_val\"         0.0275793\n",
       " \"tur_val\"         0.0\n",
       " \"cs_fl_sales\"     0.0\n",
       " \"ebit\"            0.0\n",
       " \"ebitda\"          0.0\n",
       " \"net_debt\"        0.0\n",
       " \"net_margin\"      0.0\n",
       " \"op_inc\"          0.0383647\n",
       " \"tot_assets\"      0.019004\n",
       " \"tot_capital\"     0.0949489\n",
       " \"tot_debt\"        0.0\n",
       " \"tot_liab\"        0.0417791\n",
       " \"op_prof_margin\"  0.0\n",
       " \"vol_5y\"          0.0\n",
       " \"vol_1y\"          0.0319748\n",
       " \"pr_cs_flow\"      0.0\n",
       " \"p_b_val\"         0.0\n",
       " \"beta\"            0.0\n",
       " \"debt_to_eq\"      0.0\n",
       " \"roe\"             0.0\n",
       " \"roi\"             0.0194645\n",
       " \"div_yield\"       0.0\n",
       " \"bidask_spread\"   0.039573\n",
       " \"per\"             0.0681981\n",
       " \"asset_growth\"    0.0\n",
       " \"cap_exp_gr\"      0.0409834\n",
       " \"num_shar_gr\"     0.105253\n",
       " \"long_debt_gr\"    0.18826\n",
       " \"mom_1M\"          0.0443265\n",
       " \"mom_3M\"          0.0\n",
       " \"mom_6M\"          0.181341\n",
       " \"mom_12M\"         0.0189731\n",
       " \"mom_24M\"         0.039977"
      ]
     },
     "execution_count": 66,
     "metadata": {},
     "output_type": "execute_result"
    }
   ],
   "source": [
    "#@show MSE \n",
    "#@show MAE \n",
    "\n",
    "println(\"WYNIKI DRZEWA DECYZYJNEGO NA ZBIORZE WALIDACYJNYM\")\n",
    "println(\"Błąd Średniokwadratowy (MSE): \", round(MSE, digits = 2))\n",
    "println(\"Średni bład absolutny (MAE): \", round(MAE, digits = 2))\n",
    "println(\"Prognozowany średni zwrot: \", round(mean(pred), digits = 2))\n",
    "println(\"Średni zwrot na zbiorze walidacyjnym: \", round(mean(df_validation_target.Target_1M), digits = 2))\n",
    "println(\"Odchylenie standardowe prognozowanych zwrotów: \", STD_pred)\n",
    "println(\"Odchylenie standardowe na zbiorze walidacyjnym: \", STD)\n",
    "println(\"Współczynnik R2: \", R2)\n",
    "println(\"Liczba liści: \", modelDT.get_n_leaves())\n",
    "println(\"Głebokość drzewa: \", modelDT.get_depth())\n",
    "hcat(names(df_validation_numerical), modelDT.feature_importances_)\n"
   ]
  },
  {
   "cell_type": "markdown",
   "id": "future-curtis",
   "metadata": {},
   "source": [
    "## Modelowanie las"
   ]
  },
  {
   "cell_type": "code",
   "execution_count": 75,
   "id": "pacific-drilling",
   "metadata": {},
   "outputs": [
    {
     "name": "stdout",
     "output_type": "stream",
     "text": [
      " 16.148920 seconds (33.21 M allocations: 793.772 MiB, 11.46% gc time)\n"
     ]
    }
   ],
   "source": [
    "### Liczba drzew w lesie\n",
    "\n",
    "forest = collect(10:10:250);\n",
    "n_trees = 130\n",
    "n_sample = 7 #18 wcześniej \n",
    "train_score = []\n",
    "validation_score = []\n",
    "train_r2 = []\n",
    "validation_r2 = []\n",
    "\n",
    "@time for n in forest\n",
    "    model = RandomForestRegressor(n_estimators=n, max_samples = n_sample, random_state=100)\n",
    "    ScikitLearn.fit!(model, Array(df_train_numerical) , Array(df_train_target.Target_1M))\n",
    "    MSE_t = mean_squared_error(model.predict(Array(df_train_numerical)), Array(df_train_target.Target_1M))\n",
    "    MSE_v = mean_squared_error(model.predict(Array(df_validation_numerical)), Array(df_validation_target.Target_1M))\n",
    "    r2_t = model.score(Array(df_train_numerical) , Array(df_train_target.Target_1M))\n",
    "    r2_v = model.score(Array(df_validation_numerical) , Array(df_validation_target.Target_1M))\n",
    "    push!(train_r2, r2_t)\n",
    "    push!(validation_r2, r2_v)\n",
    "    push!(train_score, MSE_t)\n",
    "    push!(validation_score, MSE_v)\n",
    "end\n",
    "\n",
    "### najpierw została ustalona odpowiednia liczba drzew, później za pomocą tego samego kodu optymalna liczba sampli"
   ]
  },
  {
   "cell_type": "code",
   "execution_count": 76,
   "id": "pending-headline",
   "metadata": {},
   "outputs": [
    {
     "data": {
      "image/svg+xml": [
       "<?xml version=\"1.0\" encoding=\"utf-8\"?>\n",
       "<svg xmlns=\"http://www.w3.org/2000/svg\" xmlns:xlink=\"http://www.w3.org/1999/xlink\" width=\"600\" height=\"400\" viewBox=\"0 0 2400 1600\">\n",
       "<defs>\n",
       "  <clipPath id=\"clip370\">\n",
       "    <rect x=\"0\" y=\"0\" width=\"2400\" height=\"1600\"/>\n",
       "  </clipPath>\n",
       "</defs>\n",
       "<path clip-path=\"url(#clip370)\" d=\"\n",
       "M0 1600 L2400 1600 L2400 0 L0 0  Z\n",
       "  \" fill=\"#ffffff\" fill-rule=\"evenodd\" fill-opacity=\"1\"/>\n",
       "<defs>\n",
       "  <clipPath id=\"clip371\">\n",
       "    <rect x=\"480\" y=\"0\" width=\"1681\" height=\"1600\"/>\n",
       "  </clipPath>\n",
       "</defs>\n",
       "<path clip-path=\"url(#clip370)\" d=\"\n",
       "M234.125 1423.18 L2352.76 1423.18 L2352.76 47.2441 L234.125 47.2441  Z\n",
       "  \" fill=\"#ffffff\" fill-rule=\"evenodd\" fill-opacity=\"1\"/>\n",
       "<defs>\n",
       "  <clipPath id=\"clip372\">\n",
       "    <rect x=\"234\" y=\"47\" width=\"2120\" height=\"1377\"/>\n",
       "  </clipPath>\n",
       "</defs>\n",
       "<polyline clip-path=\"url(#clip372)\" style=\"stroke:#000000; stroke-linecap:butt; stroke-linejoin:round; stroke-width:2; stroke-opacity:0.1; fill:none\" points=\"\n",
       "  627.205,1423.18 627.205,47.2441 \n",
       "  \"/>\n",
       "<polyline clip-path=\"url(#clip372)\" style=\"stroke:#000000; stroke-linecap:butt; stroke-linejoin:round; stroke-width:2; stroke-opacity:0.1; fill:none\" points=\"\n",
       "  1043.6,1423.18 1043.6,47.2441 \n",
       "  \"/>\n",
       "<polyline clip-path=\"url(#clip372)\" style=\"stroke:#000000; stroke-linecap:butt; stroke-linejoin:round; stroke-width:2; stroke-opacity:0.1; fill:none\" points=\"\n",
       "  1460,1423.18 1460,47.2441 \n",
       "  \"/>\n",
       "<polyline clip-path=\"url(#clip372)\" style=\"stroke:#000000; stroke-linecap:butt; stroke-linejoin:round; stroke-width:2; stroke-opacity:0.1; fill:none\" points=\"\n",
       "  1876.4,1423.18 1876.4,47.2441 \n",
       "  \"/>\n",
       "<polyline clip-path=\"url(#clip372)\" style=\"stroke:#000000; stroke-linecap:butt; stroke-linejoin:round; stroke-width:2; stroke-opacity:0.1; fill:none\" points=\"\n",
       "  2292.79,1423.18 2292.79,47.2441 \n",
       "  \"/>\n",
       "<polyline clip-path=\"url(#clip370)\" style=\"stroke:#000000; stroke-linecap:butt; stroke-linejoin:round; stroke-width:4; stroke-opacity:1; fill:none\" points=\"\n",
       "  234.125,1423.18 2352.76,1423.18 \n",
       "  \"/>\n",
       "<polyline clip-path=\"url(#clip370)\" style=\"stroke:#000000; stroke-linecap:butt; stroke-linejoin:round; stroke-width:4; stroke-opacity:1; fill:none\" points=\"\n",
       "  627.205,1423.18 627.205,1404.28 \n",
       "  \"/>\n",
       "<polyline clip-path=\"url(#clip370)\" style=\"stroke:#000000; stroke-linecap:butt; stroke-linejoin:round; stroke-width:4; stroke-opacity:1; fill:none\" points=\"\n",
       "  1043.6,1423.18 1043.6,1404.28 \n",
       "  \"/>\n",
       "<polyline clip-path=\"url(#clip370)\" style=\"stroke:#000000; stroke-linecap:butt; stroke-linejoin:round; stroke-width:4; stroke-opacity:1; fill:none\" points=\"\n",
       "  1460,1423.18 1460,1404.28 \n",
       "  \"/>\n",
       "<polyline clip-path=\"url(#clip370)\" style=\"stroke:#000000; stroke-linecap:butt; stroke-linejoin:round; stroke-width:4; stroke-opacity:1; fill:none\" points=\"\n",
       "  1876.4,1423.18 1876.4,1404.28 \n",
       "  \"/>\n",
       "<polyline clip-path=\"url(#clip370)\" style=\"stroke:#000000; stroke-linecap:butt; stroke-linejoin:round; stroke-width:4; stroke-opacity:1; fill:none\" points=\"\n",
       "  2292.79,1423.18 2292.79,1404.28 \n",
       "  \"/>\n",
       "<path clip-path=\"url(#clip370)\" d=\"M601.904 1449.29 L620.26 1449.29 L620.26 1453.23 L606.186 1453.23 L606.186 1461.7 Q607.205 1461.35 608.223 1461.19 Q609.242 1461 610.26 1461 Q616.047 1461 619.427 1464.18 Q622.807 1467.35 622.807 1472.76 Q622.807 1478.34 619.334 1481.44 Q615.862 1484.52 609.543 1484.52 Q607.367 1484.52 605.098 1484.15 Q602.853 1483.78 600.446 1483.04 L600.446 1478.34 Q602.529 1479.48 604.751 1480.03 Q606.973 1480.59 609.45 1480.59 Q613.455 1480.59 615.793 1478.48 Q618.131 1476.38 618.131 1472.76 Q618.131 1469.15 615.793 1467.05 Q613.455 1464.94 609.45 1464.94 Q607.575 1464.94 605.7 1465.36 Q603.848 1465.77 601.904 1466.65 L601.904 1449.29 Z\" fill=\"#000000\" fill-rule=\"evenodd\" fill-opacity=\"1\" /><path clip-path=\"url(#clip370)\" d=\"M642.019 1452.37 Q638.408 1452.37 636.58 1455.94 Q634.774 1459.48 634.774 1466.61 Q634.774 1473.71 636.58 1477.28 Q638.408 1480.82 642.019 1480.82 Q645.654 1480.82 647.459 1477.28 Q649.288 1473.71 649.288 1466.61 Q649.288 1459.48 647.459 1455.94 Q645.654 1452.37 642.019 1452.37 M642.019 1448.67 Q647.83 1448.67 650.885 1453.27 Q653.964 1457.86 653.964 1466.61 Q653.964 1475.33 650.885 1479.94 Q647.83 1484.52 642.019 1484.52 Q636.209 1484.52 633.131 1479.94 Q630.075 1475.33 630.075 1466.61 Q630.075 1457.86 633.131 1453.27 Q636.209 1448.67 642.019 1448.67 Z\" fill=\"#000000\" fill-rule=\"evenodd\" fill-opacity=\"1\" /><path clip-path=\"url(#clip370)\" d=\"M1003.21 1479.92 L1010.85 1479.92 L1010.85 1453.55 L1002.54 1455.22 L1002.54 1450.96 L1010.8 1449.29 L1015.48 1449.29 L1015.48 1479.92 L1023.12 1479.92 L1023.12 1483.85 L1003.21 1483.85 L1003.21 1479.92 Z\" fill=\"#000000\" fill-rule=\"evenodd\" fill-opacity=\"1\" /><path clip-path=\"url(#clip370)\" d=\"M1042.56 1452.37 Q1038.95 1452.37 1037.12 1455.94 Q1035.32 1459.48 1035.32 1466.61 Q1035.32 1473.71 1037.12 1477.28 Q1038.95 1480.82 1042.56 1480.82 Q1046.19 1480.82 1048 1477.28 Q1049.83 1473.71 1049.83 1466.61 Q1049.83 1459.48 1048 1455.94 Q1046.19 1452.37 1042.56 1452.37 M1042.56 1448.67 Q1048.37 1448.67 1051.43 1453.27 Q1054.5 1457.86 1054.5 1466.61 Q1054.5 1475.33 1051.43 1479.94 Q1048.37 1484.52 1042.56 1484.52 Q1036.75 1484.52 1033.67 1479.94 Q1030.62 1475.33 1030.62 1466.61 Q1030.62 1457.86 1033.67 1453.27 Q1036.75 1448.67 1042.56 1448.67 Z\" fill=\"#000000\" fill-rule=\"evenodd\" fill-opacity=\"1\" /><path clip-path=\"url(#clip370)\" d=\"M1072.72 1452.37 Q1069.11 1452.37 1067.28 1455.94 Q1065.48 1459.48 1065.48 1466.61 Q1065.48 1473.71 1067.28 1477.28 Q1069.11 1480.82 1072.72 1480.82 Q1076.36 1480.82 1078.16 1477.28 Q1079.99 1473.71 1079.99 1466.61 Q1079.99 1459.48 1078.16 1455.94 Q1076.36 1452.37 1072.72 1452.37 M1072.72 1448.67 Q1078.53 1448.67 1081.59 1453.27 Q1084.67 1457.86 1084.67 1466.61 Q1084.67 1475.33 1081.59 1479.94 Q1078.53 1484.52 1072.72 1484.52 Q1066.91 1484.52 1063.83 1479.94 Q1060.78 1475.33 1060.78 1466.61 Q1060.78 1457.86 1063.83 1453.27 Q1066.91 1448.67 1072.72 1448.67 Z\" fill=\"#000000\" fill-rule=\"evenodd\" fill-opacity=\"1\" /><path clip-path=\"url(#clip370)\" d=\"M1419.61 1479.92 L1427.25 1479.92 L1427.25 1453.55 L1418.94 1455.22 L1418.94 1450.96 L1427.2 1449.29 L1431.87 1449.29 L1431.87 1479.92 L1439.51 1479.92 L1439.51 1483.85 L1419.61 1483.85 L1419.61 1479.92 Z\" fill=\"#000000\" fill-rule=\"evenodd\" fill-opacity=\"1\" /><path clip-path=\"url(#clip370)\" d=\"M1449 1449.29 L1467.36 1449.29 L1467.36 1453.23 L1453.29 1453.23 L1453.29 1461.7 Q1454.31 1461.35 1455.32 1461.19 Q1456.34 1461 1457.36 1461 Q1463.15 1461 1466.53 1464.18 Q1469.91 1467.35 1469.91 1472.76 Q1469.91 1478.34 1466.43 1481.44 Q1462.96 1484.52 1456.64 1484.52 Q1454.47 1484.52 1452.2 1484.15 Q1449.95 1483.78 1447.55 1483.04 L1447.55 1478.34 Q1449.63 1479.48 1451.85 1480.03 Q1454.07 1480.59 1456.55 1480.59 Q1460.56 1480.59 1462.89 1478.48 Q1465.23 1476.38 1465.23 1472.76 Q1465.23 1469.15 1462.89 1467.05 Q1460.56 1464.94 1456.55 1464.94 Q1454.68 1464.94 1452.8 1465.36 Q1450.95 1465.77 1449 1466.65 L1449 1449.29 Z\" fill=\"#000000\" fill-rule=\"evenodd\" fill-opacity=\"1\" /><path clip-path=\"url(#clip370)\" d=\"M1489.12 1452.37 Q1485.51 1452.37 1483.68 1455.94 Q1481.87 1459.48 1481.87 1466.61 Q1481.87 1473.71 1483.68 1477.28 Q1485.51 1480.82 1489.12 1480.82 Q1492.75 1480.82 1494.56 1477.28 Q1496.39 1473.71 1496.39 1466.61 Q1496.39 1459.48 1494.56 1455.94 Q1492.75 1452.37 1489.12 1452.37 M1489.12 1448.67 Q1494.93 1448.67 1497.99 1453.27 Q1501.06 1457.86 1501.06 1466.61 Q1501.06 1475.33 1497.99 1479.94 Q1494.93 1484.52 1489.12 1484.52 Q1483.31 1484.52 1480.23 1479.94 Q1477.18 1475.33 1477.18 1466.61 Q1477.18 1457.86 1480.23 1453.27 Q1483.31 1448.67 1489.12 1448.67 Z\" fill=\"#000000\" fill-rule=\"evenodd\" fill-opacity=\"1\" /><path clip-path=\"url(#clip370)\" d=\"M1840.09 1479.92 L1856.41 1479.92 L1856.41 1483.85 L1834.46 1483.85 L1834.46 1479.92 Q1837.13 1477.16 1841.71 1472.53 Q1846.32 1467.88 1847.5 1466.54 Q1849.74 1464.01 1850.62 1462.28 Q1851.52 1460.52 1851.52 1458.83 Q1851.52 1456.07 1849.58 1454.34 Q1847.66 1452.6 1844.56 1452.6 Q1842.36 1452.6 1839.9 1453.37 Q1837.47 1454.13 1834.7 1455.68 L1834.7 1450.96 Q1837.52 1449.82 1839.97 1449.25 Q1842.43 1448.67 1844.46 1448.67 Q1849.83 1448.67 1853.03 1451.35 Q1856.22 1454.04 1856.22 1458.53 Q1856.22 1460.66 1855.41 1462.58 Q1854.63 1464.48 1852.52 1467.07 Q1851.94 1467.74 1848.84 1470.96 Q1845.74 1474.15 1840.09 1479.92 Z\" fill=\"#000000\" fill-rule=\"evenodd\" fill-opacity=\"1\" /><path clip-path=\"url(#clip370)\" d=\"M1876.22 1452.37 Q1872.61 1452.37 1870.78 1455.94 Q1868.98 1459.48 1868.98 1466.61 Q1868.98 1473.71 1870.78 1477.28 Q1872.61 1480.82 1876.22 1480.82 Q1879.86 1480.82 1881.66 1477.28 Q1883.49 1473.71 1883.49 1466.61 Q1883.49 1459.48 1881.66 1455.94 Q1879.86 1452.37 1876.22 1452.37 M1876.22 1448.67 Q1882.03 1448.67 1885.09 1453.27 Q1888.17 1457.86 1888.17 1466.61 Q1888.17 1475.33 1885.09 1479.94 Q1882.03 1484.52 1876.22 1484.52 Q1870.41 1484.52 1867.33 1479.94 Q1864.28 1475.33 1864.28 1466.61 Q1864.28 1457.86 1867.33 1453.27 Q1870.41 1448.67 1876.22 1448.67 Z\" fill=\"#000000\" fill-rule=\"evenodd\" fill-opacity=\"1\" /><path clip-path=\"url(#clip370)\" d=\"M1906.39 1452.37 Q1902.77 1452.37 1900.95 1455.94 Q1899.14 1459.48 1899.14 1466.61 Q1899.14 1473.71 1900.95 1477.28 Q1902.77 1480.82 1906.39 1480.82 Q1910.02 1480.82 1911.83 1477.28 Q1913.65 1473.71 1913.65 1466.61 Q1913.65 1459.48 1911.83 1455.94 Q1910.02 1452.37 1906.39 1452.37 M1906.39 1448.67 Q1912.2 1448.67 1915.25 1453.27 Q1918.33 1457.86 1918.33 1466.61 Q1918.33 1475.33 1915.25 1479.94 Q1912.2 1484.52 1906.39 1484.52 Q1900.58 1484.52 1897.5 1479.94 Q1894.44 1475.33 1894.44 1466.61 Q1894.44 1457.86 1897.5 1453.27 Q1900.58 1448.67 1906.39 1448.67 Z\" fill=\"#000000\" fill-rule=\"evenodd\" fill-opacity=\"1\" /><path clip-path=\"url(#clip370)\" d=\"M2256.49 1479.92 L2272.81 1479.92 L2272.81 1483.85 L2250.86 1483.85 L2250.86 1479.92 Q2253.52 1477.16 2258.11 1472.53 Q2262.71 1467.88 2263.89 1466.54 Q2266.14 1464.01 2267.02 1462.28 Q2267.92 1460.52 2267.92 1458.83 Q2267.92 1456.07 2265.98 1454.34 Q2264.06 1452.6 2260.95 1452.6 Q2258.76 1452.6 2256.3 1453.37 Q2253.87 1454.13 2251.09 1455.68 L2251.09 1450.96 Q2253.92 1449.82 2256.37 1449.25 Q2258.82 1448.67 2260.86 1448.67 Q2266.23 1448.67 2269.43 1451.35 Q2272.62 1454.04 2272.62 1458.53 Q2272.62 1460.66 2271.81 1462.58 Q2271.02 1464.48 2268.92 1467.07 Q2268.34 1467.74 2265.24 1470.96 Q2262.14 1474.15 2256.49 1479.92 Z\" fill=\"#000000\" fill-rule=\"evenodd\" fill-opacity=\"1\" /><path clip-path=\"url(#clip370)\" d=\"M2282.67 1449.29 L2301.02 1449.29 L2301.02 1453.23 L2286.95 1453.23 L2286.95 1461.7 Q2287.97 1461.35 2288.99 1461.19 Q2290.01 1461 2291.02 1461 Q2296.81 1461 2300.19 1464.18 Q2303.57 1467.35 2303.57 1472.76 Q2303.57 1478.34 2300.1 1481.44 Q2296.63 1484.52 2290.31 1484.52 Q2288.13 1484.52 2285.86 1484.15 Q2283.62 1483.78 2281.21 1483.04 L2281.21 1478.34 Q2283.29 1479.48 2285.51 1480.03 Q2287.74 1480.59 2290.21 1480.59 Q2294.22 1480.59 2296.56 1478.48 Q2298.89 1476.38 2298.89 1472.76 Q2298.89 1469.15 2296.56 1467.05 Q2294.22 1464.94 2290.21 1464.94 Q2288.34 1464.94 2286.46 1465.36 Q2284.61 1465.77 2282.67 1466.65 L2282.67 1449.29 Z\" fill=\"#000000\" fill-rule=\"evenodd\" fill-opacity=\"1\" /><path clip-path=\"url(#clip370)\" d=\"M2322.78 1452.37 Q2319.17 1452.37 2317.34 1455.94 Q2315.54 1459.48 2315.54 1466.61 Q2315.54 1473.71 2317.34 1477.28 Q2319.17 1480.82 2322.78 1480.82 Q2326.42 1480.82 2328.22 1477.28 Q2330.05 1473.71 2330.05 1466.61 Q2330.05 1459.48 2328.22 1455.94 Q2326.42 1452.37 2322.78 1452.37 M2322.78 1448.67 Q2328.59 1448.67 2331.65 1453.27 Q2334.73 1457.86 2334.73 1466.61 Q2334.73 1475.33 2331.65 1479.94 Q2328.59 1484.52 2322.78 1484.52 Q2316.97 1484.52 2313.89 1479.94 Q2310.84 1475.33 2310.84 1466.61 Q2310.84 1457.86 2313.89 1453.27 Q2316.97 1448.67 2322.78 1448.67 Z\" fill=\"#000000\" fill-rule=\"evenodd\" fill-opacity=\"1\" /><path clip-path=\"url(#clip370)\" d=\"M1086.84 1520.52 L1093.27 1520.52 L1093.27 1562.63 L1116.41 1562.63 L1116.41 1568.04 L1086.84 1568.04 L1086.84 1520.52 Z\" fill=\"#000000\" fill-rule=\"evenodd\" fill-opacity=\"1\" /><path clip-path=\"url(#clip370)\" d=\"M1122.9 1532.4 L1128.76 1532.4 L1128.76 1568.04 L1122.9 1568.04 L1122.9 1532.4 M1122.9 1518.52 L1128.76 1518.52 L1128.76 1525.93 L1122.9 1525.93 L1122.9 1518.52 Z\" fill=\"#000000\" fill-rule=\"evenodd\" fill-opacity=\"1\" /><path clip-path=\"url(#clip370)\" d=\"M1166.67 1533.76 L1166.67 1539.24 Q1164.19 1537.87 1161.67 1537.2 Q1159.19 1536.5 1156.64 1536.5 Q1150.94 1536.5 1147.79 1540.13 Q1144.64 1543.73 1144.64 1550.25 Q1144.64 1556.78 1147.79 1560.4 Q1150.94 1564 1156.64 1564 Q1159.19 1564 1161.67 1563.33 Q1164.19 1562.63 1166.67 1561.26 L1166.67 1566.68 Q1164.22 1567.82 1161.58 1568.39 Q1158.97 1568.97 1156.01 1568.97 Q1147.95 1568.97 1143.21 1563.91 Q1138.47 1558.85 1138.47 1550.25 Q1138.47 1541.53 1143.24 1536.53 Q1148.05 1531.54 1156.39 1531.54 Q1159.09 1531.54 1161.67 1532.11 Q1164.25 1532.65 1166.67 1533.76 Z\" fill=\"#000000\" fill-rule=\"evenodd\" fill-opacity=\"1\" /><path clip-path=\"url(#clip370)\" d=\"M1174.31 1532.4 L1202.12 1532.4 L1202.12 1537.74 L1180.1 1563.37 L1202.12 1563.37 L1202.12 1568.04 L1173.51 1568.04 L1173.51 1562.7 L1195.54 1537.07 L1174.31 1537.07 L1174.31 1532.4 Z\" fill=\"#000000\" fill-rule=\"evenodd\" fill-opacity=\"1\" /><path clip-path=\"url(#clip370)\" d=\"M1236.66 1550.25 Q1236.66 1543.79 1233.98 1540.13 Q1231.34 1536.44 1226.7 1536.44 Q1222.05 1536.44 1219.38 1540.13 Q1216.73 1543.79 1216.73 1550.25 Q1216.73 1556.71 1219.38 1560.4 Q1222.05 1564.07 1226.7 1564.07 Q1231.34 1564.07 1233.98 1560.4 Q1236.66 1556.71 1236.66 1550.25 M1216.73 1537.81 Q1218.58 1534.62 1221.38 1533.1 Q1224.21 1531.54 1228.13 1531.54 Q1234.62 1531.54 1238.66 1536.69 Q1242.74 1541.85 1242.74 1550.25 Q1242.74 1558.65 1238.66 1563.81 Q1234.62 1568.97 1228.13 1568.97 Q1224.21 1568.97 1221.38 1567.44 Q1218.58 1565.88 1216.73 1562.7 L1216.73 1568.04 L1210.85 1568.04 L1210.85 1518.52 L1216.73 1518.52 L1216.73 1537.81 Z\" fill=\"#000000\" fill-rule=\"evenodd\" fill-opacity=\"1\" /><path clip-path=\"url(#clip370)\" d=\"M1268.65 1550.12 Q1261.55 1550.12 1258.81 1551.75 Q1256.07 1553.37 1256.07 1557.29 Q1256.07 1560.4 1258.11 1562.25 Q1260.18 1564.07 1263.71 1564.07 Q1268.58 1564.07 1271.51 1560.63 Q1274.47 1557.16 1274.47 1551.43 L1274.47 1550.12 L1268.65 1550.12 M1280.33 1547.71 L1280.33 1568.04 L1274.47 1568.04 L1274.47 1562.63 Q1272.47 1565.88 1269.47 1567.44 Q1266.48 1568.97 1262.15 1568.97 Q1256.68 1568.97 1253.43 1565.91 Q1250.22 1562.82 1250.22 1557.67 Q1250.22 1551.65 1254.23 1548.6 Q1258.27 1545.54 1266.26 1545.54 L1274.47 1545.54 L1274.47 1544.97 Q1274.47 1540.93 1271.8 1538.73 Q1269.16 1536.5 1264.35 1536.5 Q1261.29 1536.5 1258.4 1537.23 Q1255.5 1537.97 1252.83 1539.43 L1252.83 1534.02 Q1256.04 1532.78 1259.07 1532.17 Q1262.09 1531.54 1264.95 1531.54 Q1272.69 1531.54 1276.51 1535.55 Q1280.33 1539.56 1280.33 1547.71 Z\" fill=\"#000000\" fill-rule=\"evenodd\" fill-opacity=\"1\" /><path clip-path=\"url(#clip370)\" d=\"M1336.57 1537.81 L1336.57 1518.52 L1342.42 1518.52 L1342.42 1568.04 L1336.57 1568.04 L1336.57 1562.7 Q1334.72 1565.88 1331.89 1567.44 Q1329.09 1568.97 1325.14 1568.97 Q1318.68 1568.97 1314.61 1563.81 Q1310.56 1558.65 1310.56 1550.25 Q1310.56 1541.85 1314.61 1536.69 Q1318.68 1531.54 1325.14 1531.54 Q1329.09 1531.54 1331.89 1533.1 Q1334.72 1534.62 1336.57 1537.81 M1316.61 1550.25 Q1316.61 1556.71 1319.25 1560.4 Q1321.93 1564.07 1326.57 1564.07 Q1331.22 1564.07 1333.89 1560.4 Q1336.57 1556.71 1336.57 1550.25 Q1336.57 1543.79 1333.89 1540.13 Q1331.22 1536.44 1326.57 1536.44 Q1321.93 1536.44 1319.25 1540.13 Q1316.61 1543.79 1316.61 1550.25 Z\" fill=\"#000000\" fill-rule=\"evenodd\" fill-opacity=\"1\" /><path clip-path=\"url(#clip370)\" d=\"M1375.14 1537.87 Q1374.16 1537.3 1372.98 1537.04 Q1371.83 1536.76 1370.43 1536.76 Q1365.47 1536.76 1362.8 1540 Q1360.15 1543.22 1360.15 1549.27 L1360.15 1568.04 L1354.27 1568.04 L1354.27 1532.4 L1360.15 1532.4 L1360.15 1537.93 Q1362 1534.69 1364.96 1533.13 Q1367.92 1531.54 1372.15 1531.54 Q1372.76 1531.54 1373.49 1531.63 Q1374.22 1531.7 1375.11 1531.85 L1375.14 1537.87 Z\" fill=\"#000000\" fill-rule=\"evenodd\" fill-opacity=\"1\" /><path clip-path=\"url(#clip370)\" d=\"M1378.74 1532.4 L1406.56 1532.4 L1406.56 1537.74 L1384.53 1563.37 L1406.56 1563.37 L1406.56 1568.04 L1377.95 1568.04 L1377.95 1562.7 L1399.97 1537.07 L1378.74 1537.07 L1378.74 1532.4 Z\" fill=\"#000000\" fill-rule=\"evenodd\" fill-opacity=\"1\" /><path clip-path=\"url(#clip370)\" d=\"M1445.99 1548.76 L1445.99 1551.62 L1419.07 1551.62 Q1419.45 1557.67 1422.7 1560.85 Q1425.97 1564 1431.8 1564 Q1435.17 1564 1438.32 1563.17 Q1441.51 1562.35 1444.63 1560.69 L1444.63 1566.23 Q1441.48 1567.57 1438.17 1568.27 Q1434.85 1568.97 1431.45 1568.97 Q1422.92 1568.97 1417.92 1564 Q1412.96 1559.04 1412.96 1550.57 Q1412.96 1541.82 1417.67 1536.69 Q1422.41 1531.54 1430.43 1531.54 Q1437.62 1531.54 1441.79 1536.18 Q1445.99 1540.8 1445.99 1548.76 M1440.14 1547.04 Q1440.07 1542.23 1437.43 1539.37 Q1434.82 1536.5 1430.49 1536.5 Q1425.59 1536.5 1422.63 1539.27 Q1419.7 1542.04 1419.26 1547.07 L1440.14 1547.04 Z\" fill=\"#000000\" fill-rule=\"evenodd\" fill-opacity=\"1\" /><path clip-path=\"url(#clip370)\" d=\"M1452.2 1532.4 L1458.06 1532.4 L1465.38 1560.21 L1472.67 1532.4 L1479.57 1532.4 L1486.89 1560.21 L1494.18 1532.4 L1500.04 1532.4 L1490.71 1568.04 L1483.81 1568.04 L1476.14 1538.83 L1468.43 1568.04 L1461.53 1568.04 L1452.2 1532.4 Z\" fill=\"#000000\" fill-rule=\"evenodd\" fill-opacity=\"1\" /><polyline clip-path=\"url(#clip372)\" style=\"stroke:#000000; stroke-linecap:butt; stroke-linejoin:round; stroke-width:2; stroke-opacity:0.1; fill:none\" points=\"\n",
       "  234.125,1295.74 2352.76,1295.74 \n",
       "  \"/>\n",
       "<polyline clip-path=\"url(#clip372)\" style=\"stroke:#000000; stroke-linecap:butt; stroke-linejoin:round; stroke-width:2; stroke-opacity:0.1; fill:none\" points=\"\n",
       "  234.125,1022.96 2352.76,1022.96 \n",
       "  \"/>\n",
       "<polyline clip-path=\"url(#clip372)\" style=\"stroke:#000000; stroke-linecap:butt; stroke-linejoin:round; stroke-width:2; stroke-opacity:0.1; fill:none\" points=\"\n",
       "  234.125,750.177 2352.76,750.177 \n",
       "  \"/>\n",
       "<polyline clip-path=\"url(#clip372)\" style=\"stroke:#000000; stroke-linecap:butt; stroke-linejoin:round; stroke-width:2; stroke-opacity:0.1; fill:none\" points=\"\n",
       "  234.125,477.395 2352.76,477.395 \n",
       "  \"/>\n",
       "<polyline clip-path=\"url(#clip372)\" style=\"stroke:#000000; stroke-linecap:butt; stroke-linejoin:round; stroke-width:2; stroke-opacity:0.1; fill:none\" points=\"\n",
       "  234.125,204.613 2352.76,204.613 \n",
       "  \"/>\n",
       "<polyline clip-path=\"url(#clip370)\" style=\"stroke:#000000; stroke-linecap:butt; stroke-linejoin:round; stroke-width:4; stroke-opacity:1; fill:none\" points=\"\n",
       "  234.125,1423.18 234.125,47.2441 \n",
       "  \"/>\n",
       "<polyline clip-path=\"url(#clip370)\" style=\"stroke:#000000; stroke-linecap:butt; stroke-linejoin:round; stroke-width:4; stroke-opacity:1; fill:none\" points=\"\n",
       "  234.125,1295.74 253.023,1295.74 \n",
       "  \"/>\n",
       "<polyline clip-path=\"url(#clip370)\" style=\"stroke:#000000; stroke-linecap:butt; stroke-linejoin:round; stroke-width:4; stroke-opacity:1; fill:none\" points=\"\n",
       "  234.125,1022.96 253.023,1022.96 \n",
       "  \"/>\n",
       "<polyline clip-path=\"url(#clip370)\" style=\"stroke:#000000; stroke-linecap:butt; stroke-linejoin:round; stroke-width:4; stroke-opacity:1; fill:none\" points=\"\n",
       "  234.125,750.177 253.023,750.177 \n",
       "  \"/>\n",
       "<polyline clip-path=\"url(#clip370)\" style=\"stroke:#000000; stroke-linecap:butt; stroke-linejoin:round; stroke-width:4; stroke-opacity:1; fill:none\" points=\"\n",
       "  234.125,477.395 253.023,477.395 \n",
       "  \"/>\n",
       "<polyline clip-path=\"url(#clip370)\" style=\"stroke:#000000; stroke-linecap:butt; stroke-linejoin:round; stroke-width:4; stroke-opacity:1; fill:none\" points=\"\n",
       "  234.125,204.613 253.023,204.613 \n",
       "  \"/>\n",
       "<path clip-path=\"url(#clip370)\" d=\"M116.668 1309.09 L124.306 1309.09 L124.306 1282.72 L115.996 1284.39 L115.996 1280.13 L124.26 1278.46 L128.936 1278.46 L128.936 1309.09 L136.575 1309.09 L136.575 1313.02 L116.668 1313.02 L116.668 1309.09 Z\" fill=\"#000000\" fill-rule=\"evenodd\" fill-opacity=\"1\" /><path clip-path=\"url(#clip370)\" d=\"M144.839 1278.46 L167.061 1278.46 L167.061 1280.45 L154.515 1313.02 L149.63 1313.02 L161.436 1282.4 L144.839 1282.4 L144.839 1278.46 Z\" fill=\"#000000\" fill-rule=\"evenodd\" fill-opacity=\"1\" /><path clip-path=\"url(#clip370)\" d=\"M186.181 1281.54 Q182.57 1281.54 180.741 1285.1 Q178.936 1288.65 178.936 1295.77 Q178.936 1302.88 180.741 1306.45 Q182.57 1309.99 186.181 1309.99 Q189.815 1309.99 191.621 1306.45 Q193.45 1302.88 193.45 1295.77 Q193.45 1288.65 191.621 1285.1 Q189.815 1281.54 186.181 1281.54 M186.181 1277.84 Q191.991 1277.84 195.047 1282.44 Q198.125 1287.02 198.125 1295.77 Q198.125 1304.5 195.047 1309.11 Q191.991 1313.69 186.181 1313.69 Q180.371 1313.69 177.292 1309.11 Q174.237 1304.5 174.237 1295.77 Q174.237 1287.02 177.292 1282.44 Q180.371 1277.84 186.181 1277.84 Z\" fill=\"#000000\" fill-rule=\"evenodd\" fill-opacity=\"1\" /><path clip-path=\"url(#clip370)\" d=\"M116.668 1036.3 L124.306 1036.3 L124.306 1009.94 L115.996 1011.6 L115.996 1007.35 L124.26 1005.68 L128.936 1005.68 L128.936 1036.3 L136.575 1036.3 L136.575 1040.24 L116.668 1040.24 L116.668 1036.3 Z\" fill=\"#000000\" fill-rule=\"evenodd\" fill-opacity=\"1\" /><path clip-path=\"url(#clip370)\" d=\"M156.019 1023.83 Q152.686 1023.83 150.765 1025.61 Q148.866 1027.39 148.866 1030.52 Q148.866 1033.64 150.765 1035.42 Q152.686 1037.21 156.019 1037.21 Q159.353 1037.21 161.274 1035.42 Q163.195 1033.62 163.195 1030.52 Q163.195 1027.39 161.274 1025.61 Q159.376 1023.83 156.019 1023.83 M151.343 1021.84 Q148.334 1021.1 146.644 1019.03 Q144.978 1016.97 144.978 1014.01 Q144.978 1009.87 147.917 1007.46 Q150.88 1005.05 156.019 1005.05 Q161.181 1005.05 164.121 1007.46 Q167.061 1009.87 167.061 1014.01 Q167.061 1016.97 165.371 1019.03 Q163.704 1021.1 160.718 1021.84 Q164.098 1022.62 165.973 1024.91 Q167.871 1027.21 167.871 1030.52 Q167.871 1035.54 164.792 1038.22 Q161.737 1040.91 156.019 1040.91 Q150.302 1040.91 147.223 1038.22 Q144.167 1035.54 144.167 1030.52 Q144.167 1027.21 146.066 1024.91 Q147.964 1022.62 151.343 1021.84 M149.63 1014.45 Q149.63 1017.14 151.297 1018.64 Q152.987 1020.15 156.019 1020.15 Q159.028 1020.15 160.718 1018.64 Q162.431 1017.14 162.431 1014.45 Q162.431 1011.77 160.718 1010.26 Q159.028 1008.76 156.019 1008.76 Q152.987 1008.76 151.297 1010.26 Q149.63 1011.77 149.63 1014.45 Z\" fill=\"#000000\" fill-rule=\"evenodd\" fill-opacity=\"1\" /><path clip-path=\"url(#clip370)\" d=\"M186.181 1008.76 Q182.57 1008.76 180.741 1012.32 Q178.936 1015.86 178.936 1022.99 Q178.936 1030.1 180.741 1033.66 Q182.57 1037.21 186.181 1037.21 Q189.815 1037.21 191.621 1033.66 Q193.45 1030.1 193.45 1022.99 Q193.45 1015.86 191.621 1012.32 Q189.815 1008.76 186.181 1008.76 M186.181 1005.05 Q191.991 1005.05 195.047 1009.66 Q198.125 1014.24 198.125 1022.99 Q198.125 1031.72 195.047 1036.33 Q191.991 1040.91 186.181 1040.91 Q180.371 1040.91 177.292 1036.33 Q174.237 1031.72 174.237 1022.99 Q174.237 1014.24 177.292 1009.66 Q180.371 1005.05 186.181 1005.05 Z\" fill=\"#000000\" fill-rule=\"evenodd\" fill-opacity=\"1\" /><path clip-path=\"url(#clip370)\" d=\"M116.668 763.522 L124.306 763.522 L124.306 737.156 L115.996 738.823 L115.996 734.563 L124.26 732.897 L128.936 732.897 L128.936 763.522 L136.575 763.522 L136.575 767.457 L116.668 767.457 L116.668 763.522 Z\" fill=\"#000000\" fill-rule=\"evenodd\" fill-opacity=\"1\" /><path clip-path=\"url(#clip370)\" d=\"M146.158 766.739 L146.158 762.48 Q147.917 763.313 149.723 763.753 Q151.528 764.193 153.265 764.193 Q157.894 764.193 160.325 761.091 Q162.778 757.966 163.126 751.623 Q161.783 753.614 159.723 754.679 Q157.663 755.744 155.163 755.744 Q149.978 755.744 146.945 752.619 Q143.936 749.471 143.936 744.031 Q143.936 738.707 147.084 735.489 Q150.232 732.272 155.464 732.272 Q161.459 732.272 164.607 736.878 Q167.778 741.461 167.778 750.211 Q167.778 758.383 163.89 763.267 Q160.024 768.128 153.473 768.128 Q151.714 768.128 149.908 767.781 Q148.103 767.434 146.158 766.739 M155.464 752.086 Q158.612 752.086 160.44 749.934 Q162.292 747.781 162.292 744.031 Q162.292 740.304 160.44 738.151 Q158.612 735.975 155.464 735.975 Q152.316 735.975 150.464 738.151 Q148.635 740.304 148.635 744.031 Q148.635 747.781 150.464 749.934 Q152.316 752.086 155.464 752.086 Z\" fill=\"#000000\" fill-rule=\"evenodd\" fill-opacity=\"1\" /><path clip-path=\"url(#clip370)\" d=\"M186.181 735.975 Q182.57 735.975 180.741 739.54 Q178.936 743.082 178.936 750.211 Q178.936 757.318 180.741 760.883 Q182.57 764.424 186.181 764.424 Q189.815 764.424 191.621 760.883 Q193.45 757.318 193.45 750.211 Q193.45 743.082 191.621 739.54 Q189.815 735.975 186.181 735.975 M186.181 732.272 Q191.991 732.272 195.047 736.878 Q198.125 741.461 198.125 750.211 Q198.125 758.938 195.047 763.545 Q191.991 768.128 186.181 768.128 Q180.371 768.128 177.292 763.545 Q174.237 758.938 174.237 750.211 Q174.237 741.461 177.292 736.878 Q180.371 732.272 186.181 732.272 Z\" fill=\"#000000\" fill-rule=\"evenodd\" fill-opacity=\"1\" /><path clip-path=\"url(#clip370)\" d=\"M119.885 490.74 L136.204 490.74 L136.204 494.675 L114.26 494.675 L114.26 490.74 Q116.922 487.985 121.505 483.356 Q126.112 478.703 127.292 477.36 Q129.538 474.837 130.417 473.101 Q131.32 471.342 131.32 469.652 Q131.32 466.897 129.376 465.161 Q127.455 463.425 124.353 463.425 Q122.154 463.425 119.7 464.189 Q117.269 464.953 114.492 466.504 L114.492 461.782 Q117.316 460.647 119.769 460.069 Q122.223 459.49 124.26 459.49 Q129.63 459.49 132.825 462.175 Q136.019 464.86 136.019 469.351 Q136.019 471.481 135.209 473.402 Q134.422 475.3 132.316 477.893 Q131.737 478.564 128.635 481.782 Q125.533 484.976 119.885 490.74 Z\" fill=\"#000000\" fill-rule=\"evenodd\" fill-opacity=\"1\" /><path clip-path=\"url(#clip370)\" d=\"M156.019 463.194 Q152.408 463.194 150.579 466.758 Q148.774 470.3 148.774 477.43 Q148.774 484.536 150.579 488.101 Q152.408 491.643 156.019 491.643 Q159.653 491.643 161.459 488.101 Q163.288 484.536 163.288 477.43 Q163.288 470.3 161.459 466.758 Q159.653 463.194 156.019 463.194 M156.019 459.49 Q161.829 459.49 164.885 464.096 Q167.964 468.68 167.964 477.43 Q167.964 486.156 164.885 490.763 Q161.829 495.346 156.019 495.346 Q150.209 495.346 147.13 490.763 Q144.075 486.156 144.075 477.43 Q144.075 468.68 147.13 464.096 Q150.209 459.49 156.019 459.49 Z\" fill=\"#000000\" fill-rule=\"evenodd\" fill-opacity=\"1\" /><path clip-path=\"url(#clip370)\" d=\"M186.181 463.194 Q182.57 463.194 180.741 466.758 Q178.936 470.3 178.936 477.43 Q178.936 484.536 180.741 488.101 Q182.57 491.643 186.181 491.643 Q189.815 491.643 191.621 488.101 Q193.45 484.536 193.45 477.43 Q193.45 470.3 191.621 466.758 Q189.815 463.194 186.181 463.194 M186.181 459.49 Q191.991 459.49 195.047 464.096 Q198.125 468.68 198.125 477.43 Q198.125 486.156 195.047 490.763 Q191.991 495.346 186.181 495.346 Q180.371 495.346 177.292 490.763 Q174.237 486.156 174.237 477.43 Q174.237 468.68 177.292 464.096 Q180.371 459.49 186.181 459.49 Z\" fill=\"#000000\" fill-rule=\"evenodd\" fill-opacity=\"1\" /><path clip-path=\"url(#clip370)\" d=\"M119.885 217.958 L136.204 217.958 L136.204 221.893 L114.26 221.893 L114.26 217.958 Q116.922 215.203 121.505 210.574 Q126.112 205.921 127.292 204.578 Q129.538 202.055 130.417 200.319 Q131.32 198.56 131.32 196.87 Q131.32 194.116 129.376 192.379 Q127.455 190.643 124.353 190.643 Q122.154 190.643 119.7 191.407 Q117.269 192.171 114.492 193.722 L114.492 189 Q117.316 187.866 119.769 187.287 Q122.223 186.708 124.26 186.708 Q129.63 186.708 132.825 189.393 Q136.019 192.079 136.019 196.569 Q136.019 198.699 135.209 200.62 Q134.422 202.518 132.316 205.111 Q131.737 205.782 128.635 209 Q125.533 212.194 119.885 217.958 Z\" fill=\"#000000\" fill-rule=\"evenodd\" fill-opacity=\"1\" /><path clip-path=\"url(#clip370)\" d=\"M146.829 217.958 L154.468 217.958 L154.468 191.592 L146.158 193.259 L146.158 189 L154.422 187.333 L159.098 187.333 L159.098 217.958 L166.737 217.958 L166.737 221.893 L146.829 221.893 L146.829 217.958 Z\" fill=\"#000000\" fill-rule=\"evenodd\" fill-opacity=\"1\" /><path clip-path=\"url(#clip370)\" d=\"M186.181 190.412 Q182.57 190.412 180.741 193.977 Q178.936 197.518 178.936 204.648 Q178.936 211.754 180.741 215.319 Q182.57 218.861 186.181 218.861 Q189.815 218.861 191.621 215.319 Q193.45 211.754 193.45 204.648 Q193.45 197.518 191.621 193.977 Q189.815 190.412 186.181 190.412 M186.181 186.708 Q191.991 186.708 195.047 191.315 Q198.125 195.898 198.125 204.648 Q198.125 213.375 195.047 217.981 Q191.991 222.564 186.181 222.564 Q180.371 222.564 177.292 217.981 Q174.237 213.375 174.237 204.648 Q174.237 195.898 177.292 191.315 Q180.371 186.708 186.181 186.708 Z\" fill=\"#000000\" fill-rule=\"evenodd\" fill-opacity=\"1\" /><path clip-path=\"url(#clip370)\" d=\"M16.4842 799.331 L16.4842 789.75 L48.8219 777.623 L16.4842 765.433 L16.4842 755.853 L64.0042 755.853 L64.0042 762.123 L22.277 762.123 L54.8694 774.377 L54.8694 780.838 L22.277 793.092 L64.0042 793.092 L64.0042 799.331 L16.4842 799.331 Z\" fill=\"#000000\" fill-rule=\"evenodd\" fill-opacity=\"1\" /><path clip-path=\"url(#clip370)\" d=\"M18.0438 714.603 L24.314 714.603 Q22.5634 718.263 21.704 721.51 Q20.8447 724.756 20.8447 727.78 Q20.8447 733.032 22.8817 735.896 Q24.9187 738.729 28.6745 738.729 Q31.8255 738.729 33.4488 736.851 Q35.0402 734.941 36.0269 729.658 L36.8226 725.775 Q38.1912 718.582 41.6605 715.176 Q45.098 711.738 50.8908 711.738 Q57.7976 711.738 61.3624 716.385 Q64.9272 721.001 64.9272 729.944 Q64.9272 733.318 64.1633 737.138 Q63.3994 740.925 61.9035 744.999 L55.2831 744.999 Q57.4793 741.084 58.5933 737.329 Q59.7073 733.573 59.7073 729.944 Q59.7073 724.438 57.543 721.446 Q55.3786 718.454 51.3682 718.454 Q47.8671 718.454 45.8937 720.619 Q43.9204 722.751 42.9337 727.653 L42.1698 731.568 Q40.7375 738.761 37.682 741.976 Q34.6264 745.19 29.1837 745.19 Q22.8817 745.19 19.2532 740.766 Q15.6248 736.31 15.6248 728.512 Q15.6248 725.17 16.2295 721.701 Q16.8343 718.231 18.0438 714.603 Z\" fill=\"#000000\" fill-rule=\"evenodd\" fill-opacity=\"1\" /><path clip-path=\"url(#clip370)\" d=\"M16.4842 701.712 L16.4842 671.666 L21.895 671.666 L21.895 695.283 L35.9632 695.283 L35.9632 672.653 L41.3741 672.653 L41.3741 695.283 L58.5933 695.283 L58.5933 671.093 L64.0042 671.093 L64.0042 701.712 L16.4842 701.712 Z\" fill=\"#000000\" fill-rule=\"evenodd\" fill-opacity=\"1\" /><polyline clip-path=\"url(#clip372)\" style=\"stroke:#ff0000; stroke-linecap:butt; stroke-linejoin:round; stroke-width:8; stroke-opacity:1; fill:none\" points=\"\n",
       "  294.087,304.317 377.366,379.273 460.646,86.1857 543.925,106.613 627.205,264.859 710.484,326.552 793.764,384.883 877.043,380.732 960.323,421.023 1043.6,434.847 \n",
       "  1126.88,448.985 1210.16,462.461 1293.44,466.869 1376.72,489.318 1460,509.713 1543.28,521.077 1626.56,532.252 1709.84,527.579 1793.12,525.564 1876.4,532.204 \n",
       "  1959.68,525.713 2042.96,524.718 2126.24,527.229 2209.52,525.507 2292.79,519.095 \n",
       "  \"/>\n",
       "<polyline clip-path=\"url(#clip372)\" style=\"stroke:#0000ff; stroke-linecap:butt; stroke-linejoin:round; stroke-width:8; stroke-opacity:1; fill:none\" points=\"\n",
       "  294.087,1121.65 377.366,1278.3 460.646,1117.64 543.925,1145.87 627.205,1260.31 710.484,1315.6 793.764,1345.83 877.043,1329.8 960.323,1323.7 1043.6,1354.47 \n",
       "  1126.88,1355.25 1210.16,1346.39 1293.44,1357.25 1376.72,1337.35 1460,1344.47 1543.28,1362.53 1626.56,1374.72 1709.84,1371.19 1793.12,1351.46 1876.4,1364.17 \n",
       "  1959.68,1361.44 2042.96,1371.79 2126.24,1375.52 2209.52,1382.61 2292.79,1384.24 \n",
       "  \"/>\n",
       "<path clip-path=\"url(#clip370)\" d=\"\n",
       "M1994.3 248.629 L2282.13 248.629 L2282.13 93.1086 L1994.3 93.1086  Z\n",
       "  \" fill=\"#ffffff\" fill-rule=\"evenodd\" fill-opacity=\"1\"/>\n",
       "<polyline clip-path=\"url(#clip370)\" style=\"stroke:#000000; stroke-linecap:butt; stroke-linejoin:round; stroke-width:4; stroke-opacity:1; fill:none\" points=\"\n",
       "  1994.3,248.629 2282.13,248.629 2282.13,93.1086 1994.3,93.1086 1994.3,248.629 \n",
       "  \"/>\n",
       "<polyline clip-path=\"url(#clip370)\" style=\"stroke:#ff0000; stroke-linecap:butt; stroke-linejoin:round; stroke-width:4; stroke-opacity:1; fill:none\" points=\"\n",
       "  2017.84,144.949 2159.08,144.949 \n",
       "  \"/>\n",
       "<path clip-path=\"url(#clip370)\" d=\"M2196.47 164.636 Q2194.66 169.266 2192.95 170.678 Q2191.24 172.09 2188.36 172.09 L2184.96 172.09 L2184.96 168.525 L2187.46 168.525 Q2189.22 168.525 2190.19 167.692 Q2191.17 166.858 2192.35 163.756 L2193.11 161.812 L2182.62 136.303 L2187.14 136.303 L2195.24 156.581 L2203.34 136.303 L2207.86 136.303 L2196.47 164.636 Z\" fill=\"#000000\" fill-rule=\"evenodd\" fill-opacity=\"1\" /><path clip-path=\"url(#clip370)\" d=\"M2215.15 158.293 L2222.79 158.293 L2222.79 131.928 L2214.48 133.595 L2214.48 129.335 L2222.74 127.669 L2227.42 127.669 L2227.42 158.293 L2235.05 158.293 L2235.05 162.229 L2215.15 162.229 L2215.15 158.293 Z\" fill=\"#000000\" fill-rule=\"evenodd\" fill-opacity=\"1\" /><polyline clip-path=\"url(#clip370)\" style=\"stroke:#0000ff; stroke-linecap:butt; stroke-linejoin:round; stroke-width:4; stroke-opacity:1; fill:none\" points=\"\n",
       "  2017.84,196.789 2159.08,196.789 \n",
       "  \"/>\n",
       "<path clip-path=\"url(#clip370)\" d=\"M2196.47 216.476 Q2194.66 221.106 2192.95 222.518 Q2191.24 223.93 2188.36 223.93 L2184.96 223.93 L2184.96 220.365 L2187.46 220.365 Q2189.22 220.365 2190.19 219.532 Q2191.17 218.698 2192.35 215.596 L2193.11 213.652 L2182.62 188.143 L2187.14 188.143 L2195.24 208.421 L2203.34 188.143 L2207.86 188.143 L2196.47 216.476 Z\" fill=\"#000000\" fill-rule=\"evenodd\" fill-opacity=\"1\" /><path clip-path=\"url(#clip370)\" d=\"M2218.36 210.133 L2234.68 210.133 L2234.68 214.069 L2212.74 214.069 L2212.74 210.133 Q2215.4 207.379 2219.98 202.749 Q2224.59 198.096 2225.77 196.754 Q2228.02 194.231 2228.9 192.495 Q2229.8 190.735 2229.8 189.046 Q2229.8 186.291 2227.86 184.555 Q2225.93 182.819 2222.83 182.819 Q2220.63 182.819 2218.18 183.583 Q2215.75 184.347 2212.97 185.897 L2212.97 181.175 Q2215.8 180.041 2218.25 179.462 Q2220.7 178.884 2222.74 178.884 Q2228.11 178.884 2231.3 181.569 Q2234.5 184.254 2234.5 188.745 Q2234.5 190.874 2233.69 192.796 Q2232.9 194.694 2230.79 197.286 Q2230.22 197.958 2227.11 201.175 Q2224.01 204.37 2218.36 210.133 Z\" fill=\"#000000\" fill-rule=\"evenodd\" fill-opacity=\"1\" /><path clip-path=\"url(#clip370)\" d=\"M1239.23 648.779 Q1232.86 648.779 1229.1 653.525 Q1225.37 658.27 1225.37 666.459 Q1225.37 674.618 1229.1 679.364 Q1232.86 684.109 1239.23 684.109 Q1245.6 684.109 1249.3 679.364 Q1253.03 674.618 1253.03 666.459 Q1253.03 658.27 1249.3 653.525 Q1245.6 648.779 1239.23 648.779 M1239.23 644.034 Q1248.32 644.034 1253.76 650.139 Q1259.19 656.216 1259.19 666.459 Q1259.19 676.673 1253.76 682.778 Q1248.32 688.854 1239.23 688.854 Q1230.12 688.854 1224.65 682.778 Q1219.21 676.702 1219.21 666.459 Q1219.21 656.216 1224.65 650.139 Q1230.12 644.034 1239.23 644.034 Z\" fill=\"#000000\" fill-rule=\"evenodd\" fill-opacity=\"1\" /><path clip-path=\"url(#clip370)\" d=\"M1273.26 683.154 L1273.26 700.342 L1267.9 700.342 L1267.9 655.608 L1273.26 655.608 L1273.26 660.527 Q1274.94 657.633 1277.48 656.245 Q1280.06 654.827 1283.62 654.827 Q1289.52 654.827 1293.19 659.514 Q1296.9 664.202 1296.9 671.84 Q1296.9 679.479 1293.19 684.167 Q1289.52 688.854 1283.62 688.854 Q1280.06 688.854 1277.48 687.465 Q1274.94 686.048 1273.26 683.154 M1291.37 671.84 Q1291.37 665.967 1288.94 662.639 Q1286.54 659.283 1282.31 659.283 Q1278.09 659.283 1275.66 662.639 Q1273.26 665.967 1273.26 671.84 Q1273.26 677.714 1275.66 681.071 Q1278.09 684.398 1282.31 684.398 Q1286.54 684.398 1288.94 681.071 Q1291.37 677.714 1291.37 671.84 Z\" fill=\"#000000\" fill-rule=\"evenodd\" fill-opacity=\"1\" /><path clip-path=\"url(#clip370)\" d=\"M1310.99 646.407 L1310.99 655.608 L1321.95 655.608 L1321.95 659.746 L1310.99 659.746 L1310.99 677.338 Q1310.99 681.302 1312.06 682.431 Q1313.16 683.559 1316.49 683.559 L1321.95 683.559 L1321.95 688.015 L1316.49 688.015 Q1310.32 688.015 1307.98 685.729 Q1305.64 683.415 1305.64 677.338 L1305.64 659.746 L1301.73 659.746 L1301.73 655.608 L1305.64 655.608 L1305.64 646.407 L1310.99 646.407 Z\" fill=\"#000000\" fill-rule=\"evenodd\" fill-opacity=\"1\" /><path clip-path=\"url(#clip370)\" d=\"M1342.44 691.024 Q1340.18 696.811 1338.04 698.576 Q1335.9 700.342 1332.31 700.342 L1328.06 700.342 L1328.06 695.886 L1331.19 695.886 Q1333.38 695.886 1334.6 694.844 Q1335.81 693.802 1337.29 689.925 L1338.25 687.494 L1325.14 655.608 L1330.78 655.608 L1340.91 680.955 L1351.03 655.608 L1356.68 655.608 L1342.44 691.024 Z\" fill=\"#000000\" fill-rule=\"evenodd\" fill-opacity=\"1\" /><path clip-path=\"url(#clip370)\" d=\"M1389.26 661.829 Q1391.25 658.241 1394.03 656.534 Q1396.81 654.827 1400.57 654.827 Q1405.64 654.827 1408.38 658.386 Q1411.13 661.916 1411.13 668.455 L1411.13 688.015 L1405.78 688.015 L1405.78 668.629 Q1405.78 663.97 1404.13 661.713 Q1402.48 659.456 1399.1 659.456 Q1394.96 659.456 1392.56 662.205 Q1390.15 664.954 1390.15 669.699 L1390.15 688.015 L1384.8 688.015 L1384.8 668.629 Q1384.8 663.941 1383.15 661.713 Q1381.5 659.456 1378.06 659.456 Q1373.98 659.456 1371.58 662.234 Q1369.18 664.983 1369.18 669.699 L1369.18 688.015 L1363.82 688.015 L1363.82 655.608 L1369.18 655.608 L1369.18 660.643 Q1371 657.662 1373.55 656.245 Q1376.09 654.827 1379.59 654.827 Q1383.12 654.827 1385.58 656.621 Q1388.07 658.415 1389.26 661.829 Z\" fill=\"#000000\" fill-rule=\"evenodd\" fill-opacity=\"1\" /><path clip-path=\"url(#clip370)\" d=\"M1436.48 671.725 Q1430.03 671.725 1427.54 673.2 Q1425.05 674.676 1425.05 678.235 Q1425.05 681.071 1426.9 682.749 Q1428.78 684.398 1431.99 684.398 Q1436.42 684.398 1439.08 681.273 Q1441.77 678.119 1441.77 672.911 L1441.77 671.725 L1436.48 671.725 M1447.1 669.526 L1447.1 688.015 L1441.77 688.015 L1441.77 683.096 Q1439.95 686.048 1437.23 687.465 Q1434.51 688.854 1430.58 688.854 Q1425.6 688.854 1422.65 686.077 Q1419.73 683.27 1419.73 678.582 Q1419.73 673.114 1423.37 670.336 Q1427.05 667.558 1434.31 667.558 L1441.77 667.558 L1441.77 667.037 Q1441.77 663.363 1439.34 661.366 Q1436.94 659.341 1432.57 659.341 Q1429.8 659.341 1427.16 660.006 Q1424.53 660.672 1422.1 662.003 L1422.1 657.084 Q1425.02 655.955 1427.77 655.405 Q1430.52 654.827 1433.12 654.827 Q1440.15 654.827 1443.63 658.473 Q1447.1 662.118 1447.1 669.526 Z\" fill=\"#000000\" fill-rule=\"evenodd\" fill-opacity=\"1\" /><path clip-path=\"url(#clip370)\" d=\"M1458.07 642.992 L1463.39 642.992 L1463.39 688.015 L1458.07 688.015 L1458.07 642.992 Z\" fill=\"#000000\" fill-rule=\"evenodd\" fill-opacity=\"1\" /><path clip-path=\"url(#clip370)\" d=\"M1501.47 668.455 L1501.47 688.015 L1496.14 688.015 L1496.14 668.629 Q1496.14 664.028 1494.35 661.742 Q1492.56 659.456 1488.97 659.456 Q1484.66 659.456 1482.17 662.205 Q1479.68 664.954 1479.68 669.699 L1479.68 688.015 L1474.33 688.015 L1474.33 655.608 L1479.68 655.608 L1479.68 660.643 Q1481.59 657.72 1484.16 656.273 Q1486.77 654.827 1490.15 654.827 Q1495.74 654.827 1498.6 658.299 Q1501.47 661.742 1501.47 668.455 Z\" fill=\"#000000\" fill-rule=\"evenodd\" fill-opacity=\"1\" /><path clip-path=\"url(#clip370)\" d=\"M1526.81 671.725 Q1520.36 671.725 1517.87 673.2 Q1515.39 674.676 1515.39 678.235 Q1515.39 681.071 1517.24 682.749 Q1519.12 684.398 1522.33 684.398 Q1526.76 684.398 1529.42 681.273 Q1532.11 678.119 1532.11 672.911 L1532.11 671.725 L1526.81 671.725 M1537.43 669.526 L1537.43 688.015 L1532.11 688.015 L1532.11 683.096 Q1530.29 686.048 1527.57 687.465 Q1524.85 688.854 1520.91 688.854 Q1515.94 688.854 1512.98 686.077 Q1510.06 683.27 1510.06 678.582 Q1510.06 673.114 1513.71 670.336 Q1517.38 667.558 1524.64 667.558 L1532.11 667.558 L1532.11 667.037 Q1532.11 663.363 1529.68 661.366 Q1527.28 659.341 1522.91 659.341 Q1520.13 659.341 1517.5 660.006 Q1514.86 660.672 1512.43 662.003 L1512.43 657.084 Q1515.36 655.955 1518.11 655.405 Q1520.85 654.827 1523.46 654.827 Q1530.49 654.827 1533.96 658.473 Q1537.43 662.118 1537.43 669.526 Z\" fill=\"#000000\" fill-rule=\"evenodd\" fill-opacity=\"1\" /><path clip-path=\"url(#clip370)\" d=\"M1567.24 642.992 L1572.56 642.992 L1572.56 688.015 L1567.24 688.015 L1567.24 642.992 Z\" fill=\"#000000\" fill-rule=\"evenodd\" fill-opacity=\"1\" /><path clip-path=\"url(#clip370)\" d=\"M1583.7 655.608 L1589.03 655.608 L1589.03 688.015 L1583.7 688.015 L1583.7 655.608 M1583.7 642.992 L1589.03 642.992 L1589.03 649.734 L1583.7 649.734 L1583.7 642.992 Z\" fill=\"#000000\" fill-rule=\"evenodd\" fill-opacity=\"1\" /><path clip-path=\"url(#clip370)\" d=\"M1623.49 656.852 L1623.49 661.829 Q1621.23 660.585 1618.94 659.977 Q1616.69 659.341 1614.37 659.341 Q1609.19 659.341 1606.33 662.639 Q1603.46 665.909 1603.46 671.84 Q1603.46 677.772 1606.33 681.071 Q1609.19 684.34 1614.37 684.34 Q1616.69 684.34 1618.94 683.733 Q1621.23 683.096 1623.49 681.852 L1623.49 686.771 Q1621.26 687.813 1618.86 688.333 Q1616.48 688.854 1613.79 688.854 Q1606.47 688.854 1602.16 684.254 Q1597.85 679.653 1597.85 671.84 Q1597.85 663.912 1602.19 659.37 Q1606.56 654.827 1614.14 654.827 Q1616.6 654.827 1618.94 655.348 Q1621.29 655.839 1623.49 656.852 Z\" fill=\"#000000\" fill-rule=\"evenodd\" fill-opacity=\"1\" /><path clip-path=\"url(#clip370)\" d=\"M1630.43 655.608 L1655.72 655.608 L1655.72 660.469 L1635.7 683.762 L1655.72 683.762 L1655.72 688.015 L1629.71 688.015 L1629.71 683.154 L1649.73 659.861 L1630.43 659.861 L1630.43 655.608 Z\" fill=\"#000000\" fill-rule=\"evenodd\" fill-opacity=\"1\" /><path clip-path=\"url(#clip370)\" d=\"M1687.11 671.84 Q1687.11 665.967 1684.68 662.639 Q1682.28 659.283 1678.06 659.283 Q1673.83 659.283 1671.4 662.639 Q1669 665.967 1669 671.84 Q1669 677.714 1671.4 681.071 Q1673.83 684.398 1678.06 684.398 Q1682.28 684.398 1684.68 681.071 Q1687.11 677.714 1687.11 671.84 M1669 660.527 Q1670.68 657.633 1673.23 656.245 Q1675.8 654.827 1679.36 654.827 Q1685.26 654.827 1688.94 659.514 Q1692.64 664.202 1692.64 671.84 Q1692.64 679.479 1688.94 684.167 Q1685.26 688.854 1679.36 688.854 Q1675.8 688.854 1673.23 687.465 Q1670.68 686.048 1669 683.154 L1669 688.015 L1663.65 688.015 L1663.65 642.992 L1669 642.992 L1669 660.527 Z\" fill=\"#000000\" fill-rule=\"evenodd\" fill-opacity=\"1\" /><path clip-path=\"url(#clip370)\" d=\"M1716.19 671.725 Q1709.74 671.725 1707.25 673.2 Q1704.77 674.676 1704.77 678.235 Q1704.77 681.071 1706.62 682.749 Q1708.5 684.398 1711.71 684.398 Q1716.14 684.398 1718.8 681.273 Q1721.49 678.119 1721.49 672.911 L1721.49 671.725 L1716.19 671.725 M1726.81 669.526 L1726.81 688.015 L1721.49 688.015 L1721.49 683.096 Q1719.67 686.048 1716.95 687.465 Q1714.23 688.854 1710.29 688.854 Q1705.32 688.854 1702.36 686.077 Q1699.44 683.27 1699.44 678.582 Q1699.44 673.114 1703.09 670.336 Q1706.76 667.558 1714.02 667.558 L1721.49 667.558 L1721.49 667.037 Q1721.49 663.363 1719.06 661.366 Q1716.66 659.341 1712.29 659.341 Q1709.51 659.341 1706.88 660.006 Q1704.24 660.672 1701.81 662.003 L1701.81 657.084 Q1704.74 655.955 1707.49 655.405 Q1710.23 654.827 1712.84 654.827 Q1719.87 654.827 1723.34 658.473 Q1726.81 662.118 1726.81 669.526 Z\" fill=\"#000000\" fill-rule=\"evenodd\" fill-opacity=\"1\" /><path clip-path=\"url(#clip370)\" d=\"M1777.94 660.527 L1777.94 642.992 L1783.27 642.992 L1783.27 688.015 L1777.94 688.015 L1777.94 683.154 Q1776.26 686.048 1773.69 687.465 Q1771.14 688.854 1767.55 688.854 Q1761.68 688.854 1757.98 684.167 Q1754.3 679.479 1754.3 671.84 Q1754.3 664.202 1757.98 659.514 Q1761.68 654.827 1767.55 654.827 Q1771.14 654.827 1773.69 656.245 Q1776.26 657.633 1777.94 660.527 M1759.8 671.84 Q1759.8 677.714 1762.2 681.071 Q1764.63 684.398 1768.86 684.398 Q1773.08 684.398 1775.51 681.071 Q1777.94 677.714 1777.94 671.84 Q1777.94 665.967 1775.51 662.639 Q1773.08 659.283 1768.86 659.283 Q1764.63 659.283 1762.2 662.639 Q1759.8 665.967 1759.8 671.84 Z\" fill=\"#000000\" fill-rule=\"evenodd\" fill-opacity=\"1\" /><path clip-path=\"url(#clip370)\" d=\"M1813.01 660.585 Q1812.11 660.064 1811.04 659.832 Q1810 659.572 1808.73 659.572 Q1804.22 659.572 1801.78 662.523 Q1799.38 665.446 1799.38 670.944 L1799.38 688.015 L1794.03 688.015 L1794.03 655.608 L1799.38 655.608 L1799.38 660.643 Q1801.06 657.691 1803.75 656.273 Q1806.44 654.827 1810.29 654.827 Q1810.84 654.827 1811.51 654.914 Q1812.17 654.971 1812.98 655.116 L1813.01 660.585 Z\" fill=\"#000000\" fill-rule=\"evenodd\" fill-opacity=\"1\" /><path clip-path=\"url(#clip370)\" d=\"M1816.28 655.608 L1841.57 655.608 L1841.57 660.469 L1821.55 683.762 L1841.57 683.762 L1841.57 688.015 L1815.56 688.015 L1815.56 683.154 L1835.58 659.861 L1816.28 659.861 L1816.28 655.608 Z\" fill=\"#000000\" fill-rule=\"evenodd\" fill-opacity=\"1\" /><path clip-path=\"url(#clip370)\" d=\"M1877.42 670.481 L1877.42 673.085 L1852.94 673.085 Q1853.29 678.582 1856.24 681.476 Q1859.22 684.34 1864.52 684.34 Q1867.58 684.34 1870.45 683.588 Q1873.34 682.836 1876.18 681.331 L1876.18 686.366 Q1873.31 687.581 1870.3 688.218 Q1867.29 688.854 1864.2 688.854 Q1856.44 688.854 1851.9 684.34 Q1847.39 679.827 1847.39 672.13 Q1847.39 664.173 1851.67 659.514 Q1855.98 654.827 1863.27 654.827 Q1869.81 654.827 1873.6 659.051 Q1877.42 663.247 1877.42 670.481 M1872.1 668.918 Q1872.04 664.549 1869.64 661.945 Q1867.26 659.341 1863.33 659.341 Q1858.87 659.341 1856.18 661.858 Q1853.52 664.375 1853.12 668.947 L1872.1 668.918 Z\" fill=\"#000000\" fill-rule=\"evenodd\" fill-opacity=\"1\" /><path clip-path=\"url(#clip370)\" d=\"M1883.06 655.608 L1888.39 655.608 L1895.04 680.897 L1901.67 655.608 L1907.95 655.608 L1914.6 680.897 L1921.23 655.608 L1926.55 655.608 L1918.07 688.015 L1911.8 688.015 L1904.82 661.453 L1897.82 688.015 L1891.54 688.015 L1883.06 655.608 Z\" fill=\"#000000\" fill-rule=\"evenodd\" fill-opacity=\"1\" /><path clip-path=\"url(#clip370)\" d=\"M1950.37 655.608 L1955.69 655.608 L1962.35 680.897 L1968.97 655.608 L1975.25 655.608 L1981.91 680.897 L1988.53 655.608 L1993.86 655.608 L1985.38 688.015 L1979.1 688.015 L1972.13 661.453 L1965.12 688.015 L1958.84 688.015 L1950.37 655.608 Z\" fill=\"#000000\" fill-rule=\"evenodd\" fill-opacity=\"1\" /><path clip-path=\"url(#clip370)\" d=\"M2020.76 642.992 L2026.09 642.992 L2026.09 688.015 L2020.76 688.015 L2020.76 642.992 Z\" fill=\"#000000\" fill-rule=\"evenodd\" fill-opacity=\"1\" /><path clip-path=\"url(#clip370)\" d=\"M2064.95 670.481 L2064.95 673.085 L2040.47 673.085 Q2040.82 678.582 2043.77 681.476 Q2046.75 684.34 2052.04 684.34 Q2055.11 684.34 2057.98 683.588 Q2060.87 682.836 2063.7 681.331 L2063.7 686.366 Q2060.84 687.581 2057.83 688.218 Q2054.82 688.854 2051.73 688.854 Q2043.97 688.854 2039.43 684.34 Q2034.91 679.827 2034.91 672.13 Q2034.91 664.173 2039.2 659.514 Q2043.51 654.827 2050.8 654.827 Q2057.34 654.827 2061.13 659.051 Q2064.95 663.247 2064.95 670.481 M2059.62 668.918 Q2059.57 664.549 2057.17 661.945 Q2054.79 659.341 2050.86 659.341 Q2046.4 659.341 2043.71 661.858 Q2041.05 664.375 2040.64 668.947 L2059.62 668.918 Z\" fill=\"#000000\" fill-rule=\"evenodd\" fill-opacity=\"1\" /><path clip-path=\"url(#clip370)\" d=\"M2094.35 656.563 L2094.35 661.597 Q2092.09 660.44 2089.66 659.861 Q2087.23 659.283 2084.62 659.283 Q2080.66 659.283 2078.66 660.498 Q2076.7 661.713 2076.7 664.144 Q2076.7 665.996 2078.11 667.066 Q2079.53 668.108 2083.81 669.063 L2085.64 669.468 Q2091.31 670.683 2093.68 672.911 Q2096.08 675.11 2096.08 679.074 Q2096.08 683.588 2092.49 686.221 Q2088.94 688.854 2082.69 688.854 Q2080.08 688.854 2077.25 688.333 Q2074.44 687.842 2071.31 686.829 L2071.31 681.331 Q2074.27 682.865 2077.13 683.646 Q2079.99 684.398 2082.8 684.398 Q2086.56 684.398 2088.59 683.125 Q2090.61 681.823 2090.61 679.479 Q2090.61 677.309 2089.14 676.152 Q2087.69 674.994 2082.74 673.924 L2080.89 673.49 Q2075.94 672.448 2073.74 670.307 Q2071.55 668.137 2071.55 664.375 Q2071.55 659.804 2074.79 657.315 Q2078.03 654.827 2083.99 654.827 Q2086.94 654.827 2089.54 655.261 Q2092.15 655.695 2094.35 656.563 Z\" fill=\"#000000\" fill-rule=\"evenodd\" fill-opacity=\"1\" /><path clip-path=\"url(#clip370)\" d=\"M2104.56 655.608 L2109.88 655.608 L2109.88 688.015 L2104.56 688.015 L2104.56 655.608 M2104.56 642.992 L2109.88 642.992 L2109.88 649.734 L2104.56 649.734 L2104.56 642.992 Z\" fill=\"#000000\" fill-rule=\"evenodd\" fill-opacity=\"1\" /><path clip-path=\"url(#clip370)\" d=\"M2148.74 670.481 L2148.74 673.085 L2124.27 673.085 Q2124.61 678.582 2127.56 681.476 Q2130.54 684.34 2135.84 684.34 Q2138.91 684.34 2141.77 683.588 Q2144.66 682.836 2147.5 681.331 L2147.5 686.366 Q2144.64 687.581 2141.63 688.218 Q2138.62 688.854 2135.52 688.854 Q2127.77 688.854 2123.22 684.34 Q2118.71 679.827 2118.71 672.13 Q2118.71 664.173 2122.99 659.514 Q2127.3 654.827 2134.6 654.827 Q2141.13 654.827 2144.93 659.051 Q2148.74 663.247 2148.74 670.481 M2143.42 668.918 Q2143.36 664.549 2140.96 661.945 Q2138.59 659.341 2134.65 659.341 Q2130.2 659.341 2127.51 661.858 Q2124.84 664.375 2124.44 668.947 L2143.42 668.918 Z\" fill=\"#000000\" fill-rule=\"evenodd\" fill-opacity=\"1\" /><path clip-path=\"url(#clip370)\" d=\"M2158.84 680.666 L2164.95 680.666 L2164.95 688.015 L2158.84 688.015 L2158.84 680.666 M2158.84 657.373 L2164.95 657.373 L2164.95 664.722 L2158.84 664.722 L2158.84 657.373 Z\" fill=\"#000000\" fill-rule=\"evenodd\" fill-opacity=\"1\" /><path clip-path=\"url(#clip370)\" d=\"M2202.07 683.096 L2222.47 683.096 L2222.47 688.015 L2195.04 688.015 L2195.04 683.096 Q2198.37 679.653 2204.1 673.866 Q2209.86 668.05 2211.33 666.372 Q2214.14 663.218 2215.24 661.048 Q2216.37 658.849 2216.37 656.736 Q2216.37 653.293 2213.94 651.123 Q2211.53 648.953 2207.66 648.953 Q2204.91 648.953 2201.84 649.908 Q2198.8 650.863 2195.33 652.801 L2195.33 646.899 Q2198.86 645.481 2201.93 644.757 Q2204.99 644.034 2207.54 644.034 Q2214.25 644.034 2218.25 647.39 Q2222.24 650.747 2222.24 656.36 Q2222.24 659.022 2221.23 661.424 Q2220.24 663.797 2217.61 667.037 Q2216.89 667.876 2213.01 671.898 Q2209.13 675.891 2202.07 683.096 Z\" fill=\"#000000\" fill-rule=\"evenodd\" fill-opacity=\"1\" /><path clip-path=\"url(#clip370)\" d=\"M2234.8 644.815 L2257.74 644.815 L2257.74 649.734 L2240.15 649.734 L2240.15 660.324 Q2241.42 659.89 2242.7 659.688 Q2243.97 659.456 2245.24 659.456 Q2252.48 659.456 2256.7 663.42 Q2260.93 667.385 2260.93 674.155 Q2260.93 681.129 2256.59 685.006 Q2252.25 688.854 2244.35 688.854 Q2241.63 688.854 2238.79 688.391 Q2235.98 687.928 2232.97 687.002 L2232.97 681.129 Q2235.58 682.546 2238.36 683.241 Q2241.13 683.935 2244.23 683.935 Q2249.24 683.935 2252.16 681.302 Q2255.08 678.669 2255.08 674.155 Q2255.08 669.641 2252.16 667.008 Q2249.24 664.375 2244.23 664.375 Q2241.89 664.375 2239.54 664.896 Q2237.23 665.417 2234.8 666.516 L2234.8 644.815 Z\" fill=\"#000000\" fill-rule=\"evenodd\" fill-opacity=\"1\" /><path clip-path=\"url(#clip370)\" d=\"M2284.94 648.664 Q2280.43 648.664 2278.14 653.12 Q2275.88 657.547 2275.88 666.459 Q2275.88 675.342 2278.14 679.798 Q2280.43 684.225 2284.94 684.225 Q2289.48 684.225 2291.74 679.798 Q2294.03 675.342 2294.03 666.459 Q2294.03 657.547 2291.74 653.12 Q2289.48 648.664 2284.94 648.664 M2284.94 644.034 Q2292.2 644.034 2296.02 649.792 Q2299.87 655.521 2299.87 666.459 Q2299.87 677.367 2296.02 683.125 Q2292.2 688.854 2284.94 688.854 Q2277.68 688.854 2273.83 683.125 Q2270.01 677.367 2270.01 666.459 Q2270.01 655.521 2273.83 649.792 Q2277.68 644.034 2284.94 644.034 Z\" fill=\"#000000\" fill-rule=\"evenodd\" fill-opacity=\"1\" /></svg>\n"
      ]
     },
     "execution_count": 76,
     "metadata": {},
     "output_type": "execute_result"
    }
   ],
   "source": [
    "M = hcat(validation_score, forest)\n",
    "m = M[argmin(M[:,1]),2]\n",
    "Plots.plot(forest, train_score, xlabel = \"Liczba drzew\", ylabel =  \"MSE\", linewidth=2, c = \"red\")\n",
    "Plots.plot!(forest, validation_score, linewidth=2, c = \"blue\" );\n",
    "annotate!((0.72, 0.55), \"Optymalna liczba drzew w lesie: $m\", font(10, \"Calibri Light\"))"
   ]
  },
  {
   "cell_type": "code",
   "execution_count": 69,
   "id": "phantom-farmer",
   "metadata": {},
   "outputs": [
    {
     "name": "stdout",
     "output_type": "stream",
     "text": [
      " 15.305362 seconds (21.26 M allocations: 508.014 MiB, 6.58% gc time)\n"
     ]
    }
   ],
   "source": [
    "### hiperparametry: liczba zmiennych w jednym oszacowaniu\n",
    "\n",
    "samples = collect(2:2:32)\n",
    "n_trees = 260\n",
    "n_sample = 18\n",
    "train_score = []\n",
    "validation_score = []\n",
    "train_r2 = []\n",
    "validation_r2 = []\n",
    "\n",
    "@time for n in samples\n",
    "    model = RandomForestRegressor(n_estimators=n_trees, max_samples = n, random_state=100)\n",
    "    ScikitLearn.fit!(model, Array(df_train_numerical) , Array(df_train_target.Target_1M))\n",
    "    MSE_t = mean_squared_error(model.predict(Array(df_train_numerical)), Array(df_train_target.Target_1M))\n",
    "    MSE_v = mean_squared_error(model.predict(Array(df_validation_numerical)), Array(df_validation_target.Target_1M))\n",
    "    r2_t = model.score(Array(df_train_numerical) , Array(df_train_target.Target_1M))\n",
    "    r2_v = model.score(Array(df_validation_numerical) , Array(df_validation_target.Target_1M))\n",
    "    push!(train_r2, r2_t)\n",
    "    push!(validation_r2, r2_v)\n",
    "    push!(train_score, MSE_t)\n",
    "    push!(validation_score, MSE_v)\n",
    "end"
   ]
  },
  {
   "cell_type": "code",
   "execution_count": 70,
   "id": "heavy-wayne",
   "metadata": {},
   "outputs": [
    {
     "data": {
      "image/svg+xml": [
       "<?xml version=\"1.0\" encoding=\"utf-8\"?>\n",
       "<svg xmlns=\"http://www.w3.org/2000/svg\" xmlns:xlink=\"http://www.w3.org/1999/xlink\" width=\"600\" height=\"400\" viewBox=\"0 0 2400 1600\">\n",
       "<defs>\n",
       "  <clipPath id=\"clip290\">\n",
       "    <rect x=\"0\" y=\"0\" width=\"2400\" height=\"1600\"/>\n",
       "  </clipPath>\n",
       "</defs>\n",
       "<path clip-path=\"url(#clip290)\" d=\"\n",
       "M0 1600 L2400 1600 L2400 0 L0 0  Z\n",
       "  \" fill=\"#ffffff\" fill-rule=\"evenodd\" fill-opacity=\"1\"/>\n",
       "<defs>\n",
       "  <clipPath id=\"clip291\">\n",
       "    <rect x=\"480\" y=\"0\" width=\"1681\" height=\"1600\"/>\n",
       "  </clipPath>\n",
       "</defs>\n",
       "<path clip-path=\"url(#clip290)\" d=\"\n",
       "M234.125 1423.18 L2352.76 1423.18 L2352.76 47.2441 L234.125 47.2441  Z\n",
       "  \" fill=\"#ffffff\" fill-rule=\"evenodd\" fill-opacity=\"1\"/>\n",
       "<defs>\n",
       "  <clipPath id=\"clip292\">\n",
       "    <rect x=\"234\" y=\"47\" width=\"2120\" height=\"1377\"/>\n",
       "  </clipPath>\n",
       "</defs>\n",
       "<polyline clip-path=\"url(#clip292)\" style=\"stroke:#000000; stroke-linecap:butt; stroke-linejoin:round; stroke-width:2; stroke-opacity:0.1; fill:none\" points=\"\n",
       "  493.957,1423.18 493.957,47.2441 \n",
       "  \"/>\n",
       "<polyline clip-path=\"url(#clip292)\" style=\"stroke:#000000; stroke-linecap:butt; stroke-linejoin:round; stroke-width:2; stroke-opacity:0.1; fill:none\" points=\"\n",
       "  827.075,1423.18 827.075,47.2441 \n",
       "  \"/>\n",
       "<polyline clip-path=\"url(#clip292)\" style=\"stroke:#000000; stroke-linecap:butt; stroke-linejoin:round; stroke-width:2; stroke-opacity:0.1; fill:none\" points=\"\n",
       "  1160.19,1423.18 1160.19,47.2441 \n",
       "  \"/>\n",
       "<polyline clip-path=\"url(#clip292)\" style=\"stroke:#000000; stroke-linecap:butt; stroke-linejoin:round; stroke-width:2; stroke-opacity:0.1; fill:none\" points=\"\n",
       "  1493.31,1423.18 1493.31,47.2441 \n",
       "  \"/>\n",
       "<polyline clip-path=\"url(#clip292)\" style=\"stroke:#000000; stroke-linecap:butt; stroke-linejoin:round; stroke-width:2; stroke-opacity:0.1; fill:none\" points=\"\n",
       "  1826.43,1423.18 1826.43,47.2441 \n",
       "  \"/>\n",
       "<polyline clip-path=\"url(#clip292)\" style=\"stroke:#000000; stroke-linecap:butt; stroke-linejoin:round; stroke-width:2; stroke-opacity:0.1; fill:none\" points=\"\n",
       "  2159.55,1423.18 2159.55,47.2441 \n",
       "  \"/>\n",
       "<polyline clip-path=\"url(#clip290)\" style=\"stroke:#000000; stroke-linecap:butt; stroke-linejoin:round; stroke-width:4; stroke-opacity:1; fill:none\" points=\"\n",
       "  234.125,1423.18 2352.76,1423.18 \n",
       "  \"/>\n",
       "<polyline clip-path=\"url(#clip290)\" style=\"stroke:#000000; stroke-linecap:butt; stroke-linejoin:round; stroke-width:4; stroke-opacity:1; fill:none\" points=\"\n",
       "  493.957,1423.18 493.957,1404.28 \n",
       "  \"/>\n",
       "<polyline clip-path=\"url(#clip290)\" style=\"stroke:#000000; stroke-linecap:butt; stroke-linejoin:round; stroke-width:4; stroke-opacity:1; fill:none\" points=\"\n",
       "  827.075,1423.18 827.075,1404.28 \n",
       "  \"/>\n",
       "<polyline clip-path=\"url(#clip290)\" style=\"stroke:#000000; stroke-linecap:butt; stroke-linejoin:round; stroke-width:4; stroke-opacity:1; fill:none\" points=\"\n",
       "  1160.19,1423.18 1160.19,1404.28 \n",
       "  \"/>\n",
       "<polyline clip-path=\"url(#clip290)\" style=\"stroke:#000000; stroke-linecap:butt; stroke-linejoin:round; stroke-width:4; stroke-opacity:1; fill:none\" points=\"\n",
       "  1493.31,1423.18 1493.31,1404.28 \n",
       "  \"/>\n",
       "<polyline clip-path=\"url(#clip290)\" style=\"stroke:#000000; stroke-linecap:butt; stroke-linejoin:round; stroke-width:4; stroke-opacity:1; fill:none\" points=\"\n",
       "  1826.43,1423.18 1826.43,1404.28 \n",
       "  \"/>\n",
       "<polyline clip-path=\"url(#clip290)\" style=\"stroke:#000000; stroke-linecap:butt; stroke-linejoin:round; stroke-width:4; stroke-opacity:1; fill:none\" points=\"\n",
       "  2159.55,1423.18 2159.55,1404.28 \n",
       "  \"/>\n",
       "<path clip-path=\"url(#clip290)\" d=\"M484.235 1449.29 L502.592 1449.29 L502.592 1453.23 L488.518 1453.23 L488.518 1461.7 Q489.536 1461.35 490.555 1461.19 Q491.573 1461 492.592 1461 Q498.379 1461 501.758 1464.18 Q505.138 1467.35 505.138 1472.76 Q505.138 1478.34 501.666 1481.44 Q498.194 1484.52 491.874 1484.52 Q489.698 1484.52 487.43 1484.15 Q485.184 1483.78 482.777 1483.04 L482.777 1478.34 Q484.86 1479.48 487.083 1480.03 Q489.305 1480.59 491.782 1480.59 Q495.786 1480.59 498.124 1478.48 Q500.462 1476.38 500.462 1472.76 Q500.462 1469.15 498.124 1467.05 Q495.786 1464.94 491.782 1464.94 Q489.907 1464.94 488.032 1465.36 Q486.18 1465.77 484.235 1466.65 L484.235 1449.29 Z\" fill=\"#000000\" fill-rule=\"evenodd\" fill-opacity=\"1\" /><path clip-path=\"url(#clip290)\" d=\"M801.763 1479.92 L809.402 1479.92 L809.402 1453.55 L801.092 1455.22 L801.092 1450.96 L809.356 1449.29 L814.032 1449.29 L814.032 1479.92 L821.67 1479.92 L821.67 1483.85 L801.763 1483.85 L801.763 1479.92 Z\" fill=\"#000000\" fill-rule=\"evenodd\" fill-opacity=\"1\" /><path clip-path=\"url(#clip290)\" d=\"M841.115 1452.37 Q837.504 1452.37 835.675 1455.94 Q833.869 1459.48 833.869 1466.61 Q833.869 1473.71 835.675 1477.28 Q837.504 1480.82 841.115 1480.82 Q844.749 1480.82 846.555 1477.28 Q848.383 1473.71 848.383 1466.61 Q848.383 1459.48 846.555 1455.94 Q844.749 1452.37 841.115 1452.37 M841.115 1448.67 Q846.925 1448.67 849.98 1453.27 Q853.059 1457.86 853.059 1466.61 Q853.059 1475.33 849.98 1479.94 Q846.925 1484.52 841.115 1484.52 Q835.305 1484.52 832.226 1479.94 Q829.17 1475.33 829.17 1466.61 Q829.17 1457.86 832.226 1453.27 Q835.305 1448.67 841.115 1448.67 Z\" fill=\"#000000\" fill-rule=\"evenodd\" fill-opacity=\"1\" /><path clip-path=\"url(#clip290)\" d=\"M1135.38 1479.92 L1143.02 1479.92 L1143.02 1453.55 L1134.71 1455.22 L1134.71 1450.96 L1142.97 1449.29 L1147.65 1449.29 L1147.65 1479.92 L1155.29 1479.92 L1155.29 1483.85 L1135.38 1483.85 L1135.38 1479.92 Z\" fill=\"#000000\" fill-rule=\"evenodd\" fill-opacity=\"1\" /><path clip-path=\"url(#clip290)\" d=\"M1164.78 1449.29 L1183.13 1449.29 L1183.13 1453.23 L1169.06 1453.23 L1169.06 1461.7 Q1170.08 1461.35 1171.1 1461.19 Q1172.11 1461 1173.13 1461 Q1178.92 1461 1182.3 1464.18 Q1185.68 1467.35 1185.68 1472.76 Q1185.68 1478.34 1182.21 1481.44 Q1178.74 1484.52 1172.42 1484.52 Q1170.24 1484.52 1167.97 1484.15 Q1165.73 1483.78 1163.32 1483.04 L1163.32 1478.34 Q1165.4 1479.48 1167.62 1480.03 Q1169.85 1480.59 1172.32 1480.59 Q1176.33 1480.59 1178.67 1478.48 Q1181 1476.38 1181 1472.76 Q1181 1469.15 1178.67 1467.05 Q1176.33 1464.94 1172.32 1464.94 Q1170.45 1464.94 1168.57 1465.36 Q1166.72 1465.77 1164.78 1466.65 L1164.78 1449.29 Z\" fill=\"#000000\" fill-rule=\"evenodd\" fill-opacity=\"1\" /><path clip-path=\"url(#clip290)\" d=\"M1472.08 1479.92 L1488.4 1479.92 L1488.4 1483.85 L1466.46 1483.85 L1466.46 1479.92 Q1469.12 1477.16 1473.71 1472.53 Q1478.31 1467.88 1479.49 1466.54 Q1481.74 1464.01 1482.62 1462.28 Q1483.52 1460.52 1483.52 1458.83 Q1483.52 1456.07 1481.58 1454.34 Q1479.65 1452.6 1476.55 1452.6 Q1474.35 1452.6 1471.9 1453.37 Q1469.47 1454.13 1466.69 1455.68 L1466.69 1450.96 Q1469.52 1449.82 1471.97 1449.25 Q1474.42 1448.67 1476.46 1448.67 Q1481.83 1448.67 1485.02 1451.35 Q1488.22 1454.04 1488.22 1458.53 Q1488.22 1460.66 1487.41 1462.58 Q1486.62 1464.48 1484.52 1467.07 Q1483.94 1467.74 1480.83 1470.96 Q1477.73 1474.15 1472.08 1479.92 Z\" fill=\"#000000\" fill-rule=\"evenodd\" fill-opacity=\"1\" /><path clip-path=\"url(#clip290)\" d=\"M1508.22 1452.37 Q1504.61 1452.37 1502.78 1455.94 Q1500.97 1459.48 1500.97 1466.61 Q1500.97 1473.71 1502.78 1477.28 Q1504.61 1480.82 1508.22 1480.82 Q1511.85 1480.82 1513.66 1477.28 Q1515.49 1473.71 1515.49 1466.61 Q1515.49 1459.48 1513.66 1455.94 Q1511.85 1452.37 1508.22 1452.37 M1508.22 1448.67 Q1514.03 1448.67 1517.08 1453.27 Q1520.16 1457.86 1520.16 1466.61 Q1520.16 1475.33 1517.08 1479.94 Q1514.03 1484.52 1508.22 1484.52 Q1502.41 1484.52 1499.33 1479.94 Q1496.27 1475.33 1496.27 1466.61 Q1496.27 1457.86 1499.33 1453.27 Q1502.41 1448.67 1508.22 1448.67 Z\" fill=\"#000000\" fill-rule=\"evenodd\" fill-opacity=\"1\" /><path clip-path=\"url(#clip290)\" d=\"M1805.7 1479.92 L1822.02 1479.92 L1822.02 1483.85 L1800.08 1483.85 L1800.08 1479.92 Q1802.74 1477.16 1807.32 1472.53 Q1811.93 1467.88 1813.11 1466.54 Q1815.35 1464.01 1816.23 1462.28 Q1817.14 1460.52 1817.14 1458.83 Q1817.14 1456.07 1815.19 1454.34 Q1813.27 1452.6 1810.17 1452.6 Q1807.97 1452.6 1805.52 1453.37 Q1803.08 1454.13 1800.31 1455.68 L1800.31 1450.96 Q1803.13 1449.82 1805.58 1449.25 Q1808.04 1448.67 1810.08 1448.67 Q1815.45 1448.67 1818.64 1451.35 Q1821.83 1454.04 1821.83 1458.53 Q1821.83 1460.66 1821.02 1462.58 Q1820.24 1464.48 1818.13 1467.07 Q1817.55 1467.74 1814.45 1470.96 Q1811.35 1474.15 1805.7 1479.92 Z\" fill=\"#000000\" fill-rule=\"evenodd\" fill-opacity=\"1\" /><path clip-path=\"url(#clip290)\" d=\"M1831.88 1449.29 L1850.24 1449.29 L1850.24 1453.23 L1836.16 1453.23 L1836.16 1461.7 Q1837.18 1461.35 1838.2 1461.19 Q1839.22 1461 1840.24 1461 Q1846.02 1461 1849.4 1464.18 Q1852.78 1467.35 1852.78 1472.76 Q1852.78 1478.34 1849.31 1481.44 Q1845.84 1484.52 1839.52 1484.52 Q1837.34 1484.52 1835.08 1484.15 Q1832.83 1483.78 1830.42 1483.04 L1830.42 1478.34 Q1832.51 1479.48 1834.73 1480.03 Q1836.95 1480.59 1839.43 1480.59 Q1843.43 1480.59 1845.77 1478.48 Q1848.11 1476.38 1848.11 1472.76 Q1848.11 1469.15 1845.77 1467.05 Q1843.43 1464.94 1839.43 1464.94 Q1837.55 1464.94 1835.68 1465.36 Q1833.83 1465.77 1831.88 1466.65 L1831.88 1449.29 Z\" fill=\"#000000\" fill-rule=\"evenodd\" fill-opacity=\"1\" /><path clip-path=\"url(#clip290)\" d=\"M2148.39 1465.22 Q2151.75 1465.94 2153.62 1468.2 Q2155.52 1470.47 2155.52 1473.81 Q2155.52 1478.92 2152 1481.72 Q2148.48 1484.52 2142 1484.52 Q2139.83 1484.52 2137.51 1484.08 Q2135.22 1483.67 2132.77 1482.81 L2132.77 1478.3 Q2134.71 1479.43 2137.02 1480.01 Q2139.34 1480.59 2141.86 1480.59 Q2146.26 1480.59 2148.55 1478.85 Q2150.87 1477.12 2150.87 1473.81 Q2150.87 1470.75 2148.71 1469.04 Q2146.58 1467.3 2142.77 1467.3 L2138.74 1467.3 L2138.74 1463.46 L2142.95 1463.46 Q2146.4 1463.46 2148.23 1462.09 Q2150.06 1460.7 2150.06 1458.11 Q2150.06 1455.45 2148.16 1454.04 Q2146.28 1452.6 2142.77 1452.6 Q2140.84 1452.6 2138.64 1453.02 Q2136.45 1453.44 2133.81 1454.31 L2133.81 1450.15 Q2136.47 1449.41 2138.78 1449.04 Q2141.12 1448.67 2143.18 1448.67 Q2148.51 1448.67 2151.61 1451.1 Q2154.71 1453.5 2154.71 1457.63 Q2154.71 1460.5 2153.07 1462.49 Q2151.42 1464.45 2148.39 1465.22 Z\" fill=\"#000000\" fill-rule=\"evenodd\" fill-opacity=\"1\" /><path clip-path=\"url(#clip290)\" d=\"M2174.39 1452.37 Q2170.77 1452.37 2168.95 1455.94 Q2167.14 1459.48 2167.14 1466.61 Q2167.14 1473.71 2168.95 1477.28 Q2170.77 1480.82 2174.39 1480.82 Q2178.02 1480.82 2179.83 1477.28 Q2181.65 1473.71 2181.65 1466.61 Q2181.65 1459.48 2179.83 1455.94 Q2178.02 1452.37 2174.39 1452.37 M2174.39 1448.67 Q2180.2 1448.67 2183.25 1453.27 Q2186.33 1457.86 2186.33 1466.61 Q2186.33 1475.33 2183.25 1479.94 Q2180.2 1484.52 2174.39 1484.52 Q2168.58 1484.52 2165.5 1479.94 Q2162.44 1475.33 2162.44 1466.61 Q2162.44 1457.86 2165.5 1453.27 Q2168.58 1448.67 2174.39 1448.67 Z\" fill=\"#000000\" fill-rule=\"evenodd\" fill-opacity=\"1\" /><path clip-path=\"url(#clip290)\" d=\"M824.033 1520.52 L830.463 1520.52 L830.463 1562.63 L853.602 1562.63 L853.602 1568.04 L824.033 1568.04 L824.033 1520.52 Z\" fill=\"#000000\" fill-rule=\"evenodd\" fill-opacity=\"1\" /><path clip-path=\"url(#clip290)\" d=\"M860.095 1532.4 L865.952 1532.4 L865.952 1568.04 L860.095 1568.04 L860.095 1532.4 M860.095 1518.52 L865.952 1518.52 L865.952 1525.93 L860.095 1525.93 L860.095 1518.52 Z\" fill=\"#000000\" fill-rule=\"evenodd\" fill-opacity=\"1\" /><path clip-path=\"url(#clip290)\" d=\"M903.859 1533.76 L903.859 1539.24 Q901.377 1537.87 898.862 1537.2 Q896.38 1536.5 893.833 1536.5 Q888.136 1536.5 884.985 1540.13 Q881.834 1543.73 881.834 1550.25 Q881.834 1556.78 884.985 1560.4 Q888.136 1564 893.833 1564 Q896.38 1564 898.862 1563.33 Q901.377 1562.63 903.859 1561.26 L903.859 1566.68 Q901.409 1567.82 898.767 1568.39 Q896.157 1568.97 893.197 1568.97 Q885.144 1568.97 880.402 1563.91 Q875.659 1558.85 875.659 1550.25 Q875.659 1541.53 880.434 1536.53 Q885.24 1531.54 893.579 1531.54 Q896.284 1531.54 898.862 1532.11 Q901.44 1532.65 903.859 1533.76 Z\" fill=\"#000000\" fill-rule=\"evenodd\" fill-opacity=\"1\" /><path clip-path=\"url(#clip290)\" d=\"M911.498 1532.4 L939.316 1532.4 L939.316 1537.74 L917.291 1563.37 L939.316 1563.37 L939.316 1568.04 L910.703 1568.04 L910.703 1562.7 L932.728 1537.07 L911.498 1537.07 L911.498 1532.4 Z\" fill=\"#000000\" fill-rule=\"evenodd\" fill-opacity=\"1\" /><path clip-path=\"url(#clip290)\" d=\"M973.85 1550.25 Q973.85 1543.79 971.177 1540.13 Q968.535 1536.44 963.888 1536.44 Q959.241 1536.44 956.567 1540.13 Q953.926 1543.79 953.926 1550.25 Q953.926 1556.71 956.567 1560.4 Q959.241 1564.07 963.888 1564.07 Q968.535 1564.07 971.177 1560.4 Q973.85 1556.71 973.85 1550.25 M953.926 1537.81 Q955.772 1534.62 958.573 1533.1 Q961.405 1531.54 965.32 1531.54 Q971.813 1531.54 975.856 1536.69 Q979.93 1541.85 979.93 1550.25 Q979.93 1558.65 975.856 1563.81 Q971.813 1568.97 965.32 1568.97 Q961.405 1568.97 958.573 1567.44 Q955.772 1565.88 953.926 1562.7 L953.926 1568.04 L948.037 1568.04 L948.037 1518.52 L953.926 1518.52 L953.926 1537.81 Z\" fill=\"#000000\" fill-rule=\"evenodd\" fill-opacity=\"1\" /><path clip-path=\"url(#clip290)\" d=\"M1005.84 1550.12 Q998.74 1550.12 996.003 1551.75 Q993.266 1553.37 993.266 1557.29 Q993.266 1560.4 995.303 1562.25 Q997.372 1564.07 1000.9 1564.07 Q1005.77 1564.07 1008.7 1560.63 Q1011.66 1557.16 1011.66 1551.43 L1011.66 1550.12 L1005.84 1550.12 M1017.52 1547.71 L1017.52 1568.04 L1011.66 1568.04 L1011.66 1562.63 Q1009.66 1565.88 1006.67 1567.44 Q1003.67 1568.97 999.345 1568.97 Q993.871 1568.97 990.624 1565.91 Q987.409 1562.82 987.409 1557.67 Q987.409 1551.65 991.42 1548.6 Q995.462 1545.54 1003.45 1545.54 L1011.66 1545.54 L1011.66 1544.97 Q1011.66 1540.93 1008.99 1538.73 Q1006.35 1536.5 1001.54 1536.5 Q998.486 1536.5 995.589 1537.23 Q992.693 1537.97 990.019 1539.43 L990.019 1534.02 Q993.234 1532.78 996.258 1532.17 Q999.281 1531.54 1002.15 1531.54 Q1009.88 1531.54 1013.7 1535.55 Q1017.52 1539.56 1017.52 1547.71 Z\" fill=\"#000000\" fill-rule=\"evenodd\" fill-opacity=\"1\" /><path clip-path=\"url(#clip290)\" d=\"M1047.76 1532.4 L1075.57 1532.4 L1075.57 1537.74 L1053.55 1563.37 L1075.57 1563.37 L1075.57 1568.04 L1046.96 1568.04 L1046.96 1562.7 L1068.99 1537.07 L1047.76 1537.07 L1047.76 1532.4 Z\" fill=\"#000000\" fill-rule=\"evenodd\" fill-opacity=\"1\" /><path clip-path=\"url(#clip290)\" d=\"M1112.27 1539.24 Q1114.47 1535.29 1117.52 1533.41 Q1120.58 1531.54 1124.72 1531.54 Q1130.29 1531.54 1133.31 1535.45 Q1136.34 1539.33 1136.34 1546.53 L1136.34 1568.04 L1130.45 1568.04 L1130.45 1546.72 Q1130.45 1541.59 1128.63 1539.11 Q1126.82 1536.63 1123.09 1536.63 Q1118.54 1536.63 1115.9 1539.65 Q1113.26 1542.68 1113.26 1547.9 L1113.26 1568.04 L1107.37 1568.04 L1107.37 1546.72 Q1107.37 1541.56 1105.56 1539.11 Q1103.74 1536.63 1099.96 1536.63 Q1095.47 1536.63 1092.83 1539.68 Q1090.18 1542.71 1090.18 1547.9 L1090.18 1568.04 L1084.3 1568.04 L1084.3 1532.4 L1090.18 1532.4 L1090.18 1537.93 Q1092.19 1534.66 1094.99 1533.1 Q1097.79 1531.54 1101.64 1531.54 Q1105.53 1531.54 1108.23 1533.51 Q1110.97 1535.48 1112.27 1539.24 Z\" fill=\"#000000\" fill-rule=\"evenodd\" fill-opacity=\"1\" /><path clip-path=\"url(#clip290)\" d=\"M1148.02 1532.4 L1153.87 1532.4 L1153.87 1568.04 L1148.02 1568.04 L1148.02 1532.4 M1148.02 1518.52 L1153.87 1518.52 L1153.87 1525.93 L1148.02 1525.93 L1148.02 1518.52 Z\" fill=\"#000000\" fill-rule=\"evenodd\" fill-opacity=\"1\" /><path clip-path=\"url(#clip290)\" d=\"M1196.62 1548.76 L1196.62 1551.62 L1169.69 1551.62 Q1170.07 1557.67 1173.32 1560.85 Q1176.6 1564 1182.42 1564 Q1185.8 1564 1188.95 1563.17 Q1192.13 1562.35 1195.25 1560.69 L1195.25 1566.23 Q1192.1 1567.57 1188.79 1568.27 Q1185.48 1568.97 1182.07 1568.97 Q1173.54 1568.97 1168.55 1564 Q1163.58 1559.04 1163.58 1550.57 Q1163.58 1541.82 1168.29 1536.69 Q1173.03 1531.54 1181.05 1531.54 Q1188.25 1531.54 1192.42 1536.18 Q1196.62 1540.8 1196.62 1548.76 M1190.76 1547.04 Q1190.7 1542.23 1188.06 1539.37 Q1185.45 1536.5 1181.12 1536.5 Q1176.22 1536.5 1173.26 1539.27 Q1170.33 1542.04 1169.88 1547.07 L1190.76 1547.04 Z\" fill=\"#000000\" fill-rule=\"evenodd\" fill-opacity=\"1\" /><path clip-path=\"url(#clip290)\" d=\"M1235.86 1546.53 L1235.86 1568.04 L1230.01 1568.04 L1230.01 1546.72 Q1230.01 1541.66 1228.03 1539.14 Q1226.06 1536.63 1222.11 1536.63 Q1217.37 1536.63 1214.63 1539.65 Q1211.9 1542.68 1211.9 1547.9 L1211.9 1568.04 L1206.01 1568.04 L1206.01 1532.4 L1211.9 1532.4 L1211.9 1537.93 Q1214 1534.72 1216.83 1533.13 Q1219.69 1531.54 1223.42 1531.54 Q1229.56 1531.54 1232.71 1535.36 Q1235.86 1539.14 1235.86 1546.53 Z\" fill=\"#000000\" fill-rule=\"evenodd\" fill-opacity=\"1\" /><path clip-path=\"url(#clip290)\" d=\"M1277.18 1546.53 L1277.18 1568.04 L1271.32 1568.04 L1271.32 1546.72 Q1271.32 1541.66 1269.35 1539.14 Q1267.37 1536.63 1263.43 1536.63 Q1258.68 1536.63 1255.95 1539.65 Q1253.21 1542.68 1253.21 1547.9 L1253.21 1568.04 L1247.32 1568.04 L1247.32 1532.4 L1253.21 1532.4 L1253.21 1537.93 Q1255.31 1534.72 1258.14 1533.13 Q1261.01 1531.54 1264.73 1531.54 Q1270.87 1531.54 1274.03 1535.36 Q1277.18 1539.14 1277.18 1546.53 Z\" fill=\"#000000\" fill-rule=\"evenodd\" fill-opacity=\"1\" /><path clip-path=\"url(#clip290)\" d=\"M1303.69 1571.35 Q1301.21 1577.72 1298.85 1579.66 Q1296.5 1581.6 1292.55 1581.6 L1287.87 1581.6 L1287.87 1576.7 L1291.31 1576.7 Q1293.73 1576.7 1295.06 1575.56 Q1296.4 1574.41 1298.02 1570.14 L1299.07 1567.47 L1284.66 1532.4 L1290.86 1532.4 L1302 1560.28 L1313.14 1532.4 L1319.35 1532.4 L1303.69 1571.35 Z\" fill=\"#000000\" fill-rule=\"evenodd\" fill-opacity=\"1\" /><path clip-path=\"url(#clip290)\" d=\"M1353.09 1533.76 L1353.09 1539.24 Q1350.6 1537.87 1348.09 1537.2 Q1345.61 1536.5 1343.06 1536.5 Q1337.36 1536.5 1334.21 1540.13 Q1331.06 1543.73 1331.06 1550.25 Q1331.06 1556.78 1334.21 1560.4 Q1337.36 1564 1343.06 1564 Q1345.61 1564 1348.09 1563.33 Q1350.6 1562.63 1353.09 1561.26 L1353.09 1566.68 Q1350.64 1567.82 1347.99 1568.39 Q1345.38 1568.97 1342.42 1568.97 Q1334.37 1568.97 1329.63 1563.91 Q1324.89 1558.85 1324.89 1550.25 Q1324.89 1541.53 1329.66 1536.53 Q1334.47 1531.54 1342.81 1531.54 Q1345.51 1531.54 1348.09 1532.11 Q1350.67 1532.65 1353.09 1533.76 Z\" fill=\"#000000\" fill-rule=\"evenodd\" fill-opacity=\"1\" /><path clip-path=\"url(#clip290)\" d=\"M1392.9 1546.53 L1392.9 1568.04 L1387.05 1568.04 L1387.05 1546.72 Q1387.05 1541.66 1385.08 1539.14 Q1383.1 1536.63 1379.15 1536.63 Q1374.41 1536.63 1371.68 1539.65 Q1368.94 1542.68 1368.94 1547.9 L1368.94 1568.04 L1363.05 1568.04 L1363.05 1518.52 L1368.94 1518.52 L1368.94 1537.93 Q1371.04 1534.72 1373.87 1533.13 Q1376.74 1531.54 1380.46 1531.54 Q1386.6 1531.54 1389.75 1535.36 Q1392.9 1539.14 1392.9 1546.53 Z\" fill=\"#000000\" fill-rule=\"evenodd\" fill-opacity=\"1\" /><path clip-path=\"url(#clip290)\" d=\"M1421.9 1532.4 L1427.76 1532.4 L1435.08 1560.21 L1442.37 1532.4 L1449.27 1532.4 L1456.59 1560.21 L1463.88 1532.4 L1469.74 1532.4 L1460.41 1568.04 L1453.51 1568.04 L1445.84 1538.83 L1438.13 1568.04 L1431.23 1568.04 L1421.9 1532.4 Z\" fill=\"#000000\" fill-rule=\"evenodd\" fill-opacity=\"1\" /><path clip-path=\"url(#clip290)\" d=\"M1505 1562.7 L1505 1581.6 L1499.12 1581.6 L1499.12 1532.4 L1505 1532.4 L1505 1537.81 Q1506.85 1534.62 1509.65 1533.1 Q1512.48 1531.54 1516.4 1531.54 Q1522.89 1531.54 1526.93 1536.69 Q1531.01 1541.85 1531.01 1550.25 Q1531.01 1558.65 1526.93 1563.81 Q1522.89 1568.97 1516.4 1568.97 Q1512.48 1568.97 1509.65 1567.44 Q1506.85 1565.88 1505 1562.7 M1524.93 1550.25 Q1524.93 1543.79 1522.26 1540.13 Q1519.61 1536.44 1514.97 1536.44 Q1510.32 1536.44 1507.65 1540.13 Q1505 1543.79 1505 1550.25 Q1505 1556.71 1507.65 1560.4 Q1510.32 1564.07 1514.97 1564.07 Q1519.61 1564.07 1522.26 1560.4 Q1524.93 1556.71 1524.93 1550.25 Z\" fill=\"#000000\" fill-rule=\"evenodd\" fill-opacity=\"1\" /><path clip-path=\"url(#clip290)\" d=\"M1554.53 1536.5 Q1549.82 1536.5 1547.08 1540.19 Q1544.35 1543.85 1544.35 1550.25 Q1544.35 1556.65 1547.05 1560.34 Q1549.79 1564 1554.53 1564 Q1559.21 1564 1561.95 1560.31 Q1564.68 1556.62 1564.68 1550.25 Q1564.68 1543.92 1561.95 1540.23 Q1559.21 1536.5 1554.53 1536.5 M1554.53 1531.54 Q1562.17 1531.54 1566.53 1536.5 Q1570.89 1541.47 1570.89 1550.25 Q1570.89 1559 1566.53 1564 Q1562.17 1568.97 1554.53 1568.97 Q1546.86 1568.97 1542.5 1564 Q1538.17 1559 1538.17 1550.25 Q1538.17 1541.47 1542.5 1536.5 Q1546.86 1531.54 1554.53 1531.54 Z\" fill=\"#000000\" fill-rule=\"evenodd\" fill-opacity=\"1\" /><path clip-path=\"url(#clip290)\" d=\"M1604.06 1537.81 L1604.06 1518.52 L1609.91 1518.52 L1609.91 1568.04 L1604.06 1568.04 L1604.06 1562.7 Q1602.21 1565.88 1599.38 1567.44 Q1596.58 1568.97 1592.63 1568.97 Q1586.17 1568.97 1582.09 1563.81 Q1578.05 1558.65 1578.05 1550.25 Q1578.05 1541.85 1582.09 1536.69 Q1586.17 1531.54 1592.63 1531.54 Q1596.58 1531.54 1599.38 1533.1 Q1602.21 1534.62 1604.06 1537.81 M1584.1 1550.25 Q1584.1 1556.71 1586.74 1560.4 Q1589.41 1564.07 1594.06 1564.07 Q1598.71 1564.07 1601.38 1560.4 Q1604.06 1556.71 1604.06 1550.25 Q1604.06 1543.79 1601.38 1540.13 Q1598.71 1536.44 1594.06 1536.44 Q1589.41 1536.44 1586.74 1540.13 Q1584.1 1543.79 1584.1 1550.25 Z\" fill=\"#000000\" fill-rule=\"evenodd\" fill-opacity=\"1\" /><path clip-path=\"url(#clip290)\" d=\"M1619.43 1532.4 L1647.25 1532.4 L1647.25 1537.74 L1625.22 1563.37 L1647.25 1563.37 L1647.25 1568.04 L1618.63 1568.04 L1618.63 1562.7 L1640.66 1537.07 L1619.43 1537.07 L1619.43 1532.4 Z\" fill=\"#000000\" fill-rule=\"evenodd\" fill-opacity=\"1\" /><path clip-path=\"url(#clip290)\" d=\"M1656.19 1532.4 L1662.05 1532.4 L1662.05 1568.04 L1656.19 1568.04 L1656.19 1532.4 M1656.19 1518.52 L1662.05 1518.52 L1662.05 1525.93 L1656.19 1525.93 L1656.19 1518.52 Z\" fill=\"#000000\" fill-rule=\"evenodd\" fill-opacity=\"1\" /><path clip-path=\"url(#clip290)\" d=\"M1690.5 1550.12 Q1683.4 1550.12 1680.67 1551.75 Q1677.93 1553.37 1677.93 1557.29 Q1677.93 1560.4 1679.97 1562.25 Q1682.04 1564.07 1685.57 1564.07 Q1690.44 1564.07 1693.37 1560.63 Q1696.33 1557.16 1696.33 1551.43 L1696.33 1550.12 L1690.5 1550.12 M1702.18 1547.71 L1702.18 1568.04 L1696.33 1568.04 L1696.33 1562.63 Q1694.32 1565.88 1691.33 1567.44 Q1688.34 1568.97 1684.01 1568.97 Q1678.53 1568.97 1675.29 1565.91 Q1672.07 1562.82 1672.07 1557.67 Q1672.07 1551.65 1676.08 1548.6 Q1680.13 1545.54 1688.11 1545.54 L1696.33 1545.54 L1696.33 1544.97 Q1696.33 1540.93 1693.65 1538.73 Q1691.01 1536.5 1686.2 1536.5 Q1683.15 1536.5 1680.25 1537.23 Q1677.36 1537.97 1674.68 1539.43 L1674.68 1534.02 Q1677.9 1532.78 1680.92 1532.17 Q1683.94 1531.54 1686.81 1531.54 Q1694.54 1531.54 1698.36 1535.55 Q1702.18 1539.56 1702.18 1547.71 Z\" fill=\"#000000\" fill-rule=\"evenodd\" fill-opacity=\"1\" /><path clip-path=\"url(#clip290)\" d=\"M1714.25 1518.52 L1720.1 1518.52 L1720.1 1568.04 L1714.25 1568.04 L1714.25 1518.52 Z\" fill=\"#000000\" fill-rule=\"evenodd\" fill-opacity=\"1\" /><path clip-path=\"url(#clip290)\" d=\"M1762.85 1548.76 L1762.85 1551.62 L1735.92 1551.62 Q1736.3 1557.67 1739.55 1560.85 Q1742.83 1564 1748.65 1564 Q1752.03 1564 1755.18 1563.17 Q1758.36 1562.35 1761.48 1560.69 L1761.48 1566.23 Q1758.33 1567.57 1755.02 1568.27 Q1751.71 1568.97 1748.3 1568.97 Q1739.77 1568.97 1734.78 1564 Q1729.81 1559.04 1729.81 1550.57 Q1729.81 1541.82 1734.52 1536.69 Q1739.26 1531.54 1747.28 1531.54 Q1754.48 1531.54 1758.65 1536.18 Q1762.85 1540.8 1762.85 1548.76 M1756.99 1547.04 Q1756.93 1542.23 1754.29 1539.37 Q1751.68 1536.5 1747.35 1536.5 Q1742.45 1536.5 1739.49 1539.27 Q1736.56 1542.04 1736.11 1547.07 L1756.99 1547.04 Z\" fill=\"#000000\" fill-rule=\"evenodd\" fill-opacity=\"1\" /><polyline clip-path=\"url(#clip292)\" style=\"stroke:#000000; stroke-linecap:butt; stroke-linejoin:round; stroke-width:2; stroke-opacity:0.1; fill:none\" points=\"\n",
       "  234.125,1192.33 2352.76,1192.33 \n",
       "  \"/>\n",
       "<polyline clip-path=\"url(#clip292)\" style=\"stroke:#000000; stroke-linecap:butt; stroke-linejoin:round; stroke-width:2; stroke-opacity:0.1; fill:none\" points=\"\n",
       "  234.125,835.415 2352.76,835.415 \n",
       "  \"/>\n",
       "<polyline clip-path=\"url(#clip292)\" style=\"stroke:#000000; stroke-linecap:butt; stroke-linejoin:round; stroke-width:2; stroke-opacity:0.1; fill:none\" points=\"\n",
       "  234.125,478.495 2352.76,478.495 \n",
       "  \"/>\n",
       "<polyline clip-path=\"url(#clip292)\" style=\"stroke:#000000; stroke-linecap:butt; stroke-linejoin:round; stroke-width:2; stroke-opacity:0.1; fill:none\" points=\"\n",
       "  234.125,121.575 2352.76,121.575 \n",
       "  \"/>\n",
       "<polyline clip-path=\"url(#clip290)\" style=\"stroke:#000000; stroke-linecap:butt; stroke-linejoin:round; stroke-width:4; stroke-opacity:1; fill:none\" points=\"\n",
       "  234.125,1423.18 234.125,47.2441 \n",
       "  \"/>\n",
       "<polyline clip-path=\"url(#clip290)\" style=\"stroke:#000000; stroke-linecap:butt; stroke-linejoin:round; stroke-width:4; stroke-opacity:1; fill:none\" points=\"\n",
       "  234.125,1192.33 253.023,1192.33 \n",
       "  \"/>\n",
       "<polyline clip-path=\"url(#clip290)\" style=\"stroke:#000000; stroke-linecap:butt; stroke-linejoin:round; stroke-width:4; stroke-opacity:1; fill:none\" points=\"\n",
       "  234.125,835.415 253.023,835.415 \n",
       "  \"/>\n",
       "<polyline clip-path=\"url(#clip290)\" style=\"stroke:#000000; stroke-linecap:butt; stroke-linejoin:round; stroke-width:4; stroke-opacity:1; fill:none\" points=\"\n",
       "  234.125,478.495 253.023,478.495 \n",
       "  \"/>\n",
       "<polyline clip-path=\"url(#clip290)\" style=\"stroke:#000000; stroke-linecap:butt; stroke-linejoin:round; stroke-width:4; stroke-opacity:1; fill:none\" points=\"\n",
       "  234.125,121.575 253.023,121.575 \n",
       "  \"/>\n",
       "<path clip-path=\"url(#clip290)\" d=\"M116.668 1205.68 L124.306 1205.68 L124.306 1179.31 L115.996 1180.98 L115.996 1176.72 L124.26 1175.05 L128.936 1175.05 L128.936 1205.68 L136.575 1205.68 L136.575 1209.61 L116.668 1209.61 L116.668 1205.68 Z\" fill=\"#000000\" fill-rule=\"evenodd\" fill-opacity=\"1\" /><path clip-path=\"url(#clip290)\" d=\"M144.839 1175.05 L167.061 1175.05 L167.061 1177.05 L154.515 1209.61 L149.63 1209.61 L161.436 1178.99 L144.839 1178.99 L144.839 1175.05 Z\" fill=\"#000000\" fill-rule=\"evenodd\" fill-opacity=\"1\" /><path clip-path=\"url(#clip290)\" d=\"M186.181 1178.13 Q182.57 1178.13 180.741 1181.7 Q178.936 1185.24 178.936 1192.37 Q178.936 1199.48 180.741 1203.04 Q182.57 1206.58 186.181 1206.58 Q189.815 1206.58 191.621 1203.04 Q193.45 1199.48 193.45 1192.37 Q193.45 1185.24 191.621 1181.7 Q189.815 1178.13 186.181 1178.13 M186.181 1174.43 Q191.991 1174.43 195.047 1179.04 Q198.125 1183.62 198.125 1192.37 Q198.125 1201.1 195.047 1205.7 Q191.991 1210.29 186.181 1210.29 Q180.371 1210.29 177.292 1205.7 Q174.237 1201.1 174.237 1192.37 Q174.237 1183.62 177.292 1179.04 Q180.371 1174.43 186.181 1174.43 Z\" fill=\"#000000\" fill-rule=\"evenodd\" fill-opacity=\"1\" /><path clip-path=\"url(#clip290)\" d=\"M116.668 848.759 L124.306 848.759 L124.306 822.394 L115.996 824.061 L115.996 819.801 L124.26 818.135 L128.936 818.135 L128.936 848.759 L136.575 848.759 L136.575 852.695 L116.668 852.695 L116.668 848.759 Z\" fill=\"#000000\" fill-rule=\"evenodd\" fill-opacity=\"1\" /><path clip-path=\"url(#clip290)\" d=\"M156.019 836.283 Q152.686 836.283 150.765 838.065 Q148.866 839.847 148.866 842.972 Q148.866 846.097 150.765 847.88 Q152.686 849.662 156.019 849.662 Q159.353 849.662 161.274 847.88 Q163.195 846.074 163.195 842.972 Q163.195 839.847 161.274 838.065 Q159.376 836.283 156.019 836.283 M151.343 834.292 Q148.334 833.551 146.644 831.491 Q144.978 829.431 144.978 826.468 Q144.978 822.324 147.917 819.917 Q150.88 817.51 156.019 817.51 Q161.181 817.51 164.121 819.917 Q167.061 822.324 167.061 826.468 Q167.061 829.431 165.371 831.491 Q163.704 833.551 160.718 834.292 Q164.098 835.079 165.973 837.371 Q167.871 839.662 167.871 842.972 Q167.871 847.996 164.792 850.681 Q161.737 853.366 156.019 853.366 Q150.302 853.366 147.223 850.681 Q144.167 847.996 144.167 842.972 Q144.167 839.662 146.066 837.371 Q147.964 835.079 151.343 834.292 M149.63 826.908 Q149.63 829.593 151.297 831.098 Q152.987 832.602 156.019 832.602 Q159.028 832.602 160.718 831.098 Q162.431 829.593 162.431 826.908 Q162.431 824.223 160.718 822.718 Q159.028 821.213 156.019 821.213 Q152.987 821.213 151.297 822.718 Q149.63 824.223 149.63 826.908 Z\" fill=\"#000000\" fill-rule=\"evenodd\" fill-opacity=\"1\" /><path clip-path=\"url(#clip290)\" d=\"M186.181 821.213 Q182.57 821.213 180.741 824.778 Q178.936 828.32 178.936 835.449 Q178.936 842.556 180.741 846.121 Q182.57 849.662 186.181 849.662 Q189.815 849.662 191.621 846.121 Q193.45 842.556 193.45 835.449 Q193.45 828.32 191.621 824.778 Q189.815 821.213 186.181 821.213 M186.181 817.51 Q191.991 817.51 195.047 822.116 Q198.125 826.699 198.125 835.449 Q198.125 844.176 195.047 848.783 Q191.991 853.366 186.181 853.366 Q180.371 853.366 177.292 848.783 Q174.237 844.176 174.237 835.449 Q174.237 826.699 177.292 822.116 Q180.371 817.51 186.181 817.51 Z\" fill=\"#000000\" fill-rule=\"evenodd\" fill-opacity=\"1\" /><path clip-path=\"url(#clip290)\" d=\"M116.668 491.839 L124.306 491.839 L124.306 465.474 L115.996 467.14 L115.996 462.881 L124.26 461.215 L128.936 461.215 L128.936 491.839 L136.575 491.839 L136.575 495.775 L116.668 495.775 L116.668 491.839 Z\" fill=\"#000000\" fill-rule=\"evenodd\" fill-opacity=\"1\" /><path clip-path=\"url(#clip290)\" d=\"M146.158 495.057 L146.158 490.798 Q147.917 491.631 149.723 492.071 Q151.528 492.511 153.265 492.511 Q157.894 492.511 160.325 489.409 Q162.778 486.284 163.126 479.941 Q161.783 481.932 159.723 482.997 Q157.663 484.062 155.163 484.062 Q149.978 484.062 146.945 480.937 Q143.936 477.789 143.936 472.349 Q143.936 467.025 147.084 463.807 Q150.232 460.59 155.464 460.59 Q161.459 460.59 164.607 465.196 Q167.778 469.779 167.778 478.529 Q167.778 486.701 163.89 491.585 Q160.024 496.446 153.473 496.446 Q151.714 496.446 149.908 496.099 Q148.103 495.751 146.158 495.057 M155.464 480.404 Q158.612 480.404 160.44 478.252 Q162.292 476.099 162.292 472.349 Q162.292 468.622 160.44 466.469 Q158.612 464.293 155.464 464.293 Q152.316 464.293 150.464 466.469 Q148.635 468.622 148.635 472.349 Q148.635 476.099 150.464 478.252 Q152.316 480.404 155.464 480.404 Z\" fill=\"#000000\" fill-rule=\"evenodd\" fill-opacity=\"1\" /><path clip-path=\"url(#clip290)\" d=\"M186.181 464.293 Q182.57 464.293 180.741 467.858 Q178.936 471.4 178.936 478.529 Q178.936 485.636 180.741 489.201 Q182.57 492.742 186.181 492.742 Q189.815 492.742 191.621 489.201 Q193.45 485.636 193.45 478.529 Q193.45 471.4 191.621 467.858 Q189.815 464.293 186.181 464.293 M186.181 460.59 Q191.991 460.59 195.047 465.196 Q198.125 469.779 198.125 478.529 Q198.125 487.256 195.047 491.863 Q191.991 496.446 186.181 496.446 Q180.371 496.446 177.292 491.863 Q174.237 487.256 174.237 478.529 Q174.237 469.779 177.292 465.196 Q180.371 460.59 186.181 460.59 Z\" fill=\"#000000\" fill-rule=\"evenodd\" fill-opacity=\"1\" /><path clip-path=\"url(#clip290)\" d=\"M119.885 134.919 L136.204 134.919 L136.204 138.855 L114.26 138.855 L114.26 134.919 Q116.922 132.165 121.505 127.535 Q126.112 122.882 127.292 121.54 Q129.538 119.017 130.417 117.281 Q131.32 115.521 131.32 113.832 Q131.32 111.077 129.376 109.341 Q127.455 107.605 124.353 107.605 Q122.154 107.605 119.7 108.369 Q117.269 109.133 114.492 110.683 L114.492 105.961 Q117.316 104.827 119.769 104.248 Q122.223 103.67 124.26 103.67 Q129.63 103.67 132.825 106.355 Q136.019 109.04 136.019 113.531 Q136.019 115.66 135.209 117.582 Q134.422 119.48 132.316 122.072 Q131.737 122.744 128.635 125.961 Q125.533 129.156 119.885 134.919 Z\" fill=\"#000000\" fill-rule=\"evenodd\" fill-opacity=\"1\" /><path clip-path=\"url(#clip290)\" d=\"M156.019 107.373 Q152.408 107.373 150.579 110.938 Q148.774 114.48 148.774 121.609 Q148.774 128.716 150.579 132.281 Q152.408 135.822 156.019 135.822 Q159.653 135.822 161.459 132.281 Q163.288 128.716 163.288 121.609 Q163.288 114.48 161.459 110.938 Q159.653 107.373 156.019 107.373 M156.019 103.67 Q161.829 103.67 164.885 108.276 Q167.964 112.859 167.964 121.609 Q167.964 130.336 164.885 134.943 Q161.829 139.526 156.019 139.526 Q150.209 139.526 147.13 134.943 Q144.075 130.336 144.075 121.609 Q144.075 112.859 147.13 108.276 Q150.209 103.67 156.019 103.67 Z\" fill=\"#000000\" fill-rule=\"evenodd\" fill-opacity=\"1\" /><path clip-path=\"url(#clip290)\" d=\"M186.181 107.373 Q182.57 107.373 180.741 110.938 Q178.936 114.48 178.936 121.609 Q178.936 128.716 180.741 132.281 Q182.57 135.822 186.181 135.822 Q189.815 135.822 191.621 132.281 Q193.45 128.716 193.45 121.609 Q193.45 114.48 191.621 110.938 Q189.815 107.373 186.181 107.373 M186.181 103.67 Q191.991 103.67 195.047 108.276 Q198.125 112.859 198.125 121.609 Q198.125 130.336 195.047 134.943 Q191.991 139.526 186.181 139.526 Q180.371 139.526 177.292 134.943 Q174.237 130.336 174.237 121.609 Q174.237 112.859 177.292 108.276 Q180.371 103.67 186.181 103.67 Z\" fill=\"#000000\" fill-rule=\"evenodd\" fill-opacity=\"1\" /><path clip-path=\"url(#clip290)\" d=\"M16.4842 799.331 L16.4842 789.75 L48.8219 777.623 L16.4842 765.433 L16.4842 755.853 L64.0042 755.853 L64.0042 762.123 L22.277 762.123 L54.8694 774.377 L54.8694 780.838 L22.277 793.092 L64.0042 793.092 L64.0042 799.331 L16.4842 799.331 Z\" fill=\"#000000\" fill-rule=\"evenodd\" fill-opacity=\"1\" /><path clip-path=\"url(#clip290)\" d=\"M18.0438 714.603 L24.314 714.603 Q22.5634 718.263 21.704 721.51 Q20.8447 724.756 20.8447 727.78 Q20.8447 733.032 22.8817 735.896 Q24.9187 738.729 28.6745 738.729 Q31.8255 738.729 33.4488 736.851 Q35.0402 734.941 36.0269 729.658 L36.8226 725.775 Q38.1912 718.582 41.6605 715.176 Q45.098 711.738 50.8908 711.738 Q57.7976 711.738 61.3624 716.385 Q64.9272 721.001 64.9272 729.944 Q64.9272 733.318 64.1633 737.138 Q63.3994 740.925 61.9035 744.999 L55.2831 744.999 Q57.4793 741.084 58.5933 737.329 Q59.7073 733.573 59.7073 729.944 Q59.7073 724.438 57.543 721.446 Q55.3786 718.454 51.3682 718.454 Q47.8671 718.454 45.8937 720.619 Q43.9204 722.751 42.9337 727.653 L42.1698 731.568 Q40.7375 738.761 37.682 741.976 Q34.6264 745.19 29.1837 745.19 Q22.8817 745.19 19.2532 740.766 Q15.6248 736.31 15.6248 728.512 Q15.6248 725.17 16.2295 721.701 Q16.8343 718.231 18.0438 714.603 Z\" fill=\"#000000\" fill-rule=\"evenodd\" fill-opacity=\"1\" /><path clip-path=\"url(#clip290)\" d=\"M16.4842 701.712 L16.4842 671.666 L21.895 671.666 L21.895 695.283 L35.9632 695.283 L35.9632 672.653 L41.3741 672.653 L41.3741 695.283 L58.5933 695.283 L58.5933 671.093 L64.0042 671.093 L64.0042 701.712 L16.4842 701.712 Z\" fill=\"#000000\" fill-rule=\"evenodd\" fill-opacity=\"1\" /><polyline clip-path=\"url(#clip292)\" style=\"stroke:#ff0000; stroke-linecap:butt; stroke-linejoin:round; stroke-width:8; stroke-opacity:1; fill:none\" points=\"\n",
       "  294.087,86.1857 427.334,100.405 560.581,194.775 693.828,130.605 827.075,176.406 960.323,200.158 1093.57,232.137 1226.82,193.567 1360.06,268.64 1493.31,241.7 \n",
       "  1626.56,288.651 1759.81,275.536 1893.05,288.025 2026.3,331.288 2159.55,335.062 2292.79,339.958 \n",
       "  \"/>\n",
       "<polyline clip-path=\"url(#clip292)\" style=\"stroke:#0000ff; stroke-linecap:butt; stroke-linejoin:round; stroke-width:8; stroke-opacity:1; fill:none\" points=\"\n",
       "  294.087,1329.92 427.334,1337.2 560.581,1331.87 693.828,1310.88 827.075,1337.17 960.323,1331.57 1093.57,1344.91 1226.82,1364.08 1360.06,1369.79 1493.31,1384.24 \n",
       "  1626.56,1359.29 1759.81,1354.68 1893.05,1353.82 2026.3,1379.3 2159.55,1337.67 2292.79,1354.45 \n",
       "  \"/>\n",
       "<path clip-path=\"url(#clip290)\" d=\"\n",
       "M1994.3 248.629 L2282.13 248.629 L2282.13 93.1086 L1994.3 93.1086  Z\n",
       "  \" fill=\"#ffffff\" fill-rule=\"evenodd\" fill-opacity=\"1\"/>\n",
       "<polyline clip-path=\"url(#clip290)\" style=\"stroke:#000000; stroke-linecap:butt; stroke-linejoin:round; stroke-width:4; stroke-opacity:1; fill:none\" points=\"\n",
       "  1994.3,248.629 2282.13,248.629 2282.13,93.1086 1994.3,93.1086 1994.3,248.629 \n",
       "  \"/>\n",
       "<polyline clip-path=\"url(#clip290)\" style=\"stroke:#ff0000; stroke-linecap:butt; stroke-linejoin:round; stroke-width:4; stroke-opacity:1; fill:none\" points=\"\n",
       "  2017.84,144.949 2159.08,144.949 \n",
       "  \"/>\n",
       "<path clip-path=\"url(#clip290)\" d=\"M2196.47 164.636 Q2194.66 169.266 2192.95 170.678 Q2191.24 172.09 2188.36 172.09 L2184.96 172.09 L2184.96 168.525 L2187.46 168.525 Q2189.22 168.525 2190.19 167.692 Q2191.17 166.858 2192.35 163.756 L2193.11 161.812 L2182.62 136.303 L2187.14 136.303 L2195.24 156.581 L2203.34 136.303 L2207.86 136.303 L2196.47 164.636 Z\" fill=\"#000000\" fill-rule=\"evenodd\" fill-opacity=\"1\" /><path clip-path=\"url(#clip290)\" d=\"M2215.15 158.293 L2222.79 158.293 L2222.79 131.928 L2214.48 133.595 L2214.48 129.335 L2222.74 127.669 L2227.42 127.669 L2227.42 158.293 L2235.05 158.293 L2235.05 162.229 L2215.15 162.229 L2215.15 158.293 Z\" fill=\"#000000\" fill-rule=\"evenodd\" fill-opacity=\"1\" /><polyline clip-path=\"url(#clip290)\" style=\"stroke:#0000ff; stroke-linecap:butt; stroke-linejoin:round; stroke-width:4; stroke-opacity:1; fill:none\" points=\"\n",
       "  2017.84,196.789 2159.08,196.789 \n",
       "  \"/>\n",
       "<path clip-path=\"url(#clip290)\" d=\"M2196.47 216.476 Q2194.66 221.106 2192.95 222.518 Q2191.24 223.93 2188.36 223.93 L2184.96 223.93 L2184.96 220.365 L2187.46 220.365 Q2189.22 220.365 2190.19 219.532 Q2191.17 218.698 2192.35 215.596 L2193.11 213.652 L2182.62 188.143 L2187.14 188.143 L2195.24 208.421 L2203.34 188.143 L2207.86 188.143 L2196.47 216.476 Z\" fill=\"#000000\" fill-rule=\"evenodd\" fill-opacity=\"1\" /><path clip-path=\"url(#clip290)\" d=\"M2218.36 210.133 L2234.68 210.133 L2234.68 214.069 L2212.74 214.069 L2212.74 210.133 Q2215.4 207.379 2219.98 202.749 Q2224.59 198.096 2225.77 196.754 Q2228.02 194.231 2228.9 192.495 Q2229.8 190.735 2229.8 189.046 Q2229.8 186.291 2227.86 184.555 Q2225.93 182.819 2222.83 182.819 Q2220.63 182.819 2218.18 183.583 Q2215.75 184.347 2212.97 185.897 L2212.97 181.175 Q2215.8 180.041 2218.25 179.462 Q2220.7 178.884 2222.74 178.884 Q2228.11 178.884 2231.3 181.569 Q2234.5 184.254 2234.5 188.745 Q2234.5 190.874 2233.69 192.796 Q2232.9 194.694 2230.79 197.286 Q2230.22 197.958 2227.11 201.175 Q2224.01 204.37 2218.36 210.133 Z\" fill=\"#000000\" fill-rule=\"evenodd\" fill-opacity=\"1\" /><path clip-path=\"url(#clip290)\" d=\"M1297.48 648.779 Q1291.11 648.779 1287.35 653.525 Q1283.62 658.27 1283.62 666.459 Q1283.62 674.618 1287.35 679.364 Q1291.11 684.109 1297.48 684.109 Q1303.84 684.109 1307.55 679.364 Q1311.28 674.618 1311.28 666.459 Q1311.28 658.27 1307.55 653.525 Q1303.84 648.779 1297.48 648.779 M1297.48 644.034 Q1306.56 644.034 1312 650.139 Q1317.44 656.216 1317.44 666.459 Q1317.44 676.673 1312 682.778 Q1306.56 688.854 1297.48 688.854 Q1288.36 688.854 1282.89 682.778 Q1277.45 676.702 1277.45 666.459 Q1277.45 656.216 1282.89 650.139 Q1288.36 644.034 1297.48 644.034 Z\" fill=\"#000000\" fill-rule=\"evenodd\" fill-opacity=\"1\" /><path clip-path=\"url(#clip290)\" d=\"M1331.5 683.154 L1331.5 700.342 L1326.15 700.342 L1326.15 655.608 L1331.5 655.608 L1331.5 660.527 Q1333.18 657.633 1335.73 656.245 Q1338.3 654.827 1341.86 654.827 Q1347.76 654.827 1351.44 659.514 Q1355.14 664.202 1355.14 671.84 Q1355.14 679.479 1351.44 684.167 Q1347.76 688.854 1341.86 688.854 Q1338.3 688.854 1335.73 687.465 Q1333.18 686.048 1331.5 683.154 M1349.62 671.84 Q1349.62 665.967 1347.19 662.639 Q1344.78 659.283 1340.56 659.283 Q1336.34 659.283 1333.91 662.639 Q1331.5 665.967 1331.5 671.84 Q1331.5 677.714 1333.91 681.071 Q1336.34 684.398 1340.56 684.398 Q1344.78 684.398 1347.19 681.071 Q1349.62 677.714 1349.62 671.84 Z\" fill=\"#000000\" fill-rule=\"evenodd\" fill-opacity=\"1\" /><path clip-path=\"url(#clip290)\" d=\"M1369.23 646.407 L1369.23 655.608 L1380.2 655.608 L1380.2 659.746 L1369.23 659.746 L1369.23 677.338 Q1369.23 681.302 1370.31 682.431 Q1371.4 683.559 1374.73 683.559 L1380.2 683.559 L1380.2 688.015 L1374.73 688.015 Q1368.57 688.015 1366.23 685.729 Q1363.88 683.415 1363.88 677.338 L1363.88 659.746 L1359.98 659.746 L1359.98 655.608 L1363.88 655.608 L1363.88 646.407 L1369.23 646.407 Z\" fill=\"#000000\" fill-rule=\"evenodd\" fill-opacity=\"1\" /><path clip-path=\"url(#clip290)\" d=\"M1400.69 691.024 Q1398.43 696.811 1396.29 698.576 Q1394.15 700.342 1390.56 700.342 L1386.31 700.342 L1386.31 695.886 L1389.43 695.886 Q1391.63 695.886 1392.85 694.844 Q1394.06 693.802 1395.54 689.925 L1396.49 687.494 L1383.38 655.608 L1389.03 655.608 L1399.15 680.955 L1409.28 655.608 L1414.92 655.608 L1400.69 691.024 Z\" fill=\"#000000\" fill-rule=\"evenodd\" fill-opacity=\"1\" /><path clip-path=\"url(#clip290)\" d=\"M1447.5 661.829 Q1449.5 658.241 1452.28 656.534 Q1455.06 654.827 1458.82 654.827 Q1463.88 654.827 1466.63 658.386 Q1469.38 661.916 1469.38 668.455 L1469.38 688.015 L1464.03 688.015 L1464.03 668.629 Q1464.03 663.97 1462.38 661.713 Q1460.73 659.456 1457.34 659.456 Q1453.2 659.456 1450.8 662.205 Q1448.4 664.954 1448.4 669.699 L1448.4 688.015 L1443.05 688.015 L1443.05 668.629 Q1443.05 663.941 1441.4 661.713 Q1439.75 659.456 1436.31 659.456 Q1432.23 659.456 1429.82 662.234 Q1427.42 664.983 1427.42 669.699 L1427.42 688.015 L1422.07 688.015 L1422.07 655.608 L1427.42 655.608 L1427.42 660.643 Q1429.25 657.662 1431.79 656.245 Q1434.34 654.827 1437.84 654.827 Q1441.37 654.827 1443.83 656.621 Q1446.32 658.415 1447.5 661.829 Z\" fill=\"#000000\" fill-rule=\"evenodd\" fill-opacity=\"1\" /><path clip-path=\"url(#clip290)\" d=\"M1494.73 671.725 Q1488.27 671.725 1485.79 673.2 Q1483.3 674.676 1483.3 678.235 Q1483.3 681.071 1485.15 682.749 Q1487.03 684.398 1490.24 684.398 Q1494.67 684.398 1497.33 681.273 Q1500.02 678.119 1500.02 672.911 L1500.02 671.725 L1494.73 671.725 M1505.35 669.526 L1505.35 688.015 L1500.02 688.015 L1500.02 683.096 Q1498.2 686.048 1495.48 687.465 Q1492.76 688.854 1488.82 688.854 Q1483.85 688.854 1480.9 686.077 Q1477.97 683.27 1477.97 678.582 Q1477.97 673.114 1481.62 670.336 Q1485.29 667.558 1492.56 667.558 L1500.02 667.558 L1500.02 667.037 Q1500.02 663.363 1497.59 661.366 Q1495.19 659.341 1490.82 659.341 Q1488.04 659.341 1485.41 660.006 Q1482.78 660.672 1480.35 662.003 L1480.35 657.084 Q1483.27 655.955 1486.02 655.405 Q1488.77 654.827 1491.37 654.827 Q1498.4 654.827 1501.87 658.473 Q1505.35 662.118 1505.35 669.526 Z\" fill=\"#000000\" fill-rule=\"evenodd\" fill-opacity=\"1\" /><path clip-path=\"url(#clip290)\" d=\"M1516.31 642.992 L1521.64 642.992 L1521.64 688.015 L1516.31 688.015 L1516.31 642.992 Z\" fill=\"#000000\" fill-rule=\"evenodd\" fill-opacity=\"1\" /><path clip-path=\"url(#clip290)\" d=\"M1559.71 668.455 L1559.71 688.015 L1554.39 688.015 L1554.39 668.629 Q1554.39 664.028 1552.6 661.742 Q1550.8 659.456 1547.21 659.456 Q1542.9 659.456 1540.41 662.205 Q1537.93 664.954 1537.93 669.699 L1537.93 688.015 L1532.57 688.015 L1532.57 655.608 L1537.93 655.608 L1537.93 660.643 Q1539.84 657.72 1542.41 656.273 Q1545.02 654.827 1548.4 654.827 Q1553.98 654.827 1556.85 658.299 Q1559.71 661.742 1559.71 668.455 Z\" fill=\"#000000\" fill-rule=\"evenodd\" fill-opacity=\"1\" /><path clip-path=\"url(#clip290)\" d=\"M1585.06 671.725 Q1578.61 671.725 1576.12 673.2 Q1573.63 674.676 1573.63 678.235 Q1573.63 681.071 1575.48 682.749 Q1577.36 684.398 1580.58 684.398 Q1585 684.398 1587.67 681.273 Q1590.36 678.119 1590.36 672.911 L1590.36 671.725 L1585.06 671.725 M1595.68 669.526 L1595.68 688.015 L1590.36 688.015 L1590.36 683.096 Q1588.53 686.048 1585.81 687.465 Q1583.09 688.854 1579.16 688.854 Q1574.18 688.854 1571.23 686.077 Q1568.31 683.27 1568.31 678.582 Q1568.31 673.114 1571.95 670.336 Q1575.63 667.558 1582.89 667.558 L1590.36 667.558 L1590.36 667.037 Q1590.36 663.363 1587.93 661.366 Q1585.52 659.341 1581.15 659.341 Q1578.38 659.341 1575.74 660.006 Q1573.11 660.672 1570.68 662.003 L1570.68 657.084 Q1573.6 655.955 1576.35 655.405 Q1579.1 654.827 1581.7 654.827 Q1588.74 654.827 1592.21 658.473 Q1595.68 662.118 1595.68 669.526 Z\" fill=\"#000000\" fill-rule=\"evenodd\" fill-opacity=\"1\" /><path clip-path=\"url(#clip290)\" d=\"M1625.48 642.992 L1630.81 642.992 L1630.81 688.015 L1625.48 688.015 L1625.48 642.992 Z\" fill=\"#000000\" fill-rule=\"evenodd\" fill-opacity=\"1\" /><path clip-path=\"url(#clip290)\" d=\"M1641.95 655.608 L1647.27 655.608 L1647.27 688.015 L1641.95 688.015 L1641.95 655.608 M1641.95 642.992 L1647.27 642.992 L1647.27 649.734 L1641.95 649.734 L1641.95 642.992 Z\" fill=\"#000000\" fill-rule=\"evenodd\" fill-opacity=\"1\" /><path clip-path=\"url(#clip290)\" d=\"M1681.73 656.852 L1681.73 661.829 Q1679.48 660.585 1677.19 659.977 Q1674.93 659.341 1672.62 659.341 Q1667.44 659.341 1664.57 662.639 Q1661.71 665.909 1661.71 671.84 Q1661.71 677.772 1664.57 681.071 Q1667.44 684.34 1672.62 684.34 Q1674.93 684.34 1677.19 683.733 Q1679.48 683.096 1681.73 681.852 L1681.73 686.771 Q1679.51 687.813 1677.1 688.333 Q1674.73 688.854 1672.04 688.854 Q1664.72 688.854 1660.41 684.254 Q1656.1 679.653 1656.1 671.84 Q1656.1 663.912 1660.44 659.37 Q1664.81 654.827 1672.39 654.827 Q1674.85 654.827 1677.19 655.348 Q1679.53 655.839 1681.73 656.852 Z\" fill=\"#000000\" fill-rule=\"evenodd\" fill-opacity=\"1\" /><path clip-path=\"url(#clip290)\" d=\"M1688.68 655.608 L1713.97 655.608 L1713.97 660.469 L1693.94 683.762 L1713.97 683.762 L1713.97 688.015 L1687.95 688.015 L1687.95 683.154 L1707.98 659.861 L1688.68 659.861 L1688.68 655.608 Z\" fill=\"#000000\" fill-rule=\"evenodd\" fill-opacity=\"1\" /><path clip-path=\"url(#clip290)\" d=\"M1745.36 671.84 Q1745.36 665.967 1742.93 662.639 Q1740.53 659.283 1736.3 659.283 Q1732.08 659.283 1729.65 662.639 Q1727.25 665.967 1727.25 671.84 Q1727.25 677.714 1729.65 681.071 Q1732.08 684.398 1736.3 684.398 Q1740.53 684.398 1742.93 681.071 Q1745.36 677.714 1745.36 671.84 M1727.25 660.527 Q1728.93 657.633 1731.47 656.245 Q1734.05 654.827 1737.61 654.827 Q1743.51 654.827 1747.18 659.514 Q1750.89 664.202 1750.89 671.84 Q1750.89 679.479 1747.18 684.167 Q1743.51 688.854 1737.61 688.854 Q1734.05 688.854 1731.47 687.465 Q1728.93 686.048 1727.25 683.154 L1727.25 688.015 L1721.89 688.015 L1721.89 642.992 L1727.25 642.992 L1727.25 660.527 Z\" fill=\"#000000\" fill-rule=\"evenodd\" fill-opacity=\"1\" /><path clip-path=\"url(#clip290)\" d=\"M1774.44 671.725 Q1767.99 671.725 1765.5 673.2 Q1763.01 674.676 1763.01 678.235 Q1763.01 681.071 1764.86 682.749 Q1766.74 684.398 1769.96 684.398 Q1774.38 684.398 1777.05 681.273 Q1779.74 678.119 1779.74 672.911 L1779.74 671.725 L1774.44 671.725 M1785.06 669.526 L1785.06 688.015 L1779.74 688.015 L1779.74 683.096 Q1777.91 686.048 1775.19 687.465 Q1772.47 688.854 1768.54 688.854 Q1763.56 688.854 1760.61 686.077 Q1757.69 683.27 1757.69 678.582 Q1757.69 673.114 1761.33 670.336 Q1765.01 667.558 1772.27 667.558 L1779.74 667.558 L1779.74 667.037 Q1779.74 663.363 1777.31 661.366 Q1774.9 659.341 1770.53 659.341 Q1767.76 659.341 1765.12 660.006 Q1762.49 660.672 1760.06 662.003 L1760.06 657.084 Q1762.98 655.955 1765.73 655.405 Q1768.48 654.827 1771.08 654.827 Q1778.12 654.827 1781.59 658.473 Q1785.06 662.118 1785.06 669.526 Z\" fill=\"#000000\" fill-rule=\"evenodd\" fill-opacity=\"1\" /><path clip-path=\"url(#clip290)\" d=\"M1812.55 655.608 L1837.84 655.608 L1837.84 660.469 L1817.81 683.762 L1837.84 683.762 L1837.84 688.015 L1811.82 688.015 L1811.82 683.154 L1831.85 659.861 L1812.55 659.861 L1812.55 655.608 Z\" fill=\"#000000\" fill-rule=\"evenodd\" fill-opacity=\"1\" /><path clip-path=\"url(#clip290)\" d=\"M1871.2 661.829 Q1873.2 658.241 1875.97 656.534 Q1878.75 654.827 1882.51 654.827 Q1887.58 654.827 1890.33 658.386 Q1893.07 661.916 1893.07 668.455 L1893.07 688.015 L1887.72 688.015 L1887.72 668.629 Q1887.72 663.97 1886.07 661.713 Q1884.42 659.456 1881.04 659.456 Q1876.9 659.456 1874.5 662.205 Q1872.1 664.954 1872.1 669.699 L1872.1 688.015 L1866.74 688.015 L1866.74 668.629 Q1866.74 663.941 1865.09 661.713 Q1863.45 659.456 1860 659.456 Q1855.92 659.456 1853.52 662.234 Q1851.12 664.983 1851.12 669.699 L1851.12 688.015 L1845.77 688.015 L1845.77 655.608 L1851.12 655.608 L1851.12 660.643 Q1852.94 657.662 1855.49 656.245 Q1858.03 654.827 1861.54 654.827 Q1865.07 654.827 1867.52 656.621 Q1870.01 658.415 1871.2 661.829 Z\" fill=\"#000000\" fill-rule=\"evenodd\" fill-opacity=\"1\" /><path clip-path=\"url(#clip290)\" d=\"M1903.69 655.608 L1909.02 655.608 L1909.02 688.015 L1903.69 688.015 L1903.69 655.608 M1903.69 642.992 L1909.02 642.992 L1909.02 649.734 L1903.69 649.734 L1903.69 642.992 Z\" fill=\"#000000\" fill-rule=\"evenodd\" fill-opacity=\"1\" /><path clip-path=\"url(#clip290)\" d=\"M1947.88 670.481 L1947.88 673.085 L1923.4 673.085 Q1923.75 678.582 1926.7 681.476 Q1929.68 684.34 1934.97 684.34 Q1938.04 684.34 1940.9 683.588 Q1943.8 682.836 1946.63 681.331 L1946.63 686.366 Q1943.77 687.581 1940.76 688.218 Q1937.75 688.854 1934.65 688.854 Q1926.9 688.854 1922.36 684.34 Q1917.84 679.827 1917.84 672.13 Q1917.84 664.173 1922.13 659.514 Q1926.44 654.827 1933.73 654.827 Q1940.27 654.827 1944.06 659.051 Q1947.88 663.247 1947.88 670.481 M1942.55 668.918 Q1942.5 664.549 1940.09 661.945 Q1937.72 659.341 1933.79 659.341 Q1929.33 659.341 1926.64 661.858 Q1923.98 664.375 1923.57 668.947 L1942.55 668.918 Z\" fill=\"#000000\" fill-rule=\"evenodd\" fill-opacity=\"1\" /><path clip-path=\"url(#clip290)\" d=\"M1983.55 668.455 L1983.55 688.015 L1978.23 688.015 L1978.23 668.629 Q1978.23 664.028 1976.44 661.742 Q1974.64 659.456 1971.05 659.456 Q1966.74 659.456 1964.25 662.205 Q1961.77 664.954 1961.77 669.699 L1961.77 688.015 L1956.41 688.015 L1956.41 655.608 L1961.77 655.608 L1961.77 660.643 Q1963.68 657.72 1966.25 656.273 Q1968.86 654.827 1972.24 654.827 Q1977.83 654.827 1980.69 658.299 Q1983.55 661.742 1983.55 668.455 Z\" fill=\"#000000\" fill-rule=\"evenodd\" fill-opacity=\"1\" /><path clip-path=\"url(#clip290)\" d=\"M2021.11 668.455 L2021.11 688.015 L2015.79 688.015 L2015.79 668.629 Q2015.79 664.028 2013.99 661.742 Q2012.2 659.456 2008.61 659.456 Q2004.3 659.456 2001.81 662.205 Q1999.32 664.954 1999.32 669.699 L1999.32 688.015 L1993.97 688.015 L1993.97 655.608 L1999.32 655.608 L1999.32 660.643 Q2001.23 657.72 2003.81 656.273 Q2006.41 654.827 2009.8 654.827 Q2015.38 654.827 2018.25 658.299 Q2021.11 661.742 2021.11 668.455 Z\" fill=\"#000000\" fill-rule=\"evenodd\" fill-opacity=\"1\" /><path clip-path=\"url(#clip290)\" d=\"M2045.21 691.024 Q2042.96 696.811 2040.82 698.576 Q2038.68 700.342 2035.09 700.342 L2030.83 700.342 L2030.83 695.886 L2033.96 695.886 Q2036.16 695.886 2037.37 694.844 Q2038.59 693.802 2040.06 689.925 L2041.02 687.494 L2027.91 655.608 L2033.55 655.608 L2043.68 680.955 L2053.81 655.608 L2059.45 655.608 L2045.21 691.024 Z\" fill=\"#000000\" fill-rule=\"evenodd\" fill-opacity=\"1\" /><path clip-path=\"url(#clip290)\" d=\"M2090.12 656.852 L2090.12 661.829 Q2087.87 660.585 2085.58 659.977 Q2083.32 659.341 2081.01 659.341 Q2075.83 659.341 2072.96 662.639 Q2070.1 665.909 2070.1 671.84 Q2070.1 677.772 2072.96 681.071 Q2075.83 684.34 2081.01 684.34 Q2083.32 684.34 2085.58 683.733 Q2087.87 683.096 2090.12 681.852 L2090.12 686.771 Q2087.89 687.813 2085.49 688.333 Q2083.12 688.854 2080.43 688.854 Q2073.11 688.854 2068.8 684.254 Q2064.49 679.653 2064.49 671.84 Q2064.49 663.912 2068.83 659.37 Q2073.2 654.827 2080.78 654.827 Q2083.24 654.827 2085.58 655.348 Q2087.92 655.839 2090.12 656.852 Z\" fill=\"#000000\" fill-rule=\"evenodd\" fill-opacity=\"1\" /><path clip-path=\"url(#clip290)\" d=\"M2126.32 668.455 L2126.32 688.015 L2121 688.015 L2121 668.629 Q2121 664.028 2119.2 661.742 Q2117.41 659.456 2113.82 659.456 Q2109.51 659.456 2107.02 662.205 Q2104.53 664.954 2104.53 669.699 L2104.53 688.015 L2099.18 688.015 L2099.18 642.992 L2104.53 642.992 L2104.53 660.643 Q2106.44 657.72 2109.02 656.273 Q2111.62 654.827 2115.01 654.827 Q2120.59 654.827 2123.46 658.299 Q2126.32 661.742 2126.32 668.455 Z\" fill=\"#000000\" fill-rule=\"evenodd\" fill-opacity=\"1\" /><path clip-path=\"url(#clip290)\" d=\"M2138.3 680.666 L2144.4 680.666 L2144.4 688.015 L2138.3 688.015 L2138.3 680.666 M2138.3 657.373 L2144.4 657.373 L2144.4 664.722 L2138.3 664.722 L2138.3 657.373 Z\" fill=\"#000000\" fill-rule=\"evenodd\" fill-opacity=\"1\" /><path clip-path=\"url(#clip290)\" d=\"M2181.53 683.096 L2201.93 683.096 L2201.93 688.015 L2174.5 688.015 L2174.5 683.096 Q2177.82 679.653 2183.55 673.866 Q2189.31 668.05 2190.79 666.372 Q2193.59 663.218 2194.69 661.048 Q2195.82 658.849 2195.82 656.736 Q2195.82 653.293 2193.39 651.123 Q2190.99 648.953 2187.11 648.953 Q2184.36 648.953 2181.3 649.908 Q2178.26 650.863 2174.79 652.801 L2174.79 646.899 Q2178.32 645.481 2181.38 644.757 Q2184.45 644.034 2187 644.034 Q2193.71 644.034 2197.7 647.39 Q2201.7 650.747 2201.7 656.36 Q2201.7 659.022 2200.68 661.424 Q2199.7 663.797 2197.07 667.037 Q2196.34 667.876 2192.47 671.898 Q2188.59 675.891 2181.53 683.096 Z\" fill=\"#000000\" fill-rule=\"evenodd\" fill-opacity=\"1\" /><path clip-path=\"url(#clip290)\" d=\"M2226.7 648.664 Q2222.18 648.664 2219.9 653.12 Q2217.64 657.547 2217.64 666.459 Q2217.64 675.342 2219.9 679.798 Q2222.18 684.225 2226.7 684.225 Q2231.24 684.225 2233.5 679.798 Q2235.78 675.342 2235.78 666.459 Q2235.78 657.547 2233.5 653.12 Q2231.24 648.664 2226.7 648.664 M2226.7 644.034 Q2233.96 644.034 2237.78 649.792 Q2241.63 655.521 2241.63 666.459 Q2241.63 677.367 2237.78 683.125 Q2233.96 688.854 2226.7 688.854 Q2219.43 688.854 2215.58 683.125 Q2211.76 677.367 2211.76 666.459 Q2211.76 655.521 2215.58 649.792 Q2219.43 644.034 2226.7 644.034 Z\" fill=\"#000000\" fill-rule=\"evenodd\" fill-opacity=\"1\" /></svg>\n"
      ]
     },
     "execution_count": 70,
     "metadata": {},
     "output_type": "execute_result"
    }
   ],
   "source": [
    "M = hcat(validation_score, samples)\n",
    "m = M[argmin(M[:,1]),2]\n",
    "Plots.plot(samples, train_score, xlabel = \"Liczba zmiennych w podziale\", ylabel =  \"MSE\", linewidth=2, c = \"red\")\n",
    "Plots.plot!(samples, validation_score, linewidth=2, c = \"blue\" )\n",
    "annotate!((0.72, 0.55), \"Optymalna liczba zmiennych: $m\", font(10, \"Calibri Light\"))\n"
   ]
  },
  {
   "cell_type": "code",
   "execution_count": null,
   "id": "infrared-footwear",
   "metadata": {},
   "outputs": [],
   "source": [
    "### hiperparametry:alpha - nie ma roznicy w oszacowaniach\n",
    "\n",
    "alphas = collect(0:0.1:1)\n",
    "n_trees = 260\n",
    "n_sample = 14\n",
    "train_score = []\n",
    "validation_score = []\n",
    "train_r2 = []\n",
    "validation_r2 = []\n",
    "\n",
    "@time for a in alphas\n",
    "    model = RandomForestRegressor(n_estimators=n_trees, max_samples = n_sample, ccp_alpha = a, random_state=100)\n",
    "    ScikitLearn.fit!(model, Array(df_train_numerical) , Array(df_train_target.Target_1M))\n",
    "    MSE_t = mean_squared_error(model.predict(Array(df_train_numerical)), Array(df_train_target.Target_1M))\n",
    "    MSE_v = mean_squared_error(model.predict(Array(df_validation_numerical)), Array(df_validation_target.Target_1M))\n",
    "    r2_t = model.score(Array(df_train_numerical) , Array(df_train_target.Target_1M))\n",
    "    r2_v = model.score(Array(df_validation_numerical) , Array(df_validation_target.Target_1M))\n",
    "    push!(train_r2, r2_t)\n",
    "    push!(validation_r2, r2_v)\n",
    "    push!(train_score, MSE_t)\n",
    "    push!(validation_score, MSE_v)\n",
    "end"
   ]
  },
  {
   "cell_type": "code",
   "execution_count": null,
   "id": "meaningful-chair",
   "metadata": {},
   "outputs": [],
   "source": [
    "M = hcat(validation_score, alphas)\n",
    "m = M[argmin(M[:,1]),2]\n",
    "Plots.plot(alphas, train_score, xlabel = \"Parametr alfa\", ylabel =  \"MSE\", linewidth=2, c = \"red\")\n",
    "Plots.plot!(alphas, validation_score, linewidth=2, c = \"blue\" )\n",
    "annotate!((0.72, 0.55), \"Optymalna wartość alpha: $m\", font(10, \"Calibri Light\"))"
   ]
  },
  {
   "cell_type": "code",
   "execution_count": 77,
   "id": "compressed-laugh",
   "metadata": {},
   "outputs": [],
   "source": [
    "### Oszacowanie głównego modelu lasów losowych \n",
    "n_trees = 260\n",
    "n_sample = 20 # tutaj wczesniej bylo 16\n",
    "alpha = 0.7\n",
    "RF_model = RandomForestRegressor(n_estimators=n_trees, max_samples = n_sample, ccp_alpha = alpha, random_state=100)\n",
    "ScikitLearn.fit!(RF_model, Array(df_train_numerical) , Array(df_train_target.Target_1M))\n",
    "pred = RF_model.predict(Array(df_validation_numerical))\n",
    "MSE = mean_squared_error(pred, Array(df_validation_target.Target_1M))\n",
    "MAE = mean_absolute_error(pred, Array(df_validation_target.Target_1M))\n",
    "STD = round(Statistics.std(Array(df_validation_target.Target_1M)), digits = 2);"
   ]
  },
  {
   "cell_type": "code",
   "execution_count": 78,
   "id": "proprietary-possible",
   "metadata": {},
   "outputs": [
    {
     "name": "stdout",
     "output_type": "stream",
     "text": [
      "MSE = 164.5836194809086\n",
      "MAE = 7.778983636522965\n",
      "Prognozowany średni zwrot: 1.19\n",
      "Średni zwrot na zbiorze walidacyjnym: 1.16\n",
      "Oschylenie standardowe na zbiorze walidacyjnym: 12.89\n"
     ]
    },
    {
     "data": {
      "text/plain": [
       "33×2 Matrix{Any}:\n",
       " \"mar_val\"         0.0310041\n",
       " \"tur_val\"         0.0361363\n",
       " \"cs_fl_sales\"     0.0292473\n",
       " \"ebit\"            0.0152891\n",
       " \"ebitda\"          0.0147394\n",
       " \"net_debt\"        0.0160515\n",
       " \"net_margin\"      0.022081\n",
       " \"op_inc\"          0.0180225\n",
       " \"tot_assets\"      0.0236971\n",
       " \"tot_capital\"     0.0110178\n",
       " \"tot_debt\"        0.0127936\n",
       " \"tot_liab\"        0.0252484\n",
       " \"op_prof_margin\"  0.0297756\n",
       " \"vol_5y\"          0.0330574\n",
       " \"vol_1y\"          0.0426453\n",
       " \"pr_cs_flow\"      0.0460485\n",
       " \"p_b_val\"         0.0291546\n",
       " \"beta\"            0.0240982\n",
       " \"debt_to_eq\"      0.0246282\n",
       " \"roe\"             0.0189565\n",
       " \"roi\"             0.0441995\n",
       " \"div_yield\"       0.0226257\n",
       " \"bidask_spread\"   0.0244905\n",
       " \"per\"             0.0247318\n",
       " \"asset_growth\"    0.0408071\n",
       " \"cap_exp_gr\"      0.0316548\n",
       " \"num_shar_gr\"     0.0401015\n",
       " \"long_debt_gr\"    0.04129\n",
       " \"mom_1M\"          0.045879\n",
       " \"mom_3M\"          0.0400303\n",
       " \"mom_6M\"          0.0640477\n",
       " \"mom_12M\"         0.0387873\n",
       " \"mom_24M\"         0.0376624"
      ]
     },
     "execution_count": 78,
     "metadata": {},
     "output_type": "execute_result"
    }
   ],
   "source": [
    "@show MSE \n",
    "@show MAE \n",
    "println(\"Prognozowany średni zwrot: \", round(mean(pred), digits = 2))\n",
    "println(\"Średni zwrot na zbiorze walidacyjnym: \", round(mean(df_validation_target.Target_1M), digits = 2))\n",
    "println(\"Oschylenie standardowe na zbiorze walidacyjnym: \", STD)\n",
    "hcat(names(df_validation_numerical), RF_model.feature_importances_)"
   ]
  },
  {
   "cell_type": "markdown",
   "id": "interesting-grave",
   "metadata": {},
   "source": [
    "## Zbiór testowy "
   ]
  },
  {
   "cell_type": "code",
   "execution_count": 79,
   "id": "dominican-music",
   "metadata": {},
   "outputs": [],
   "source": [
    "### Preprocessing na zbiorze testowym\n",
    "\n",
    "df_test = DataFrame(XLSX.readtable(\"df_test.xlsx\", \"Sheet1\")...);\n",
    "\n",
    "select!(df_test, [:date,:company,:price, :mar_val, :tur_val, :cs_fl_sales, :ebit, :ebitda, :net_debt, :net_margin,\n",
    "        :op_inc, :tot_assets, :tot_capital, :tot_debt, :tot_liab, :op_prof_margin,:vol_5y, :vol_1y,:pr_cs_flow, :p_b_val, :beta, \n",
    "         :debt_to_eq, :roe, :roi,:div_yield, :bidask_spread, :per, :asset_growth, :cap_exp_gr, \n",
    "        :num_shar_gr, :long_debt_gr, :mom_1M, :mom_3M, :mom_6M, :mom_12M,:mom_24M, :Target_1M,:Target_3M]) \n",
    "df_test[!,3:38 ] = passmissing(convert).(Float64, df_test[!, 3:38]);\n",
    "\n",
    "#### Zastępowanie missing values \n",
    "Impute.substitute!(df_test.vol_5y, statistic = median)\n",
    "Impute.substitute!(df_test.per, statistic = median)\n",
    "Impute.substitute!(df_test.p_b_val, statistic = median)\n",
    "Impute.substitute!(df_test.beta, statistic = median)\n",
    "Impute.substitute!(df_test.vol_1y, statistic = median)\n",
    "Impute.substitute!(df_test.debt_to_eq, statistic = median)\n",
    "Impute.substitute!(df_test.roe, statistic = median)\n",
    "Impute.substitute!(df_test.roi, statistic = median)\n",
    "\n",
    "replace!(df_test.mom_1M, missing =>  0)\n",
    "replace!(df_test.mom_3M, missing =>  0)\n",
    "replace!(df_test.mom_6M, missing =>  0)\n",
    "replace!(df_test.mom_24M, missing =>  0)\n",
    "replace!(df_test.mom_12M, missing =>  0)\n",
    "\n",
    "replace!(df_test.div_yield, missing =>  0)\n",
    "replace!(df_test.asset_growth, missing =>  0)\n",
    "replace!(df_test.long_debt_gr, missing =>  0)\n",
    "replace!(df_test.cap_exp_gr, missing =>  0)\n",
    "replace!(df_test.num_shar_gr, missing =>  0)\n",
    "\n",
    "Impute.substitute!(df_test.bidask_spread, statistic = median)\n",
    "\n",
    "df_test[:, 4:20] = Impute.knn(Matrix(df_test[:,4:20]); k = 1, threshold = 0.5);  #pozostałe wskaźniki finansowe za pomocą KNN\n",
    "\n",
    "standardize(df_test);\n"
   ]
  },
  {
   "cell_type": "code",
   "execution_count": 80,
   "id": "fluid-citizenship",
   "metadata": {},
   "outputs": [],
   "source": [
    "df_test_numerical = copy(df_test[:, (4:36)])\n",
    "df_test_target = copy(df_test[:, (37:38)]);"
   ]
  },
  {
   "cell_type": "code",
   "execution_count": 89,
   "id": "variable-raise",
   "metadata": {},
   "outputs": [],
   "source": [
    "DT_model =  modelDT\n",
    "DT_pred = modelDT.predict(Array(df_test_numerical))\n",
    "DT_R2 = round(modelDT.score(Array(df_test_numerical) , Array(df_test_target.Target_1M)), digits = 2)\n",
    "DT_MSE = round(mean_squared_error(DT_pred, Array(df_test_target.Target_1M)), digits = 2)\n",
    "DT_MAE = round(mean_absolute_error(DT_pred, Array(df_test_target.Target_1M)), digits = 2)\n",
    "DT_STD = round(Statistics.std(Array(DT_pred)), digits = 2);"
   ]
  },
  {
   "cell_type": "code",
   "execution_count": 90,
   "id": "injured-graduation",
   "metadata": {},
   "outputs": [],
   "source": [
    "RF_pred = RF_model.predict(Array(df_test_numerical))\n",
    "RF_R2 = round(RF_model.score(Array(df_test_numerical) , Array(df_test_target.Target_1M)), digits = 2)\n",
    "RF_MSE = round(mean_squared_error(RF_pred, Array(df_test_target.Target_1M)), digits = 2)\n",
    "RF_MAE = round(mean_absolute_error(RF_pred, Array(df_test_target.Target_1M)), digits = 2)\n",
    "RF_STD = round(Statistics.std(Array(RF_pred)), digits = 2);"
   ]
  },
  {
   "cell_type": "code",
   "execution_count": 91,
   "id": "stone-baker",
   "metadata": {},
   "outputs": [],
   "source": [
    "RF_TEST = round(Statistics.std(Array(df_test_target.Target_1M)), digits = 2);"
   ]
  },
  {
   "cell_type": "code",
   "execution_count": 94,
   "id": "separated-craft",
   "metadata": {},
   "outputs": [
    {
     "name": "stdout",
     "output_type": "stream",
     "text": [
      "Drzewo decyzyjne\n",
      "DT_MSE = 288.73\n",
      "DT_MAE = 9.64\n",
      "DT_R2 = -0.05\n",
      "DT_STD = 4.48\n",
      "Prognozowany średni zwrot: 1.01\n",
      "\n",
      "Lasy losowe\n",
      "RF_MSE = 270.8\n",
      "RF_MAE = 9.3\n",
      "RF_R2 = 0.01\n",
      "RF_STD = 1.34\n",
      "Prognozowany średni zwrot: 1.04\n",
      "\n",
      "\n",
      "Zbiór testowy\n",
      "Rzeczywisty średni zwrot na zbiorze testowym: 1.13\n",
      "Rzeczywiste odchylenie standardowe na zbiorze testowym: 16.55\n"
     ]
    }
   ],
   "source": [
    "println(\"Drzewo decyzyjne\")\n",
    "@show DT_MSE\n",
    "@show DT_MAE \n",
    "@show DT_R2\n",
    "@show DT_STD\n",
    "println(\"Prognozowany średni zwrot: \", round(mean(DT_pred), digits = 2))\n",
    "println()\n",
    "println(\"Lasy losowe\")\n",
    "@show RF_MSE\n",
    "@show RF_MAE \n",
    "@show RF_R2\n",
    "@show RF_STD\n",
    "println(\"Prognozowany średni zwrot: \", round(mean(RF_pred), digits = 2))\n",
    "println()\n",
    "println()\n",
    "println(\"Zbiór testowy\")\n",
    "println(\"Rzeczywisty średni zwrot na zbiorze testowym: \", round(mean(df_test_target.Target_1M), digits = 2))\n",
    "println(\"Rzeczywiste odchylenie standardowe na zbiorze testowym: \", RF_TEST)"
   ]
  },
  {
   "cell_type": "code",
   "execution_count": 189,
   "id": "marked-brand",
   "metadata": {},
   "outputs": [
    {
     "name": "stdout",
     "output_type": "stream",
     "text": [
      "Drzewo decyzyjne\n",
      "las losowy\n"
     ]
    }
   ],
   "source": [
    "println(\"Drzewo decyzyjne\")\n",
    "DT_FI = DataFrame(hcat(names(df_test_numerical), DT_model.feature_importances_))\n",
    "sort!(DT_FI, :x2, rev = true);\n",
    "\n",
    "println(\"las losowy\")\n",
    "RF_FI =  DataFrame(hcat(names(df_test_numerical), RF_model.feature_importances_))\n",
    "sort!(RF_FI, :x2, rev = true);\n",
    "\n",
    "XLSX.writetable(\"DT_FI.xlsx\", collect(DataFrames.eachcol(DT_FI)), DataFrames.names(DT_FI))\n",
    "XLSX.writetable(\"RF_FI.xlsx\", collect(DataFrames.eachcol(RF_FI)), DataFrames.names(RF_FI));"
   ]
  },
  {
   "cell_type": "code",
   "execution_count": null,
   "id": "interior-batman",
   "metadata": {},
   "outputs": [],
   "source": []
  },
  {
   "cell_type": "code",
   "execution_count": null,
   "id": "aerial-diameter",
   "metadata": {},
   "outputs": [],
   "source": []
  },
  {
   "cell_type": "code",
   "execution_count": null,
   "id": "adapted-tract",
   "metadata": {},
   "outputs": [],
   "source": []
  },
  {
   "cell_type": "code",
   "execution_count": null,
   "id": "reserved-extra",
   "metadata": {},
   "outputs": [],
   "source": []
  },
  {
   "cell_type": "code",
   "execution_count": null,
   "id": "auburn-switzerland",
   "metadata": {},
   "outputs": [],
   "source": []
  },
  {
   "cell_type": "code",
   "execution_count": null,
   "id": "favorite-butter",
   "metadata": {},
   "outputs": [],
   "source": []
  },
  {
   "cell_type": "markdown",
   "id": "descending-baseball",
   "metadata": {},
   "source": [
    "## Strategia inwestycyjna "
   ]
  },
  {
   "cell_type": "code",
   "execution_count": 191,
   "id": "promotional-expense",
   "metadata": {},
   "outputs": [],
   "source": [
    "df_test = hcat(df_test, DT_pred)\n",
    "rename!(df_test, :x1 => :DT_pred)\n",
    "df_test = hcat(df_test, RF_pred)\n",
    "rename!(df_test, :x1 => :RF_pred);"
   ]
  },
  {
   "cell_type": "code",
   "execution_count": 674,
   "id": "likely-october",
   "metadata": {},
   "outputs": [],
   "source": [
    "#dataset = copy(df_test[:,[1,2,37,39,40]]);"
   ]
  },
  {
   "cell_type": "code",
   "execution_count": 192,
   "id": "useful-surveillance",
   "metadata": {},
   "outputs": [
    {
     "data": {
      "text/plain": [
       "evaluation (generic function with 1 method)"
      ]
     },
     "execution_count": 192,
     "metadata": {},
     "output_type": "execute_result"
    }
   ],
   "source": [
    "function evaluation(dataset, predictor)\n",
    "    dates = unique(dataset.date)\n",
    "    D = []\n",
    "    S = []\n",
    "    K = []\n",
    "    R = []\n",
    "    A = []\n",
    "    for i in dates\n",
    "        crosssection = filter(:date => ==(i), copy(dataset[:,:]))\n",
    "        sort!(crosssection, predictor, rev = true)\n",
    "        top = Int(round(0.1*size(crosssection, 1) , digits = 0))\n",
    "        t_std = round(Statistics.std(Array(crosssection[1:top, :].Target_1M)), digits = 2)\n",
    "        t_mean = round(mean(Array(crosssection[1:top, :].Target_1M)), digits = 2)\n",
    "        pred_std = round(Statistics.std(Array(crosssection[1:top, predictor])), digits = 2)\n",
    "        pred_mean = round(mean(Array(crosssection[1:top, predictor])), digits = 2)\n",
    "        push!(D, i)\n",
    "        push!(S, t_std)\n",
    "        push!(K, t_mean)\n",
    "        push!(R, pred_std )\n",
    "        push!(A, pred_mean)\n",
    "    end\n",
    "    M = DataFrame(:date => D,\n",
    "        :target_std => S,\n",
    "        :target_mean => K,\n",
    "        :pred_std => R,\n",
    "        :pred_mean => A)\n",
    "end"
   ]
  },
  {
   "cell_type": "code",
   "execution_count": 193,
   "id": "complicated-rough",
   "metadata": {},
   "outputs": [],
   "source": [
    "DT_eval = evaluation(df_test,  \"DT_pred\");\n",
    "RF_eval = evaluation(df_test,  \"RF_pred\");"
   ]
  },
  {
   "cell_type": "code",
   "execution_count": 253,
   "id": "common-ensemble",
   "metadata": {},
   "outputs": [
    {
     "data": {
      "text/html": [
       "<table class=\"data-frame\"><thead><tr><th></th><th>variable</th><th>mean</th><th>min</th><th>median</th><th>max</th><th>nunique</th><th>nmissing</th><th>eltype</th></tr><tr><th></th><th>Symbol</th><th>Union…</th><th>Any</th><th>Union…</th><th>Any</th><th>Int64</th><th>Int64</th><th>DataType</th></tr></thead><tbody><p>5 rows × 8 columns</p><tr><th>1</th><td>date</td><td></td><td>2017-02-01</td><td></td><td>2020-12-01</td><td>47</td><td>0</td><td>Any</td></tr><tr><th>2</th><td>target_std</td><td>14.7872</td><td>5.6</td><td>10.81</td><td>119.99</td><td>47</td><td>0</td><td>Any</td></tr><tr><th>3</th><td>target_mean</td><td>3.99532</td><td>-17.47</td><td>2.04</td><td>61.11</td><td>47</td><td>0</td><td>Any</td></tr><tr><th>4</th><td>pred_std</td><td>7.18255</td><td>0.0</td><td>3.55</td><td>33.0</td><td>28</td><td>0</td><td>Any</td></tr><tr><th>5</th><td>pred_mean</td><td>5.38085</td><td>2.28</td><td>4.17</td><td>16.77</td><td>30</td><td>0</td><td>Any</td></tr></tbody></table>"
      ],
      "text/latex": [
       "\\begin{tabular}{r|cccccccc}\n",
       "\t& variable & mean & min & median & max & nunique & nmissing & eltype\\\\\n",
       "\t\\hline\n",
       "\t& Symbol & Union… & Any & Union… & Any & Int64 & Int64 & DataType\\\\\n",
       "\t\\hline\n",
       "\t1 & date &  & 2017-02-01 &  & 2020-12-01 & 47 & 0 & Any \\\\\n",
       "\t2 & target\\_std & 14.7872 & 5.6 & 10.81 & 119.99 & 47 & 0 & Any \\\\\n",
       "\t3 & target\\_mean & 3.99532 & -17.47 & 2.04 & 61.11 & 47 & 0 & Any \\\\\n",
       "\t4 & pred\\_std & 7.18255 & 0.0 & 3.55 & 33.0 & 28 & 0 & Any \\\\\n",
       "\t5 & pred\\_mean & 5.38085 & 2.28 & 4.17 & 16.77 & 30 & 0 & Any \\\\\n",
       "\\end{tabular}\n"
      ],
      "text/plain": [
       "5×8 typename(DataFrame)\n",
       "│ Row │ variable    │ mean    │ min        │ median │ max        │ nunique │ nmissing │ eltype   │\n",
       "│     │ \u001b[90mSymbol\u001b[39m      │ \u001b[90mUnion…\u001b[39m  │ \u001b[90mAny\u001b[39m        │ \u001b[90mUnion…\u001b[39m │ \u001b[90mAny\u001b[39m        │ \u001b[90mInt64\u001b[39m   │ \u001b[90mInt64\u001b[39m    │ \u001b[90mDataType\u001b[39m │\n",
       "├─────┼─────────────┼─────────┼────────────┼────────┼────────────┼─────────┼──────────┼──────────┤\n",
       "│ 1   │ date        │         │ 2017-02-01 │        │ 2020-12-01 │ 47      │ 0        │ Any      │\n",
       "│ 2   │ target_std  │ 14.7872 │ 5.6        │ 10.81  │ 119.99     │ 47      │ 0        │ Any      │\n",
       "│ 3   │ target_mean │ 3.99532 │ -17.47     │ 2.04   │ 61.11      │ 47      │ 0        │ Any      │\n",
       "│ 4   │ pred_std    │ 7.18255 │ 0.0        │ 3.55   │ 33.0       │ 28      │ 0        │ Any      │\n",
       "│ 5   │ pred_mean   │ 5.38085 │ 2.28       │ 4.17   │ 16.77      │ 30      │ 0        │ Any      │"
      ]
     },
     "execution_count": 253,
     "metadata": {},
     "output_type": "execute_result"
    }
   ],
   "source": [
    "DT_describe = describe(DT_eval)"
   ]
  },
  {
   "cell_type": "code",
   "execution_count": 254,
   "id": "mediterranean-lending",
   "metadata": {},
   "outputs": [
    {
     "data": {
      "text/html": [
       "<table class=\"data-frame\"><thead><tr><th></th><th>variable</th><th>mean</th><th>min</th><th>median</th><th>max</th><th>nunique</th><th>nmissing</th><th>eltype</th></tr><tr><th></th><th>Symbol</th><th>Union…</th><th>Any</th><th>Union…</th><th>Any</th><th>Int64</th><th>Int64</th><th>DataType</th></tr></thead><tbody><p>5 rows × 8 columns</p><tr><th>1</th><td>date</td><td></td><td>2017-02-01</td><td></td><td>2020-12-01</td><td>47</td><td>0</td><td>Any</td></tr><tr><th>2</th><td>target_std</td><td>21.2432</td><td>7.44</td><td>14.09</td><td>129.4</td><td>47</td><td>0</td><td>Any</td></tr><tr><th>3</th><td>target_mean</td><td>6.29532</td><td>-11.17</td><td>1.75</td><td>90.53</td><td>46</td><td>0</td><td>Any</td></tr><tr><th>4</th><td>pred_std</td><td>0.926809</td><td>0.61</td><td>0.91</td><td>1.37</td><td>31</td><td>0</td><td>Any</td></tr><tr><th>5</th><td>pred_mean</td><td>3.89468</td><td>3.08</td><td>3.88</td><td>5.12</td><td>40</td><td>0</td><td>Any</td></tr></tbody></table>"
      ],
      "text/latex": [
       "\\begin{tabular}{r|cccccccc}\n",
       "\t& variable & mean & min & median & max & nunique & nmissing & eltype\\\\\n",
       "\t\\hline\n",
       "\t& Symbol & Union… & Any & Union… & Any & Int64 & Int64 & DataType\\\\\n",
       "\t\\hline\n",
       "\t1 & date &  & 2017-02-01 &  & 2020-12-01 & 47 & 0 & Any \\\\\n",
       "\t2 & target\\_std & 21.2432 & 7.44 & 14.09 & 129.4 & 47 & 0 & Any \\\\\n",
       "\t3 & target\\_mean & 6.29532 & -11.17 & 1.75 & 90.53 & 46 & 0 & Any \\\\\n",
       "\t4 & pred\\_std & 0.926809 & 0.61 & 0.91 & 1.37 & 31 & 0 & Any \\\\\n",
       "\t5 & pred\\_mean & 3.89468 & 3.08 & 3.88 & 5.12 & 40 & 0 & Any \\\\\n",
       "\\end{tabular}\n"
      ],
      "text/plain": [
       "5×8 typename(DataFrame)\n",
       "│ Row │ variable    │ mean     │ min        │ median │ max        │ nunique │ nmissing │ eltype   │\n",
       "│     │ \u001b[90mSymbol\u001b[39m      │ \u001b[90mUnion…\u001b[39m   │ \u001b[90mAny\u001b[39m        │ \u001b[90mUnion…\u001b[39m │ \u001b[90mAny\u001b[39m        │ \u001b[90mInt64\u001b[39m   │ \u001b[90mInt64\u001b[39m    │ \u001b[90mDataType\u001b[39m │\n",
       "├─────┼─────────────┼──────────┼────────────┼────────┼────────────┼─────────┼──────────┼──────────┤\n",
       "│ 1   │ date        │          │ 2017-02-01 │        │ 2020-12-01 │ 47      │ 0        │ Any      │\n",
       "│ 2   │ target_std  │ 21.2432  │ 7.44       │ 14.09  │ 129.4      │ 47      │ 0        │ Any      │\n",
       "│ 3   │ target_mean │ 6.29532  │ -11.17     │ 1.75   │ 90.53      │ 46      │ 0        │ Any      │\n",
       "│ 4   │ pred_std    │ 0.926809 │ 0.61       │ 0.91   │ 1.37       │ 31      │ 0        │ Any      │\n",
       "│ 5   │ pred_mean   │ 3.89468  │ 3.08       │ 3.88   │ 5.12       │ 40      │ 0        │ Any      │"
      ]
     },
     "execution_count": 254,
     "metadata": {},
     "output_type": "execute_result"
    }
   ],
   "source": [
    "RF_describe = describe(RF_eval)"
   ]
  },
  {
   "cell_type": "code",
   "execution_count": 255,
   "id": "material-breast",
   "metadata": {},
   "outputs": [],
   "source": [
    "### zapisywanie tabel \n",
    "\n",
    "deletecols!(DT_describe, [6,7,8])\n",
    "delete!(DT_describe, 1)\n",
    "DT_describe[!, 2:4] = convert.(Float64, DT_describe[!, 2:4])\n",
    "DT_describe[!, 1] = String.(DT_describe[:,1])\n",
    "\n",
    "deletecols!(RF_describe, [6,7,8])\n",
    "delete!(RF_describe, 1)\n",
    "RF_describe[!, 2:4] = convert.(Float64, RF_describe[!, 2:4])\n",
    "RF_describe[!, 1] = String.(RF_describe[:,1])\n",
    "\n",
    "XLSX.writetable(\"DT_describe.xlsx\", collect(DataFrames.eachcol(DT_describe)), DataFrames.names(DT_describe))\n",
    "XLSX.writetable(\"RF_describe.xlsx\", collect(DataFrames.eachcol(RF_describe)), DataFrames.names(RF_describe))"
   ]
  },
  {
   "cell_type": "code",
   "execution_count": 197,
   "id": "sound-backing",
   "metadata": {},
   "outputs": [
    {
     "data": {
      "text/plain": [
       "annual_return (generic function with 1 method)"
      ]
     },
     "execution_count": 197,
     "metadata": {},
     "output_type": "execute_result"
    }
   ],
   "source": [
    "function annual_return(database)\n",
    "    investment = 1\n",
    "    for i in collect(1:1:12)\n",
    "        investment = investment*(1+database[i,\"target_mean\"]/100)\n",
    "    end\n",
    "    ret = round((investment-1)*100, digits = 2)\n",
    "    return ret\n",
    "end"
   ]
  },
  {
   "cell_type": "code",
   "execution_count": 198,
   "id": "yellow-newsletter",
   "metadata": {},
   "outputs": [
    {
     "data": {
      "text/plain": [
       "return_rate (generic function with 1 method)"
      ]
     },
     "execution_count": 198,
     "metadata": {},
     "output_type": "execute_result"
    }
   ],
   "source": [
    "function return_rate(database)\n",
    "    investment = 1\n",
    "    for i in collect(1:1:size(database,1))\n",
    "        investment = investment*(1+database[i,\"target_mean\"]/100)\n",
    "    end\n",
    "    ret = round((investment-1)*100, digits = 2)\n",
    "    return ret\n",
    "end"
   ]
  },
  {
   "cell_type": "code",
   "execution_count": null,
   "id": "unlike-circus",
   "metadata": {},
   "outputs": [],
   "source": [
    "function sharpe(r, r_f, std)\n",
    "    sh = (r - r_f)/std\n",
    "    return sh\n",
    "end"
   ]
  },
  {
   "cell_type": "code",
   "execution_count": 259,
   "id": "russian-tourism",
   "metadata": {},
   "outputs": [
    {
     "data": {
      "text/plain": [
       "Any[]"
      ]
     },
     "execution_count": 259,
     "metadata": {},
     "output_type": "execute_result"
    }
   ],
   "source": [
    "Opis = [\"Okres 1 - 12\", \"Okres 13 - 24\", \"Okres 24 - 36\", \"Okres 37 - 47\", \"Okres 1-36\", \"Okres 1-47 \"]\n",
    "DT_zwrot = []\n",
    "DT_std = []\n",
    "RF_zwrot = []\n",
    "RF_std = []\n",
    "risk_free = [1.88, 2.5, 1.57, 0.12, 1.98, 1.51]\n",
    "DT_sharpe = []\n",
    "RF_sharpe = []"
   ]
  },
  {
   "cell_type": "code",
   "execution_count": null,
   "id": "continent-session",
   "metadata": {},
   "outputs": [],
   "source": [
    "push!(DT_zwrot, return_rate(DT_eval[1:12,:]))\n",
    "push!(DT_zwrot,return_rate(DT_eval[13:24,:]))\n",
    "push!(DT_zwrot,return_rate(DT_eval[25:36,:]))\n",
    "push!(DT_zwrot,return_rate(DT_eval[37:47,:]))\n",
    "push!(DT_zwrot,return_rate(DT_eval[1:36,:]))\n",
    "push!(DT_zwrot,return_rate(DT_eval[1:47,:]));"
   ]
  },
  {
   "cell_type": "code",
   "execution_count": null,
   "id": "unusual-suffering",
   "metadata": {},
   "outputs": [],
   "source": [
    "push!(DT_std, round(Statistics.std(Array(DT_eval[1:12,:target_mean])), digits = 2))\n",
    "push!(DT_std, round(Statistics.std(Array(DT_eval[13:24,:target_mean])), digits = 2))\n",
    "push!(DT_std, round(Statistics.std(Array(DT_eval[25:36,:target_mean])), digits = 2))\n",
    "push!(DT_std, round(Statistics.std(Array(DT_eval[37:47,:target_mean])), digits = 2))\n",
    "push!(DT_std, round(Statistics.std(Array(DT_eval[1:36,:target_mean])), digits = 2))\n",
    "push!(DT_std, round(Statistics.std(Array(DT_eval[1:47,:target_mean])), digits = 2));"
   ]
  },
  {
   "cell_type": "code",
   "execution_count": null,
   "id": "incredible-friend",
   "metadata": {},
   "outputs": [],
   "source": [
    "push!(RF_zwrot, return_rate(RF_eval[1:12,:]))\n",
    "push!(RF_zwrot,return_rate(RF_eval[13:24,:]))\n",
    "push!(RF_zwrot,return_rate(RF_eval[25:36,:]))\n",
    "push!(RF_zwrot,return_rate(RF_eval[37:47,:]))\n",
    "push!(RF_zwrot,return_rate(RF_eval[1:36,:]))\n",
    "push!(RF_zwrot,return_rate(RF_eval[1:47,:]));"
   ]
  },
  {
   "cell_type": "code",
   "execution_count": null,
   "id": "collect-influence",
   "metadata": {},
   "outputs": [],
   "source": [
    "push!(RF_std, round(Statistics.std(Array(RF_eval[1:12,:target_mean])), digits = 2))\n",
    "push!(RF_std, round(Statistics.std(Array(RF_eval[13:24,:target_mean])), digits = 2))\n",
    "push!(RF_std, round(Statistics.std(Array(RF_eval[25:36,:target_mean])), digits = 2))\n",
    "push!(RF_std, round(Statistics.std(Array(RF_eval[37:47,:target_mean])), digits = 2))\n",
    "push!(RF_std, round(Statistics.std(Array(RF_eval[1:36,:target_mean])), digits = 2))\n",
    "push!(RF_std, round(Statistics.std(Array(RF_eval[1:47,:target_mean])), digits = 2));"
   ]
  },
  {
   "cell_type": "code",
   "execution_count": 283,
   "id": "educational-ocean",
   "metadata": {},
   "outputs": [
    {
     "data": {
      "text/plain": [
       "6-element Vector{Any}:\n",
       "  6.005934718100891\n",
       "  3.3239202657807314\n",
       "  9.578814627994957\n",
       " 11.638738127544098\n",
       " 26.777414075286416\n",
       " 67.31414267834793"
      ]
     },
     "execution_count": 283,
     "metadata": {},
     "output_type": "execute_result"
    }
   ],
   "source": [
    "for i in 1:1:length(RF_zwrot)\n",
    "    out = sharpe(RF_zwrot[i], risk_free[i], RF_std[i])\n",
    "    push!(RF_sharpe, out)\n",
    "end\n",
    "RF_sharpe"
   ]
  },
  {
   "cell_type": "code",
   "execution_count": 278,
   "id": "distinct-international",
   "metadata": {},
   "outputs": [
    {
     "data": {
      "text/plain": [
       "6-element Vector{Any}:\n",
       "  5.560493827160494\n",
       "  2.5085714285714285\n",
       "  7.745501285347043\n",
       "  6.258091286307053\n",
       " 20.214780600461893\n",
       " 29.99599037690457"
      ]
     },
     "execution_count": 278,
     "metadata": {},
     "output_type": "execute_result"
    }
   ],
   "source": [
    "for i in 1:1:length(DT_zwrot)\n",
    "    out = sharpe(DT_zwrot[i], risk_free[i], DT_std[i])\n",
    "    push!(DT_sharpe, out)\n",
    "end\n",
    "DT_sharpe"
   ]
  },
  {
   "cell_type": "code",
   "execution_count": 288,
   "id": "identical-pharmacy",
   "metadata": {},
   "outputs": [
    {
     "data": {
      "text/html": [
       "<table class=\"data-frame\"><thead><tr><th></th><th>Opis</th><th>DT_zwrot</th><th>DT_std</th><th>DT_sharpe</th><th>RF_zwrot</th><th>RF_std</th><th>RF_sharpe</th><th>risk_free</th></tr><tr><th></th><th>Any</th><th>Any</th><th>Any</th><th>Any</th><th>Any</th><th>Any</th><th>Any</th><th>Any</th></tr></thead><tbody><p>6 rows × 8 columns</p><tr><th>1</th><td>Okres 1 - 12</td><td>24.4</td><td>4.05</td><td>5.56049</td><td>22.12</td><td>3.37</td><td>6.00593</td><td>1.88</td></tr><tr><th>2</th><td>Okres 13 - 24</td><td>15.67</td><td>5.25</td><td>2.50857</td><td>22.51</td><td>6.02</td><td>3.32392</td><td>2.5</td></tr><tr><th>3</th><td>Okres 24 - 36</td><td>31.7</td><td>3.89</td><td>7.7455</td><td>77.53</td><td>7.93</td><td>9.57881</td><td>1.57</td></tr><tr><th>4</th><td>Okres 37 - 47</td><td>150.94</td><td>24.1</td><td>6.25809</td><td>343.23</td><td>29.48</td><td>11.6387</td><td>0.12</td></tr><tr><th>5</th><td>Okres 1-36</td><td>89.51</td><td>4.33</td><td>20.2148</td><td>165.59</td><td>6.11</td><td>26.7774</td><td>1.98</td></tr><tr><th>6</th><td>Okres 1-47 </td><td>375.56</td><td>12.47</td><td>29.996</td><td>1077.19</td><td>15.98</td><td>67.3141</td><td>1.51</td></tr></tbody></table>"
      ],
      "text/latex": [
       "\\begin{tabular}{r|cccccccc}\n",
       "\t& Opis & DT\\_zwrot & DT\\_std & DT\\_sharpe & RF\\_zwrot & RF\\_std & RF\\_sharpe & risk\\_free\\\\\n",
       "\t\\hline\n",
       "\t& Any & Any & Any & Any & Any & Any & Any & Any\\\\\n",
       "\t\\hline\n",
       "\t1 & Okres 1 - 12 & 24.4 & 4.05 & 5.56049 & 22.12 & 3.37 & 6.00593 & 1.88 \\\\\n",
       "\t2 & Okres 13 - 24 & 15.67 & 5.25 & 2.50857 & 22.51 & 6.02 & 3.32392 & 2.5 \\\\\n",
       "\t3 & Okres 24 - 36 & 31.7 & 3.89 & 7.7455 & 77.53 & 7.93 & 9.57881 & 1.57 \\\\\n",
       "\t4 & Okres 37 - 47 & 150.94 & 24.1 & 6.25809 & 343.23 & 29.48 & 11.6387 & 0.12 \\\\\n",
       "\t5 & Okres 1-36 & 89.51 & 4.33 & 20.2148 & 165.59 & 6.11 & 26.7774 & 1.98 \\\\\n",
       "\t6 & Okres 1-47  & 375.56 & 12.47 & 29.996 & 1077.19 & 15.98 & 67.3141 & 1.51 \\\\\n",
       "\\end{tabular}\n"
      ],
      "text/plain": [
       "6×8 typename(DataFrame)\n",
       "│ Row │ Opis          │ DT_zwrot │ DT_std │ DT_sharpe │ RF_zwrot │ RF_std │ RF_sharpe │ risk_free │\n",
       "│     │ \u001b[90mAny\u001b[39m           │ \u001b[90mAny\u001b[39m      │ \u001b[90mAny\u001b[39m    │ \u001b[90mAny\u001b[39m       │ \u001b[90mAny\u001b[39m      │ \u001b[90mAny\u001b[39m    │ \u001b[90mAny\u001b[39m       │ \u001b[90mAny\u001b[39m       │\n",
       "├─────┼───────────────┼──────────┼────────┼───────────┼──────────┼────────┼───────────┼───────────┤\n",
       "│ 1   │ Okres 1 - 12  │ 24.4     │ 4.05   │ 5.56049   │ 22.12    │ 3.37   │ 6.00593   │ 1.88      │\n",
       "│ 2   │ Okres 13 - 24 │ 15.67    │ 5.25   │ 2.50857   │ 22.51    │ 6.02   │ 3.32392   │ 2.5       │\n",
       "│ 3   │ Okres 24 - 36 │ 31.7     │ 3.89   │ 7.7455    │ 77.53    │ 7.93   │ 9.57881   │ 1.57      │\n",
       "│ 4   │ Okres 37 - 47 │ 150.94   │ 24.1   │ 6.25809   │ 343.23   │ 29.48  │ 11.6387   │ 0.12      │\n",
       "│ 5   │ Okres 1-36    │ 89.51    │ 4.33   │ 20.2148   │ 165.59   │ 6.11   │ 26.7774   │ 1.98      │\n",
       "│ 6   │ Okres 1-47    │ 375.56   │ 12.47  │ 29.996    │ 1077.19  │ 15.98  │ 67.3141   │ 1.51      │"
      ]
     },
     "execution_count": 288,
     "metadata": {},
     "output_type": "execute_result"
    }
   ],
   "source": [
    "inwestycja = DataFrame(hcat(Opis, DT_zwrot, DT_std, DT_sharpe, RF_zwrot, RF_std, RF_sharpe, risk_free), \n",
    "    [\"Opis\", \"DT_zwrot\", \"DT_std\", \"DT_sharpe\", \"RF_zwrot\", \"RF_std\", \"RF_sharpe\", \"risk_free\"])"
   ]
  },
  {
   "cell_type": "code",
   "execution_count": 289,
   "id": "mighty-seafood",
   "metadata": {},
   "outputs": [],
   "source": [
    "XLSX.writetable(\"Inw_describe.xlsx\", collect(DataFrames.eachcol(inwestycja)), DataFrames.names(inwestycja))"
   ]
  },
  {
   "cell_type": "code",
   "execution_count": null,
   "id": "wicked-mercy",
   "metadata": {},
   "outputs": [],
   "source": []
  }
 ],
 "metadata": {
  "kernelspec": {
   "display_name": "Julia 1.6.2",
   "language": "julia",
   "name": "julia-1.6"
  },
  "language_info": {
   "file_extension": ".jl",
   "mimetype": "application/julia",
   "name": "julia",
   "version": "1.6.2"
  }
 },
 "nbformat": 4,
 "nbformat_minor": 5
}
